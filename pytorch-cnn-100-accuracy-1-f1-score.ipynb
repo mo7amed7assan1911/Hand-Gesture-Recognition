{
 "cells": [
  {
   "cell_type": "markdown",
   "id": "b8a9a3c9",
   "metadata": {
    "papermill": {
     "duration": 0.009908,
     "end_time": "2023-12-31T21:55:59.292263",
     "exception": false,
     "start_time": "2023-12-31T21:55:59.282355",
     "status": "completed"
    },
    "tags": []
   },
   "source": [
    "# Hand Gesture Recognition\n",
    "\n",
    "## Table of Contents\n",
    "<ul>\n",
    "<li><a href=\"#intro\">Introduction</a></li>\n",
    "<li><a href=\"#preprocessig\">Preprocessing</a></li>\n",
    "<li><a href=\"#eda\">Exploratory Data Analysis</a></li>\n",
    "<li><a href=\"#CNN\">CNN model</a></li>\n",
    "<li><a href=\"#evaluation\">Eavluation :: Got 1.0000 F1 Score</a></li>\n",
    "</ul>"
   ]
  },
  {
   "cell_type": "markdown",
   "id": "3d1c7687",
   "metadata": {
    "papermill": {
     "duration": 0.009039,
     "end_time": "2023-12-31T21:55:59.310765",
     "exception": false,
     "start_time": "2023-12-31T21:55:59.301726",
     "status": "completed"
    },
    "tags": []
   },
   "source": [
    "<a id='intro'></a>\n",
    "## Introduction\n",
    "\n",
    "##### Dataset Description \n",
    "\n",
    "> Dataset Structure: It follows the CSV format with labels and pixel values. Representing a multi-class problem, it includes 24 classes of American Sign Language letters (excluding J and Z, which involve motion gestures).\n",
    "\n",
    "> Size: The training set comprises 27,455 cases, and the test set includes 7,172 cases. This dataset is approximately half the size of the standard MNIST.\n",
    "\n",
    "> Image Format: Each training and test case represents a label (0-25) mapped to an alphabetic letter A-Z. The images are 28x28 pixels with grayscale values ranging from 0 to 255.\n",
    "\n",
    "> **You could find the dataset on kaggle [here](https://www.kaggle.com/datasets/datamunge/sign-language-mnist)**"
   ]
  },
  {
   "cell_type": "markdown",
   "id": "af99e0c5",
   "metadata": {
    "papermill": {
     "duration": 0.009194,
     "end_time": "2023-12-31T21:55:59.329415",
     "exception": false,
     "start_time": "2023-12-31T21:55:59.320221",
     "status": "completed"
    },
    "tags": []
   },
   "source": [
    "### Imports"
   ]
  },
  {
   "cell_type": "code",
   "execution_count": 1,
   "id": "ae6c469b",
   "metadata": {
    "execution": {
     "iopub.execute_input": "2023-12-31T21:55:59.349213Z",
     "iopub.status.busy": "2023-12-31T21:55:59.348880Z",
     "iopub.status.idle": "2023-12-31T21:56:03.998893Z",
     "shell.execute_reply": "2023-12-31T21:56:03.998047Z"
    },
    "papermill": {
     "duration": 4.662459,
     "end_time": "2023-12-31T21:56:04.001132",
     "exception": false,
     "start_time": "2023-12-31T21:55:59.338673",
     "status": "completed"
    },
    "tags": []
   },
   "outputs": [
    {
     "name": "stderr",
     "output_type": "stream",
     "text": [
      "/opt/conda/lib/python3.10/site-packages/scipy/__init__.py:146: UserWarning: A NumPy version >=1.16.5 and <1.23.0 is required for this version of SciPy (detected version 1.24.3\n",
      "  warnings.warn(f\"A NumPy version >={np_minversion} and <{np_maxversion}\"\n"
     ]
    }
   ],
   "source": [
    "import pandas as pd\n",
    "import numpy as np\n",
    "import matplotlib.pyplot as plt\n",
    "import os\n",
    "\n",
    "import torch\n",
    "import torch.nn as nn\n",
    "import torch.nn.functional as F\n",
    "from torch.utils.data import Dataset, DataLoader\n",
    "from sklearn.model_selection import train_test_split\n",
    "\n",
    "from tqdm import tqdm\n",
    "from copy import deepcopy"
   ]
  },
  {
   "cell_type": "code",
   "execution_count": 2,
   "id": "bb0543a9",
   "metadata": {
    "execution": {
     "iopub.execute_input": "2023-12-31T21:56:04.021735Z",
     "iopub.status.busy": "2023-12-31T21:56:04.021264Z",
     "iopub.status.idle": "2023-12-31T21:56:08.581213Z",
     "shell.execute_reply": "2023-12-31T21:56:08.580294Z"
    },
    "papermill": {
     "duration": 4.572686,
     "end_time": "2023-12-31T21:56:08.583617",
     "exception": false,
     "start_time": "2023-12-31T21:56:04.010931",
     "status": "completed"
    },
    "tags": []
   },
   "outputs": [
    {
     "data": {
      "text/html": [
       "<div>\n",
       "<style scoped>\n",
       "    .dataframe tbody tr th:only-of-type {\n",
       "        vertical-align: middle;\n",
       "    }\n",
       "\n",
       "    .dataframe tbody tr th {\n",
       "        vertical-align: top;\n",
       "    }\n",
       "\n",
       "    .dataframe thead th {\n",
       "        text-align: right;\n",
       "    }\n",
       "</style>\n",
       "<table border=\"1\" class=\"dataframe\">\n",
       "  <thead>\n",
       "    <tr style=\"text-align: right;\">\n",
       "      <th></th>\n",
       "      <th>label</th>\n",
       "      <th>pixel1</th>\n",
       "      <th>pixel2</th>\n",
       "      <th>pixel3</th>\n",
       "      <th>pixel4</th>\n",
       "      <th>pixel5</th>\n",
       "      <th>pixel6</th>\n",
       "      <th>pixel7</th>\n",
       "      <th>pixel8</th>\n",
       "      <th>pixel9</th>\n",
       "      <th>...</th>\n",
       "      <th>pixel775</th>\n",
       "      <th>pixel776</th>\n",
       "      <th>pixel777</th>\n",
       "      <th>pixel778</th>\n",
       "      <th>pixel779</th>\n",
       "      <th>pixel780</th>\n",
       "      <th>pixel781</th>\n",
       "      <th>pixel782</th>\n",
       "      <th>pixel783</th>\n",
       "      <th>pixel784</th>\n",
       "    </tr>\n",
       "  </thead>\n",
       "  <tbody>\n",
       "    <tr>\n",
       "      <th>0</th>\n",
       "      <td>3</td>\n",
       "      <td>107</td>\n",
       "      <td>118</td>\n",
       "      <td>127</td>\n",
       "      <td>134</td>\n",
       "      <td>139</td>\n",
       "      <td>143</td>\n",
       "      <td>146</td>\n",
       "      <td>150</td>\n",
       "      <td>153</td>\n",
       "      <td>...</td>\n",
       "      <td>207</td>\n",
       "      <td>207</td>\n",
       "      <td>207</td>\n",
       "      <td>207</td>\n",
       "      <td>206</td>\n",
       "      <td>206</td>\n",
       "      <td>206</td>\n",
       "      <td>204</td>\n",
       "      <td>203</td>\n",
       "      <td>202</td>\n",
       "    </tr>\n",
       "    <tr>\n",
       "      <th>1</th>\n",
       "      <td>6</td>\n",
       "      <td>155</td>\n",
       "      <td>157</td>\n",
       "      <td>156</td>\n",
       "      <td>156</td>\n",
       "      <td>156</td>\n",
       "      <td>157</td>\n",
       "      <td>156</td>\n",
       "      <td>158</td>\n",
       "      <td>158</td>\n",
       "      <td>...</td>\n",
       "      <td>69</td>\n",
       "      <td>149</td>\n",
       "      <td>128</td>\n",
       "      <td>87</td>\n",
       "      <td>94</td>\n",
       "      <td>163</td>\n",
       "      <td>175</td>\n",
       "      <td>103</td>\n",
       "      <td>135</td>\n",
       "      <td>149</td>\n",
       "    </tr>\n",
       "  </tbody>\n",
       "</table>\n",
       "<p>2 rows × 785 columns</p>\n",
       "</div>"
      ],
      "text/plain": [
       "   label  pixel1  pixel2  pixel3  pixel4  pixel5  pixel6  pixel7  pixel8  \\\n",
       "0      3     107     118     127     134     139     143     146     150   \n",
       "1      6     155     157     156     156     156     157     156     158   \n",
       "\n",
       "   pixel9  ...  pixel775  pixel776  pixel777  pixel778  pixel779  pixel780  \\\n",
       "0     153  ...       207       207       207       207       206       206   \n",
       "1     158  ...        69       149       128        87        94       163   \n",
       "\n",
       "   pixel781  pixel782  pixel783  pixel784  \n",
       "0       206       204       203       202  \n",
       "1       175       103       135       149  \n",
       "\n",
       "[2 rows x 785 columns]"
      ]
     },
     "execution_count": 2,
     "metadata": {},
     "output_type": "execute_result"
    }
   ],
   "source": [
    "# import os\n",
    "# current_directory = os.getcwd()\n",
    "\n",
    "# df_train = pd.read_csv(current_directory + '\\DataSource' + '\\sign_mnist_train.csv')\n",
    "# df_test = pd.read_csv(current_directory + '\\DataSource' + '\\sign_mnist_test.csv')\n",
    "# df_train.head(2)\n",
    "\n",
    "\n",
    "df_train = pd.read_csv(\"/kaggle/input/sign-language-mnist/sign_mnist_train/sign_mnist_train.csv\")\n",
    "df_test = pd.read_csv('/kaggle/input/sign-language-mnist/sign_mnist_test/sign_mnist_test.csv')\n",
    "df_train.head(2)"
   ]
  },
  {
   "cell_type": "markdown",
   "id": "d97ffb08",
   "metadata": {
    "papermill": {
     "duration": 0.009743,
     "end_time": "2023-12-31T21:56:08.603641",
     "exception": false,
     "start_time": "2023-12-31T21:56:08.593898",
     "status": "completed"
    },
    "tags": []
   },
   "source": [
    "> Noticed there is no class 9 > [0 ... 7,8,10, ...] so lets make all labels consistant;\n",
    "> by make them start from zero to 24"
   ]
  },
  {
   "cell_type": "code",
   "execution_count": 3,
   "id": "3bc4f362",
   "metadata": {
    "execution": {
     "iopub.execute_input": "2023-12-31T21:56:08.624123Z",
     "iopub.status.busy": "2023-12-31T21:56:08.623833Z",
     "iopub.status.idle": "2023-12-31T21:56:08.653022Z",
     "shell.execute_reply": "2023-12-31T21:56:08.652352Z"
    },
    "papermill": {
     "duration": 0.041579,
     "end_time": "2023-12-31T21:56:08.654840",
     "exception": false,
     "start_time": "2023-12-31T21:56:08.613261",
     "status": "completed"
    },
    "tags": []
   },
   "outputs": [],
   "source": [
    "df_train.label = df_train['label'].apply(lambda x: x - 1 if x > 9 else x)\n",
    "df_test.label = df_test['label'].apply(lambda x: x - 1 if x > 9 else x)"
   ]
  },
  {
   "cell_type": "code",
   "execution_count": 4,
   "id": "f2c92652",
   "metadata": {
    "execution": {
     "iopub.execute_input": "2023-12-31T21:56:08.675220Z",
     "iopub.status.busy": "2023-12-31T21:56:08.674939Z",
     "iopub.status.idle": "2023-12-31T21:56:08.679307Z",
     "shell.execute_reply": "2023-12-31T21:56:08.678509Z"
    },
    "papermill": {
     "duration": 0.016947,
     "end_time": "2023-12-31T21:56:08.681464",
     "exception": false,
     "start_time": "2023-12-31T21:56:08.664517",
     "status": "completed"
    },
    "tags": []
   },
   "outputs": [
    {
     "name": "stdout",
     "output_type": "stream",
     "text": [
      "Shape of Train dataSet is: (27455, 785)\n",
      "Shape of Validation dataSet is: (7172, 785)\n"
     ]
    }
   ],
   "source": [
    "print(f'Shape of Train dataSet is: {df_train.shape}')\n",
    "print(f'Shape of Validation dataSet is: {df_test.shape}')"
   ]
  },
  {
   "cell_type": "markdown",
   "id": "08dbd767",
   "metadata": {
    "papermill": {
     "duration": 0.009555,
     "end_time": "2023-12-31T21:56:08.701452",
     "exception": false,
     "start_time": "2023-12-31T21:56:08.691897",
     "status": "completed"
    },
    "tags": []
   },
   "source": [
    "<a id='preprocessing'></a>\n",
    "### Data preprocessing"
   ]
  },
  {
   "cell_type": "markdown",
   "id": "5b922beb",
   "metadata": {
    "papermill": {
     "duration": 0.009609,
     "end_time": "2023-12-31T21:56:08.720874",
     "exception": false,
     "start_time": "2023-12-31T21:56:08.711265",
     "status": "completed"
    },
    "tags": []
   },
   "source": [
    "> Making readable labels"
   ]
  },
  {
   "cell_type": "code",
   "execution_count": 5,
   "id": "0f9210f6",
   "metadata": {
    "execution": {
     "iopub.execute_input": "2023-12-31T21:56:08.741385Z",
     "iopub.status.busy": "2023-12-31T21:56:08.741097Z",
     "iopub.status.idle": "2023-12-31T21:56:08.745089Z",
     "shell.execute_reply": "2023-12-31T21:56:08.744256Z"
    },
    "papermill": {
     "duration": 0.016507,
     "end_time": "2023-12-31T21:56:08.747094",
     "exception": false,
     "start_time": "2023-12-31T21:56:08.730587",
     "status": "completed"
    },
    "tags": []
   },
   "outputs": [],
   "source": [
    "import string\n",
    "Alphabet_labels = list(string.ascii_letters)"
   ]
  },
  {
   "cell_type": "markdown",
   "id": "4453bd46",
   "metadata": {
    "papermill": {
     "duration": 0.009439,
     "end_time": "2023-12-31T21:56:08.766223",
     "exception": false,
     "start_time": "2023-12-31T21:56:08.756784",
     "status": "completed"
    },
    "tags": []
   },
   "source": [
    "> Converting images into shape of w x h"
   ]
  },
  {
   "cell_type": "code",
   "execution_count": 6,
   "id": "4e56711c",
   "metadata": {
    "execution": {
     "iopub.execute_input": "2023-12-31T21:56:08.786669Z",
     "iopub.status.busy": "2023-12-31T21:56:08.786381Z",
     "iopub.status.idle": "2023-12-31T21:56:08.791425Z",
     "shell.execute_reply": "2023-12-31T21:56:08.790638Z"
    },
    "papermill": {
     "duration": 0.017421,
     "end_time": "2023-12-31T21:56:08.793319",
     "exception": false,
     "start_time": "2023-12-31T21:56:08.775898",
     "status": "completed"
    },
    "tags": []
   },
   "outputs": [],
   "source": [
    "def vector_of_pixels_to_image(pixels):\n",
    "    imgWidth = int(np.sqrt(pixels.shape[1]))\n",
    "    \n",
    "    x = pixels / 255\n",
    "    print(f'Shape befor resizing: {len(x)}')\n",
    "    x = x.values.reshape(-1, imgWidth, imgWidth)\n",
    "    print(f'Shape after resizing: {x.shape}')\n",
    "    \n",
    "    return x"
   ]
  },
  {
   "cell_type": "code",
   "execution_count": 7,
   "id": "cab8ac99",
   "metadata": {
    "execution": {
     "iopub.execute_input": "2023-12-31T21:56:08.813990Z",
     "iopub.status.busy": "2023-12-31T21:56:08.813714Z",
     "iopub.status.idle": "2023-12-31T21:56:09.022023Z",
     "shell.execute_reply": "2023-12-31T21:56:09.020947Z"
    },
    "papermill": {
     "duration": 0.221641,
     "end_time": "2023-12-31T21:56:09.024667",
     "exception": false,
     "start_time": "2023-12-31T21:56:08.803026",
     "status": "completed"
    },
    "tags": []
   },
   "outputs": [],
   "source": [
    "x_train, x_val, y_train, y_val = train_test_split(df_train.iloc[:, 1:], df_train.label)\n",
    "x_test, y_test = df_test.iloc[:, 1:], df_test.label"
   ]
  },
  {
   "cell_type": "code",
   "execution_count": 8,
   "id": "7a33932c",
   "metadata": {
    "execution": {
     "iopub.execute_input": "2023-12-31T21:56:09.046330Z",
     "iopub.status.busy": "2023-12-31T21:56:09.046027Z",
     "iopub.status.idle": "2023-12-31T21:56:09.082845Z",
     "shell.execute_reply": "2023-12-31T21:56:09.081855Z"
    },
    "papermill": {
     "duration": 0.050018,
     "end_time": "2023-12-31T21:56:09.085081",
     "exception": false,
     "start_time": "2023-12-31T21:56:09.035063",
     "status": "completed"
    },
    "tags": []
   },
   "outputs": [
    {
     "name": "stdout",
     "output_type": "stream",
     "text": [
      "Shape befor resizing: 20591\n",
      "Shape after resizing: (20591, 28, 28)\n"
     ]
    }
   ],
   "source": [
    "x_train = vector_of_pixels_to_image(x_train)\n",
    "y_train = np.array(y_train)"
   ]
  },
  {
   "cell_type": "code",
   "execution_count": 9,
   "id": "eab5e861",
   "metadata": {
    "execution": {
     "iopub.execute_input": "2023-12-31T21:56:09.106441Z",
     "iopub.status.busy": "2023-12-31T21:56:09.105918Z",
     "iopub.status.idle": "2023-12-31T21:56:09.124322Z",
     "shell.execute_reply": "2023-12-31T21:56:09.123148Z"
    },
    "papermill": {
     "duration": 0.031357,
     "end_time": "2023-12-31T21:56:09.126511",
     "exception": false,
     "start_time": "2023-12-31T21:56:09.095154",
     "status": "completed"
    },
    "tags": []
   },
   "outputs": [
    {
     "name": "stdout",
     "output_type": "stream",
     "text": [
      "Shape befor resizing: 6864\n",
      "Shape after resizing: (6864, 28, 28)\n"
     ]
    }
   ],
   "source": [
    "x_val = vector_of_pixels_to_image(x_val)\n",
    "y_val = np.array(y_val)"
   ]
  },
  {
   "cell_type": "code",
   "execution_count": 10,
   "id": "64bb74d0",
   "metadata": {
    "execution": {
     "iopub.execute_input": "2023-12-31T21:56:09.148145Z",
     "iopub.status.busy": "2023-12-31T21:56:09.147424Z",
     "iopub.status.idle": "2023-12-31T21:56:09.179231Z",
     "shell.execute_reply": "2023-12-31T21:56:09.178348Z"
    },
    "papermill": {
     "duration": 0.044927,
     "end_time": "2023-12-31T21:56:09.181628",
     "exception": false,
     "start_time": "2023-12-31T21:56:09.136701",
     "status": "completed"
    },
    "tags": []
   },
   "outputs": [
    {
     "name": "stdout",
     "output_type": "stream",
     "text": [
      "Shape befor resizing: 7172\n",
      "Shape after resizing: (7172, 28, 28)\n"
     ]
    }
   ],
   "source": [
    "x_test = vector_of_pixels_to_image(df_test.iloc[:, 1:])\n",
    "y_test = np.array(df_test.label)"
   ]
  },
  {
   "cell_type": "markdown",
   "id": "55042e33",
   "metadata": {
    "papermill": {
     "duration": 0.009856,
     "end_time": "2023-12-31T21:56:09.201799",
     "exception": false,
     "start_time": "2023-12-31T21:56:09.191943",
     "status": "completed"
    },
    "tags": []
   },
   "source": [
    "<a id='preprocessing'></a>\n",
    "### Exploratory Data Analysis (EDA)"
   ]
  },
  {
   "cell_type": "markdown",
   "id": "ecafe945",
   "metadata": {
    "papermill": {
     "duration": 0.009851,
     "end_time": "2023-12-31T21:56:09.221688",
     "exception": false,
     "start_time": "2023-12-31T21:56:09.211837",
     "status": "completed"
    },
    "tags": []
   },
   "source": [
    "#### Plotting unique signs"
   ]
  },
  {
   "cell_type": "code",
   "execution_count": 11,
   "id": "55408f25",
   "metadata": {
    "execution": {
     "iopub.execute_input": "2023-12-31T21:56:09.243058Z",
     "iopub.status.busy": "2023-12-31T21:56:09.242537Z",
     "iopub.status.idle": "2023-12-31T21:56:09.248583Z",
     "shell.execute_reply": "2023-12-31T21:56:09.247748Z"
    },
    "papermill": {
     "duration": 0.018682,
     "end_time": "2023-12-31T21:56:09.250365",
     "exception": false,
     "start_time": "2023-12-31T21:56:09.231683",
     "status": "completed"
    },
    "tags": []
   },
   "outputs": [],
   "source": [
    "y_unique = np.unique(y_train)\n",
    "unique_images = []\n",
    "for label in y_unique:\n",
    "    indices = np.where(y_train == label)[0]\n",
    "    unique_images.append(x_train[indices[0]])"
   ]
  },
  {
   "cell_type": "code",
   "execution_count": 12,
   "id": "9ce9105b",
   "metadata": {
    "execution": {
     "iopub.execute_input": "2023-12-31T21:56:09.271321Z",
     "iopub.status.busy": "2023-12-31T21:56:09.271046Z",
     "iopub.status.idle": "2023-12-31T21:56:10.913513Z",
     "shell.execute_reply": "2023-12-31T21:56:10.912591Z"
    },
    "papermill": {
     "duration": 1.655121,
     "end_time": "2023-12-31T21:56:10.915433",
     "exception": false,
     "start_time": "2023-12-31T21:56:09.260312",
     "status": "completed"
    },
    "tags": []
   },
   "outputs": [
    {
     "data": {
      "image/png": "[encoded data removed]",
      "text/plain": [
       "<Figure size 1000x700 with 24 Axes>"
      ]
     },
     "metadata": {},
     "output_type": "display_data"
    }
   ],
   "source": [
    "plt.figure(figsize=(10, 7))\n",
    "n = len(y_unique)\n",
    "for i in range(n):\n",
    "    ax = plt.subplot(4, n // 4, i + 1)\n",
    "    plt.imshow(unique_images[i], cmap='gray')\n",
    "    plt.title(f'{y_unique[i]} :: {Alphabet_labels[y_unique[i]]}')\n",
    "    plt.axis('off')"
   ]
  },
  {
   "cell_type": "markdown",
   "id": "e9394818",
   "metadata": {
    "papermill": {
     "duration": 0.010988,
     "end_time": "2023-12-31T21:56:10.980506",
     "exception": false,
     "start_time": "2023-12-31T21:56:10.969518",
     "status": "completed"
    },
    "tags": []
   },
   "source": [
    "> The distribution of the signs in our training set"
   ]
  },
  {
   "cell_type": "code",
   "execution_count": 13,
   "id": "e6de2257",
   "metadata": {
    "execution": {
     "iopub.execute_input": "2023-12-31T21:56:11.004209Z",
     "iopub.status.busy": "2023-12-31T21:56:11.003580Z",
     "iopub.status.idle": "2023-12-31T21:56:11.432179Z",
     "shell.execute_reply": "2023-12-31T21:56:11.430581Z"
    },
    "papermill": {
     "duration": 0.44283,
     "end_time": "2023-12-31T21:56:11.434251",
     "exception": false,
     "start_time": "2023-12-31T21:56:10.991421",
     "status": "completed"
    },
    "tags": []
   },
   "outputs": [
    {
     "data": {
      "image/png": "[encoded data removed]",
      "text/plain": [
       "<Figure size 1000x500 with 1 Axes>"
      ]
     },
     "metadata": {},
     "output_type": "display_data"
    }
   ],
   "source": [
    "plt.figure(figsize=(10, 5));\n",
    "df_train.label.value_counts().sort_index().plot(kind='bar');\n",
    "plt.title('Number of images per class');\n",
    "plt.ylabel('Number of images');\n",
    "plt.xlabel('Label');\n",
    "\n",
    "plt.xticks(ticks=df_train.label.unique(), labels=[Alphabet_labels[label] for label in df_train.label.unique()], rotation=0);"
   ]
  },
  {
   "cell_type": "markdown",
   "id": "6aac3d69",
   "metadata": {
    "papermill": {
     "duration": 0.011258,
     "end_time": "2023-12-31T21:56:11.457594",
     "exception": false,
     "start_time": "2023-12-31T21:56:11.446336",
     "status": "completed"
    },
    "tags": []
   },
   "source": [
    "> We notice that the distribution of all labels seems equal."
   ]
  },
  {
   "cell_type": "markdown",
   "id": "4aae13c3",
   "metadata": {
    "papermill": {
     "duration": 0.011096,
     "end_time": "2023-12-31T21:56:11.479993",
     "exception": false,
     "start_time": "2023-12-31T21:56:11.468897",
     "status": "completed"
    },
    "tags": []
   },
   "source": [
    "<a id='CNN'></a>\n",
    "### CNN Model"
   ]
  },
  {
   "cell_type": "code",
   "execution_count": 14,
   "id": "82a54775",
   "metadata": {
    "execution": {
     "iopub.execute_input": "2023-12-31T21:56:11.504220Z",
     "iopub.status.busy": "2023-12-31T21:56:11.503912Z",
     "iopub.status.idle": "2023-12-31T21:56:11.576814Z",
     "shell.execute_reply": "2023-12-31T21:56:11.575851Z"
    },
    "papermill": {
     "duration": 0.088221,
     "end_time": "2023-12-31T21:56:11.579623",
     "exception": false,
     "start_time": "2023-12-31T21:56:11.491402",
     "status": "completed"
    },
    "tags": []
   },
   "outputs": [],
   "source": [
    "from torch.utils.data import Dataset, dataloader\n",
    "\n",
    "class myDataSet(Dataset):\n",
    "    def __init__(self, x, y):\n",
    "        self.x = x\n",
    "        self.y = y\n",
    "    \n",
    "    def __len__(self):\n",
    "        return self.y.shape[0]\n",
    "    \n",
    "    def __getitem__(self, index):\n",
    "        return self.x[index], self.y[index]\n",
    "    \n",
    "\n",
    "x_train_tensors = torch.tensor(x_train, dtype=torch.float32).reshape(-1, 1, 28, 28)\n",
    "y_train_tensors = torch.tensor(y_train, dtype=torch.float32)\n",
    "\n",
    "x_val_tensors = torch.tensor(x_val, dtype=torch.float32).reshape(-1, 1, 28, 28)\n",
    "y_val_tensors = torch.tensor(y_val, dtype=torch.float32)\n",
    "\n",
    "x_test_tensors = torch.tensor(x_test, dtype=torch.float32).reshape(-1, 1, 28, 28)\n",
    "y_test_tensors = torch.tensor(y_test, dtype=torch.float32)\n",
    "\n",
    "train_dataset = myDataSet(x_train_tensors, y_train_tensors)\n",
    "val_dataset = myDataSet(x_val_tensors, y_val_tensors)\n",
    "test_dataset = myDataSet(x_test_tensors, y_test_tensors)\n",
    "\n",
    "\n",
    "train_loader = DataLoader(train_dataset, batch_size=32, shuffle=True)\n",
    "val_loader = DataLoader(val_dataset, batch_size=32, shuffle=True)\n",
    "test_loader = DataLoader(train_dataset, batch_size=32, shuffle=True)"
   ]
  },
  {
   "cell_type": "code",
   "execution_count": 15,
   "id": "f45e35b7",
   "metadata": {
    "execution": {
     "iopub.execute_input": "2023-12-31T21:56:11.605181Z",
     "iopub.status.busy": "2023-12-31T21:56:11.604869Z",
     "iopub.status.idle": "2023-12-31T21:56:14.450081Z",
     "shell.execute_reply": "2023-12-31T21:56:14.449002Z"
    },
    "papermill": {
     "duration": 2.860758,
     "end_time": "2023-12-31T21:56:14.453222",
     "exception": false,
     "start_time": "2023-12-31T21:56:11.592464",
     "status": "completed"
    },
    "tags": []
   },
   "outputs": [],
   "source": [
    "class hand_gesture_model(nn.Module):\n",
    "    def __init__(self):\n",
    "        super().__init__()\n",
    "        self.network = nn.Sequential(\n",
    "            \n",
    "            nn.Conv2d(1, 32, kernel_size = 3, padding = 1),\n",
    "            nn.ReLU(),\n",
    "            nn.Conv2d(32,64, kernel_size = 3, stride = 1, padding = 1),\n",
    "            nn.ReLU(),\n",
    "            nn.MaxPool2d(2,2),\n",
    "        \n",
    "            nn.Conv2d(64, 128, kernel_size = 3, stride = 1, padding = 1),\n",
    "            nn.ReLU(),\n",
    "            nn.Conv2d(128 ,128, kernel_size = 3, stride = 1, padding = 1),\n",
    "            nn.ReLU(),\n",
    "            nn.MaxPool2d(2,2),\n",
    "            \n",
    "            nn.Conv2d(128, 256, kernel_size = 3, stride = 1, padding = 1),\n",
    "            nn.ReLU(),\n",
    "            nn.Conv2d(256,256, kernel_size = 3, stride = 1, padding = 1),\n",
    "            nn.ReLU(),\n",
    "            nn.MaxPool2d(2,2),\n",
    "            \n",
    "            nn.Flatten(),\n",
    "            nn.Linear(2304,512),\n",
    "            nn.ReLU(),\n",
    "            nn.Linear(512, 256),\n",
    "            nn.ReLU(),\n",
    "            nn.Linear(256,128),\n",
    "            nn.ReLU(),\n",
    "            nn.Linear(128,24)\n",
    "            \n",
    "        )\n",
    "    \n",
    "    def forward(self, xb):\n",
    "        return self.network(xb)\n",
    "\n",
    "\n",
    "device = 'cuda' if torch.cuda.is_available() else 'cpu'\n",
    "model = hand_gesture_model().to(device)"
   ]
  },
  {
   "cell_type": "code",
   "execution_count": 16,
   "id": "d6c297e2",
   "metadata": {
    "execution": {
     "iopub.execute_input": "2023-12-31T21:56:14.485835Z",
     "iopub.status.busy": "2023-12-31T21:56:14.484746Z",
     "iopub.status.idle": "2023-12-31T21:56:14.491695Z",
     "shell.execute_reply": "2023-12-31T21:56:14.490812Z"
    },
    "papermill": {
     "duration": 0.025353,
     "end_time": "2023-12-31T21:56:14.493887",
     "exception": false,
     "start_time": "2023-12-31T21:56:14.468534",
     "status": "completed"
    },
    "tags": []
   },
   "outputs": [],
   "source": [
    "learning_rate = 3e-5\n",
    "num_epochs = 20\n",
    "patience = 3 # Number of epochs to wait if validation loss doesn't improve\n",
    "best_val_loss = float('inf')\n",
    "\n",
    "counter = 0\n",
    "\n",
    "optimizer = torch.optim.Adam(model.parameters(), lr=learning_rate, weight_decay=4e-5)\n",
    "criterion = nn.CrossEntropyLoss()\n",
    "\n",
    "scheduler = torch.optim.lr_scheduler.StepLR(optimizer, step_size=1, gamma=0.950)"
   ]
  },
  {
   "cell_type": "code",
   "execution_count": 17,
   "id": "e646d215",
   "metadata": {
    "execution": {
     "iopub.execute_input": "2023-12-31T21:56:14.521041Z",
     "iopub.status.busy": "2023-12-31T21:56:14.520714Z",
     "iopub.status.idle": "2023-12-31T21:56:14.529296Z",
     "shell.execute_reply": "2023-12-31T21:56:14.528502Z"
    },
    "papermill": {
     "duration": 0.022902,
     "end_time": "2023-12-31T21:56:14.531209",
     "exception": false,
     "start_time": "2023-12-31T21:56:14.508307",
     "status": "completed"
    },
    "tags": []
   },
   "outputs": [],
   "source": [
    "def train(model, optimizer, criterion, train_loader):\n",
    "    model.train()\n",
    "    running_loss = 0.0\n",
    "    for i, data in tqdm(enumerate(train_loader), desc='Training', total=len(train_loader)):\n",
    "        optimizer.zero_grad()\n",
    "        # Forward pass\n",
    "        x, y = data[0].to(device), data[1].to(device).to(torch.long)\n",
    "        \n",
    "        output = model(x)\n",
    "        \n",
    "        loss = criterion(output, y)\n",
    "        \n",
    "        # Backward pass\n",
    "        loss.backward()\n",
    "        \n",
    "        # Updating parameters\n",
    "        optimizer.step()\n",
    "\n",
    "        # Monitoring\n",
    "        running_loss += loss.item()\n",
    "        \n",
    "    return running_loss / len(train_loader)\n",
    "\n",
    "\n",
    "def evaluate(model, criterion, val_loader):\n",
    "    model.eval()\n",
    "    running_loss = 0.0\n",
    "    with torch.no_grad():\n",
    "        for data in val_loader:\n",
    "            x, y = data[0].to(device), data[1].to(device).to(torch.long)\n",
    "        \n",
    "            output = model(x)\n",
    "            # prediction = torch.argmax(output, axis=1)\n",
    "            \n",
    "            loss = criterion(output, y)\n",
    "                \n",
    "            running_loss += loss.item()\n",
    "            \n",
    "    return running_loss / len(val_loader)"
   ]
  },
  {
   "cell_type": "code",
   "execution_count": 18,
   "id": "27a28e82",
   "metadata": {
    "execution": {
     "iopub.execute_input": "2023-12-31T21:56:14.555171Z",
     "iopub.status.busy": "2023-12-31T21:56:14.554893Z",
     "iopub.status.idle": "2023-12-31T21:57:43.728309Z",
     "shell.execute_reply": "2023-12-31T21:57:43.727120Z"
    },
    "papermill": {
     "duration": 89.187956,
     "end_time": "2023-12-31T21:57:43.730555",
     "exception": false,
     "start_time": "2023-12-31T21:56:14.542599",
     "status": "completed"
    },
    "tags": []
   },
   "outputs": [
    {
     "name": "stderr",
     "output_type": "stream",
     "text": [
      "Training: 100%|██████████| 644/644 [00:09<00:00, 71.53it/s] \n"
     ]
    },
    {
     "name": "stdout",
     "output_type": "stream",
     "text": [
      "Validating ...\n",
      "Epoch [1/20], Train Loss: 2.8663, Validation Loss: 2.2124\n"
     ]
    },
    {
     "name": "stderr",
     "output_type": "stream",
     "text": [
      "Training: 100%|██████████| 644/644 [00:03<00:00, 171.29it/s]\n"
     ]
    },
    {
     "name": "stdout",
     "output_type": "stream",
     "text": [
      "Validating ...\n",
      "Epoch [2/20], Train Loss: 1.6458, Validation Loss: 1.2375\n"
     ]
    },
    {
     "name": "stderr",
     "output_type": "stream",
     "text": [
      "Training: 100%|██████████| 644/644 [00:03<00:00, 171.68it/s]\n"
     ]
    },
    {
     "name": "stdout",
     "output_type": "stream",
     "text": [
      "Validating ...\n",
      "Epoch [3/20], Train Loss: 0.9081, Validation Loss: 0.6739\n"
     ]
    },
    {
     "name": "stderr",
     "output_type": "stream",
     "text": [
      "Training: 100%|██████████| 644/644 [00:03<00:00, 171.38it/s]\n"
     ]
    },
    {
     "name": "stdout",
     "output_type": "stream",
     "text": [
      "Validating ...\n",
      "Epoch [4/20], Train Loss: 0.4777, Validation Loss: 0.4086\n"
     ]
    },
    {
     "name": "stderr",
     "output_type": "stream",
     "text": [
      "Training: 100%|██████████| 644/644 [00:03<00:00, 170.98it/s]\n"
     ]
    },
    {
     "name": "stdout",
     "output_type": "stream",
     "text": [
      "Validating ...\n",
      "Epoch [5/20], Train Loss: 0.2347, Validation Loss: 0.1678\n"
     ]
    },
    {
     "name": "stderr",
     "output_type": "stream",
     "text": [
      "Training: 100%|██████████| 644/644 [00:03<00:00, 170.22it/s]\n"
     ]
    },
    {
     "name": "stdout",
     "output_type": "stream",
     "text": [
      "Validating ...\n",
      "Epoch [6/20], Train Loss: 0.1203, Validation Loss: 0.1002\n"
     ]
    },
    {
     "name": "stderr",
     "output_type": "stream",
     "text": [
      "Training: 100%|██████████| 644/644 [00:03<00:00, 171.55it/s]\n"
     ]
    },
    {
     "name": "stdout",
     "output_type": "stream",
     "text": [
      "Validating ...\n",
      "Epoch [7/20], Train Loss: 0.0764, Validation Loss: 0.1239\n"
     ]
    },
    {
     "name": "stderr",
     "output_type": "stream",
     "text": [
      "Training: 100%|██████████| 644/644 [00:03<00:00, 169.94it/s]\n"
     ]
    },
    {
     "name": "stdout",
     "output_type": "stream",
     "text": [
      "Validating ...\n",
      "Epoch [8/20], Train Loss: 0.0511, Validation Loss: 0.0351\n"
     ]
    },
    {
     "name": "stderr",
     "output_type": "stream",
     "text": [
      "Training: 100%|██████████| 644/644 [00:03<00:00, 168.55it/s]\n"
     ]
    },
    {
     "name": "stdout",
     "output_type": "stream",
     "text": [
      "Validating ...\n",
      "Epoch [9/20], Train Loss: 0.0412, Validation Loss: 0.0271\n"
     ]
    },
    {
     "name": "stderr",
     "output_type": "stream",
     "text": [
      "Training: 100%|██████████| 644/644 [00:03<00:00, 170.03it/s]\n"
     ]
    },
    {
     "name": "stdout",
     "output_type": "stream",
     "text": [
      "Validating ...\n",
      "Epoch [10/20], Train Loss: 0.0232, Validation Loss: 0.0158\n"
     ]
    },
    {
     "name": "stderr",
     "output_type": "stream",
     "text": [
      "Training: 100%|██████████| 644/644 [00:03<00:00, 171.03it/s]\n"
     ]
    },
    {
     "name": "stdout",
     "output_type": "stream",
     "text": [
      "Validating ...\n",
      "Epoch [11/20], Train Loss: 0.0259, Validation Loss: 0.0170\n"
     ]
    },
    {
     "name": "stderr",
     "output_type": "stream",
     "text": [
      "Training: 100%|██████████| 644/644 [00:03<00:00, 171.44it/s]\n"
     ]
    },
    {
     "name": "stdout",
     "output_type": "stream",
     "text": [
      "Validating ...\n",
      "Epoch [12/20], Train Loss: 0.0187, Validation Loss: 0.0193\n",
      "Learning rate decreased!, now is 2.8499999999999998e-05\n"
     ]
    },
    {
     "name": "stderr",
     "output_type": "stream",
     "text": [
      "Training: 100%|██████████| 644/644 [00:03<00:00, 172.57it/s]\n"
     ]
    },
    {
     "name": "stdout",
     "output_type": "stream",
     "text": [
      "Validating ...\n",
      "Epoch [13/20], Train Loss: 0.0157, Validation Loss: 0.0033\n"
     ]
    },
    {
     "name": "stderr",
     "output_type": "stream",
     "text": [
      "Training: 100%|██████████| 644/644 [00:03<00:00, 171.65it/s]\n"
     ]
    },
    {
     "name": "stdout",
     "output_type": "stream",
     "text": [
      "Validating ...\n",
      "Epoch [14/20], Train Loss: 0.0120, Validation Loss: 0.0597\n"
     ]
    },
    {
     "name": "stderr",
     "output_type": "stream",
     "text": [
      "Training: 100%|██████████| 644/644 [00:03<00:00, 171.37it/s]\n"
     ]
    },
    {
     "name": "stdout",
     "output_type": "stream",
     "text": [
      "Validating ...\n",
      "Epoch [15/20], Train Loss: 0.0186, Validation Loss: 0.0026\n"
     ]
    },
    {
     "name": "stderr",
     "output_type": "stream",
     "text": [
      "Training: 100%|██████████| 644/644 [00:03<00:00, 170.87it/s]\n"
     ]
    },
    {
     "name": "stdout",
     "output_type": "stream",
     "text": [
      "Validating ...\n",
      "Epoch [16/20], Train Loss: 0.0021, Validation Loss: 0.0012\n"
     ]
    },
    {
     "name": "stderr",
     "output_type": "stream",
     "text": [
      "Training: 100%|██████████| 644/644 [00:03<00:00, 169.07it/s]\n"
     ]
    },
    {
     "name": "stdout",
     "output_type": "stream",
     "text": [
      "Validating ...\n",
      "Epoch [17/20], Train Loss: 0.0239, Validation Loss: 0.0875\n"
     ]
    },
    {
     "name": "stderr",
     "output_type": "stream",
     "text": [
      "Training: 100%|██████████| 644/644 [00:03<00:00, 170.00it/s]\n"
     ]
    },
    {
     "name": "stdout",
     "output_type": "stream",
     "text": [
      "Validating ...\n",
      "Epoch [18/20], Train Loss: 0.0108, Validation Loss: 0.0028\n",
      "Learning rate decreased!, now is 2.7074999999999997e-05\n"
     ]
    },
    {
     "name": "stderr",
     "output_type": "stream",
     "text": [
      "Training: 100%|██████████| 644/644 [00:03<00:00, 171.75it/s]\n"
     ]
    },
    {
     "name": "stdout",
     "output_type": "stream",
     "text": [
      "Validating ...\n",
      "Epoch [19/20], Train Loss: 0.0013, Validation Loss: 0.0011\n"
     ]
    },
    {
     "name": "stderr",
     "output_type": "stream",
     "text": [
      "Training: 100%|██████████| 644/644 [00:03<00:00, 170.72it/s]\n"
     ]
    },
    {
     "name": "stdout",
     "output_type": "stream",
     "text": [
      "Validating ...\n",
      "Epoch [20/20], Train Loss: 0.0155, Validation Loss: 0.0799\n"
     ]
    }
   ],
   "source": [
    "train_losses = []\n",
    "val_losses = []\n",
    "\n",
    "#Training\n",
    "for epoch in range(num_epochs):\n",
    "    # Training loop\n",
    "    train_loss = train(model, optimizer, criterion, train_loader)\n",
    "    train_losses.append(train_loss)\n",
    "    \n",
    "    # Evaluation loop\n",
    "    print('Validating ...')\n",
    "    val_loss = evaluate(model, criterion, val_loader)\n",
    "    val_losses.append(val_loss)\n",
    "    \n",
    "    # Printing and monitoring\n",
    "    print(f'Epoch [{epoch + 1}/{num_epochs}], Train Loss: {train_loss:.4f}, Validation Loss: {val_loss:.4f}')\n",
    "    \n",
    "    \n",
    "    # Early stopping\n",
    "    if val_loss < best_val_loss:\n",
    "        best_val_loss = val_loss\n",
    "        best_model = deepcopy(model)\n",
    "        # save_checkpoint(best_model, optimizer, epoch)\n",
    "        counter = 0\n",
    "        \n",
    "    else:\n",
    "        counter += 1\n",
    "        if counter >= patience:\n",
    "            print(f'Validation loss did not improve for {patience} epochs. Stopping early.')\n",
    "            break\n",
    "        if counter in range(2, 20, 2):\n",
    "            scheduler.step()\n",
    "            print(f\"Learning rate decreased!, now is {optimizer.state_dict()['param_groups'][0]['lr']}\")"
   ]
  },
  {
   "cell_type": "code",
   "execution_count": 19,
   "id": "85f9bf59",
   "metadata": {
    "execution": {
     "iopub.execute_input": "2023-12-31T21:57:43.879226Z",
     "iopub.status.busy": "2023-12-31T21:57:43.878432Z",
     "iopub.status.idle": "2023-12-31T21:57:44.102264Z",
     "shell.execute_reply": "2023-12-31T21:57:44.101384Z"
    },
    "papermill": {
     "duration": 0.299091,
     "end_time": "2023-12-31T21:57:44.104220",
     "exception": false,
     "start_time": "2023-12-31T21:57:43.805129",
     "status": "completed"
    },
    "tags": []
   },
   "outputs": [
    {
     "data": {
      "image/png": "[encoded data removed]",
      "text/plain": [
       "<Figure size 640x480 with 1 Axes>"
      ]
     },
     "metadata": {},
     "output_type": "display_data"
    }
   ],
   "source": [
    "plt.plot(train_losses, label=f'Best training    loss: {min(train_losses):.4f}');\n",
    "plt.plot(val_losses, label=f'Best validation loss: {min(val_losses):.4f}');\n",
    "plt.legend();"
   ]
  },
  {
   "cell_type": "code",
   "execution_count": 20,
   "id": "987d5149",
   "metadata": {
    "execution": {
     "iopub.execute_input": "2023-12-31T21:57:44.252317Z",
     "iopub.status.busy": "2023-12-31T21:57:44.251570Z",
     "iopub.status.idle": "2023-12-31T21:57:44.281989Z",
     "shell.execute_reply": "2023-12-31T21:57:44.281242Z"
    },
    "papermill": {
     "duration": 0.106247,
     "end_time": "2023-12-31T21:57:44.284003",
     "exception": false,
     "start_time": "2023-12-31T21:57:44.177756",
     "status": "completed"
    },
    "tags": []
   },
   "outputs": [],
   "source": [
    "checkpoint_dir = \"./checkpoints\"\n",
    "\n",
    "if not os.path.exists(checkpoint_dir):\n",
    "    os.makedirs(checkpoint_dir)\n",
    "    \n",
    "checkpoint_path = os.path.join(checkpoint_dir, f'Best_model_hg.pt')\n",
    "\n",
    "torch.save({\n",
    "    'model': best_model,\n",
    "    'model_state_dict': best_model.state_dict()\n",
    "}, checkpoint_path)"
   ]
  },
  {
   "cell_type": "markdown",
   "id": "f8add56e",
   "metadata": {
    "papermill": {
     "duration": 0.077031,
     "end_time": "2023-12-31T21:57:44.433906",
     "exception": false,
     "start_time": "2023-12-31T21:57:44.356875",
     "status": "completed"
    },
    "tags": []
   },
   "source": [
    "---"
   ]
  },
  {
   "cell_type": "code",
   "execution_count": 21,
   "id": "7ce43141",
   "metadata": {
    "execution": {
     "iopub.execute_input": "2023-12-31T21:57:44.597929Z",
     "iopub.status.busy": "2023-12-31T21:57:44.597211Z",
     "iopub.status.idle": "2023-12-31T21:57:44.601136Z",
     "shell.execute_reply": "2023-12-31T21:57:44.600287Z"
    },
    "papermill": {
     "duration": 0.080489,
     "end_time": "2023-12-31T21:57:44.603049",
     "exception": false,
     "start_time": "2023-12-31T21:57:44.522560",
     "status": "completed"
    },
    "tags": []
   },
   "outputs": [],
   "source": [
    "# checkpoint = torch.load('./checkpoints/Best_model_hg.pt')\n",
    "# model = checkpoint['model']\n",
    "# model.load_state_dict(checkpoint['model_state_dict'])"
   ]
  },
  {
   "cell_type": "markdown",
   "id": "909edea7",
   "metadata": {
    "papermill": {
     "duration": 0.072798,
     "end_time": "2023-12-31T21:57:44.748508",
     "exception": false,
     "start_time": "2023-12-31T21:57:44.675710",
     "status": "completed"
    },
    "tags": []
   },
   "source": [
    "<a id='evaluation'></a>\n",
    "### Evaluating the model with confusion matrix & f1 score"
   ]
  },
  {
   "cell_type": "code",
   "execution_count": 22,
   "id": "aa810fb9",
   "metadata": {
    "execution": {
     "iopub.execute_input": "2023-12-31T21:57:44.897135Z",
     "iopub.status.busy": "2023-12-31T21:57:44.896373Z",
     "iopub.status.idle": "2023-12-31T21:57:46.237178Z",
     "shell.execute_reply": "2023-12-31T21:57:46.236411Z"
    },
    "papermill": {
     "duration": 1.417217,
     "end_time": "2023-12-31T21:57:46.239628",
     "exception": false,
     "start_time": "2023-12-31T21:57:44.822411",
     "status": "completed"
    },
    "tags": []
   },
   "outputs": [],
   "source": [
    "best_model.eval()\n",
    "\n",
    "predicted_labels = []\n",
    "all_true_labels = []\n",
    "with torch.no_grad():\n",
    "    for i, data in enumerate(test_loader):\n",
    "        outputs = best_model(data[0].to(device))\n",
    "        _, predicted = torch.max(outputs, 1)\n",
    "        \n",
    "        predicted_labels.extend(predicted.cpu().numpy())\n",
    "        all_true_labels.extend(data[1])"
   ]
  },
  {
   "cell_type": "code",
   "execution_count": 23,
   "id": "1e16044f",
   "metadata": {
    "execution": {
     "iopub.execute_input": "2023-12-31T21:57:46.386592Z",
     "iopub.status.busy": "2023-12-31T21:57:46.386229Z",
     "iopub.status.idle": "2023-12-31T21:57:48.940997Z",
     "shell.execute_reply": "2023-12-31T21:57:48.940080Z"
    },
    "papermill": {
     "duration": 2.630197,
     "end_time": "2023-12-31T21:57:48.942898",
     "exception": false,
     "start_time": "2023-12-31T21:57:46.312701",
     "status": "completed"
    },
    "tags": []
   },
   "outputs": [
    {
     "data": {
      "image/png": "[encoded data removed]",
      "text/plain": [
       "<Figure size 1500x1500 with 2 Axes>"
      ]
     },
     "metadata": {},
     "output_type": "display_data"
    }
   ],
   "source": [
    "from sklearn.metrics import confusion_matrix\n",
    "import seaborn as sns\n",
    "\n",
    "plt.figure(figsize=(15, 15));\n",
    "cm = confusion_matrix(all_true_labels, predicted_labels);\n",
    "# sns.heatmap(cm, cmap=sns.cubehelix_palette(as_cmap=True));\n",
    "\n",
    "\n",
    "ax = sns.heatmap(cm, annot=True, linewidth=1,  fmt='d');\n",
    "ax.set(xlabel=\"prediction\", ylabel=\"actual label\");\n",
    "# ax.xaxis.tick_top()"
   ]
  },
  {
   "cell_type": "code",
   "execution_count": 24,
   "id": "9607871b",
   "metadata": {
    "execution": {
     "iopub.execute_input": "2023-12-31T21:57:49.094368Z",
     "iopub.status.busy": "2023-12-31T21:57:49.093689Z",
     "iopub.status.idle": "2023-12-31T21:57:49.988796Z",
     "shell.execute_reply": "2023-12-31T21:57:49.987724Z"
    },
    "papermill": {
     "duration": 0.972888,
     "end_time": "2023-12-31T21:57:49.990901",
     "exception": false,
     "start_time": "2023-12-31T21:57:49.018013",
     "status": "completed"
    },
    "tags": []
   },
   "outputs": [
    {
     "name": "stdout",
     "output_type": "stream",
     "text": [
      "The model has f1 score = 1.00000\n"
     ]
    }
   ],
   "source": [
    "from sklearn.metrics import f1_score\n",
    "\n",
    "f1_score = f1_score(all_true_labels, predicted_labels, average='weighted')\n",
    "print(f'The model has f1 score = {f1_score:.05f}')"
   ]
  },
  {
   "cell_type": "markdown",
   "id": "90d6487f",
   "metadata": {
    "papermill": {
     "duration": 0.073931,
     "end_time": "2023-12-31T21:57:50.139491",
     "exception": false,
     "start_time": "2023-12-31T21:57:50.065560",
     "status": "completed"
    },
    "tags": []
   },
   "source": [
    "### Testing the model on some data to see its response"
   ]
  },
  {
   "cell_type": "code",
   "execution_count": 25,
   "id": "ea984625",
   "metadata": {
    "execution": {
     "iopub.execute_input": "2023-12-31T21:57:50.288527Z",
     "iopub.status.busy": "2023-12-31T21:57:50.287701Z",
     "iopub.status.idle": "2023-12-31T21:57:51.289173Z",
     "shell.execute_reply": "2023-12-31T21:57:51.288270Z"
    },
    "papermill": {
     "duration": 1.078208,
     "end_time": "2023-12-31T21:57:51.291239",
     "exception": false,
     "start_time": "2023-12-31T21:57:50.213031",
     "status": "completed"
    },
    "tags": []
   },
   "outputs": [
    {
     "data": {
      "image/png": "[encoded data removed]",
      "text/plain": [
       "<Figure size 1500x500 with 10 Axes>"
      ]
     },
     "metadata": {},
     "output_type": "display_data"
    }
   ],
   "source": [
    "test_gen = iter(test_loader)\n",
    "images, labels = next(test_gen)\n",
    "\n",
    "plt.figure(figsize=(15, 5))\n",
    "for i in range(10):\n",
    "    ax = plt.subplot(2, 5, i + 1)\n",
    "    \n",
    "    img = images[i]\n",
    "    plt.imshow(img.reshape(28, 28), cmap='gray')\n",
    "    \n",
    "    output = best_model(img.to(device).reshape(1, 1, 28, 28))\n",
    "    y_pred = torch.argmax(output, dim=1).item()\n",
    "    \n",
    "    y_true = int(labels[i])\n",
    "    \n",
    "    plt.title(f\"y_true: {Alphabet_labels[y_true]} :: y_pred: {Alphabet_labels[y_pred]}\")\n",
    "    plt.axis('off')    "
   ]
  }
 ],
 "metadata": {
  "interpreter": {
   "hash": "6a8ab12e6b3ed4ebc099bdb603e12ed98d3b4a6cb4b5889ce835d57d89267821"
  },
  "kaggle": {
   "accelerator": "gpu",
   "dataSources": [
    {
     "datasetId": 3258,
     "sourceId": 5337,
     "sourceType": "datasetVersion"
    }
   ],
   "isGpuEnabled": true,
   "isInternetEnabled": true,
   "language": "python",
   "sourceType": "notebook"
  },
  "kernelspec": {
   "display_name": "Python 3",
   "language": "python",
   "name": "python3"
  },
  "language_info": {
   "codemirror_mode": {
    "name": "ipython",
    "version": 3
   },
   "file_extension": ".py",
   "mimetype": "text/x-python",
   "name": "python",
   "nbconvert_exporter": "python",
   "pygments_lexer": "ipython3",
   "version": "3.10.12"
  },
  "papermill": {
   "default_parameters": {},
   "duration": 117.577412,
   "end_time": "2023-12-31T21:57:53.555619",
   "environment_variables": {},
   "exception": null,
   "input_path": "__notebook__.ipynb",
   "output_path": "__notebook__.ipynb",
   "parameters": {},
   "start_time": "2023-12-31T21:55:55.978207",
   "version": "2.4.0"
  }
 },
 "nbformat": 4,
 "nbformat_minor": 5
}
