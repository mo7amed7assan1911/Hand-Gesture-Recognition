{
 "cells": [
  {
   "cell_type": "markdown",
   "id": "15c121b2",
   "metadata": {
    "papermill": {
     "duration": 0.010005,
     "end_time": "2023-12-31T21:25:45.071999",
     "exception": false,
     "start_time": "2023-12-31T21:25:45.061994",
     "status": "completed"
    },
    "tags": []
   },
   "source": [
    "# Hand Gesture Recognition\n",
    "\n",
    "## Table of Contents\n",
    "<ul>\n",
    "<li><a href=\"#intro\">Introduction</a></li>\n",
    "<li><a href=\"#preprocessig\">Preprocessing</a></li>\n",
    "<li><a href=\"#eda\">Exploratory Data Analysis</a></li>\n",
    "<li><a href=\"#CNN\">CNN model</a></li>\n",
    "<li><a href=\"#evaluation\">Eavluation :: Got 1.0000 F1 Score</a></li>\n",
    "</ul>"
   ]
  },
  {
   "cell_type": "markdown",
   "id": "b861066f",
   "metadata": {
    "papermill": {
     "duration": 0.009045,
     "end_time": "2023-12-31T21:25:45.090512",
     "exception": false,
     "start_time": "2023-12-31T21:25:45.081467",
     "status": "completed"
    },
    "tags": []
   },
   "source": [
    "<a id='intro'></a>\n",
    "## Introduction\n",
    "\n",
    "##### Dataset Description \n",
    "\n",
    "> Dataset Structure: It follows the CSV format with labels and pixel values. Representing a multi-class problem, it includes 24 classes of American Sign Language letters (excluding J and Z, which involve motion gestures).\n",
    "\n",
    "> Size: The training set comprises 27,455 cases, and the test set includes 7,172 cases. This dataset is approximately half the size of the standard MNIST.\n",
    "\n",
    "> Image Format: Each training and test case represents a label (0-25) mapped to an alphabetic letter A-Z. The images are 28x28 pixels with grayscale values ranging from 0 to 255.\n",
    "\n",
    "> **You could find the dataset on kaggle [here](https://www.kaggle.com/datasets/datamunge/sign-language-mnist)**"
   ]
  },
  {
   "cell_type": "markdown",
   "id": "d844d82f",
   "metadata": {
    "papermill": {
     "duration": 0.008996,
     "end_time": "2023-12-31T21:25:45.108786",
     "exception": false,
     "start_time": "2023-12-31T21:25:45.099790",
     "status": "completed"
    },
    "tags": []
   },
   "source": [
    "### Imports"
   ]
  },
  {
   "cell_type": "code",
   "execution_count": 1,
   "id": "30663d9d",
   "metadata": {
    "execution": {
     "iopub.execute_input": "2023-12-31T21:25:45.129065Z",
     "iopub.status.busy": "2023-12-31T21:25:45.128701Z",
     "iopub.status.idle": "2023-12-31T21:25:49.942786Z",
     "shell.execute_reply": "2023-12-31T21:25:49.941757Z"
    },
    "papermill": {
     "duration": 4.82697,
     "end_time": "2023-12-31T21:25:49.945093",
     "exception": false,
     "start_time": "2023-12-31T21:25:45.118123",
     "status": "completed"
    },
    "tags": []
   },
   "outputs": [
    {
     "name": "stderr",
     "output_type": "stream",
     "text": [
      "/opt/conda/lib/python3.10/site-packages/scipy/__init__.py:146: UserWarning: A NumPy version >=1.16.5 and <1.23.0 is required for this version of SciPy (detected version 1.24.3\n",
      "  warnings.warn(f\"A NumPy version >={np_minversion} and <{np_maxversion}\"\n"
     ]
    }
   ],
   "source": [
    "import pandas as pd\n",
    "import numpy as np\n",
    "import matplotlib.pyplot as plt\n",
    "import os\n",
    "\n",
    "import torch\n",
    "import torch.nn as nn\n",
    "import torch.nn.functional as F\n",
    "from torch.utils.data import Dataset, DataLoader\n",
    "from sklearn.model_selection import train_test_split\n",
    "\n",
    "from tqdm import tqdm\n",
    "from copy import deepcopy"
   ]
  },
  {
   "cell_type": "code",
   "execution_count": 2,
   "id": "d0509bb8",
   "metadata": {
    "execution": {
     "iopub.execute_input": "2023-12-31T21:25:49.965770Z",
     "iopub.status.busy": "2023-12-31T21:25:49.965377Z",
     "iopub.status.idle": "2023-12-31T21:25:54.439356Z",
     "shell.execute_reply": "2023-12-31T21:25:54.438506Z"
    },
    "papermill": {
     "duration": 4.486642,
     "end_time": "2023-12-31T21:25:54.441636",
     "exception": false,
     "start_time": "2023-12-31T21:25:49.954994",
     "status": "completed"
    },
    "tags": []
   },
   "outputs": [
    {
     "data": {
      "text/html": [
       "<div>\n",
       "<style scoped>\n",
       "    .dataframe tbody tr th:only-of-type {\n",
       "        vertical-align: middle;\n",
       "    }\n",
       "\n",
       "    .dataframe tbody tr th {\n",
       "        vertical-align: top;\n",
       "    }\n",
       "\n",
       "    .dataframe thead th {\n",
       "        text-align: right;\n",
       "    }\n",
       "</style>\n",
       "<table border=\"1\" class=\"dataframe\">\n",
       "  <thead>\n",
       "    <tr style=\"text-align: right;\">\n",
       "      <th></th>\n",
       "      <th>label</th>\n",
       "      <th>pixel1</th>\n",
       "      <th>pixel2</th>\n",
       "      <th>pixel3</th>\n",
       "      <th>pixel4</th>\n",
       "      <th>pixel5</th>\n",
       "      <th>pixel6</th>\n",
       "      <th>pixel7</th>\n",
       "      <th>pixel8</th>\n",
       "      <th>pixel9</th>\n",
       "      <th>...</th>\n",
       "      <th>pixel775</th>\n",
       "      <th>pixel776</th>\n",
       "      <th>pixel777</th>\n",
       "      <th>pixel778</th>\n",
       "      <th>pixel779</th>\n",
       "      <th>pixel780</th>\n",
       "      <th>pixel781</th>\n",
       "      <th>pixel782</th>\n",
       "      <th>pixel783</th>\n",
       "      <th>pixel784</th>\n",
       "    </tr>\n",
       "  </thead>\n",
       "  <tbody>\n",
       "    <tr>\n",
       "      <th>0</th>\n",
       "      <td>3</td>\n",
       "      <td>107</td>\n",
       "      <td>118</td>\n",
       "      <td>127</td>\n",
       "      <td>134</td>\n",
       "      <td>139</td>\n",
       "      <td>143</td>\n",
       "      <td>146</td>\n",
       "      <td>150</td>\n",
       "      <td>153</td>\n",
       "      <td>...</td>\n",
       "      <td>207</td>\n",
       "      <td>207</td>\n",
       "      <td>207</td>\n",
       "      <td>207</td>\n",
       "      <td>206</td>\n",
       "      <td>206</td>\n",
       "      <td>206</td>\n",
       "      <td>204</td>\n",
       "      <td>203</td>\n",
       "      <td>202</td>\n",
       "    </tr>\n",
       "    <tr>\n",
       "      <th>1</th>\n",
       "      <td>6</td>\n",
       "      <td>155</td>\n",
       "      <td>157</td>\n",
       "      <td>156</td>\n",
       "      <td>156</td>\n",
       "      <td>156</td>\n",
       "      <td>157</td>\n",
       "      <td>156</td>\n",
       "      <td>158</td>\n",
       "      <td>158</td>\n",
       "      <td>...</td>\n",
       "      <td>69</td>\n",
       "      <td>149</td>\n",
       "      <td>128</td>\n",
       "      <td>87</td>\n",
       "      <td>94</td>\n",
       "      <td>163</td>\n",
       "      <td>175</td>\n",
       "      <td>103</td>\n",
       "      <td>135</td>\n",
       "      <td>149</td>\n",
       "    </tr>\n",
       "  </tbody>\n",
       "</table>\n",
       "<p>2 rows × 785 columns</p>\n",
       "</div>"
      ],
      "text/plain": [
       "   label  pixel1  pixel2  pixel3  pixel4  pixel5  pixel6  pixel7  pixel8  \\\n",
       "0      3     107     118     127     134     139     143     146     150   \n",
       "1      6     155     157     156     156     156     157     156     158   \n",
       "\n",
       "   pixel9  ...  pixel775  pixel776  pixel777  pixel778  pixel779  pixel780  \\\n",
       "0     153  ...       207       207       207       207       206       206   \n",
       "1     158  ...        69       149       128        87        94       163   \n",
       "\n",
       "   pixel781  pixel782  pixel783  pixel784  \n",
       "0       206       204       203       202  \n",
       "1       175       103       135       149  \n",
       "\n",
       "[2 rows x 785 columns]"
      ]
     },
     "execution_count": 2,
     "metadata": {},
     "output_type": "execute_result"
    }
   ],
   "source": [
    "# import os\n",
    "# current_directory = os.getcwd()\n",
    "\n",
    "# df_train = pd.read_csv(current_directory + '\\DataSource' + '\\sign_mnist_train.csv')\n",
    "# df_test = pd.read_csv(current_directory + '\\DataSource' + '\\sign_mnist_test.csv')\n",
    "# df_train.head(2)\n",
    "\n",
    "\n",
    "df_train = pd.read_csv(\"/kaggle/input/sign-language-mnist/sign_mnist_train/sign_mnist_train.csv\")\n",
    "df_test = pd.read_csv('/kaggle/input/sign-language-mnist/sign_mnist_test/sign_mnist_test.csv')\n",
    "df_train.head(2)"
   ]
  },
  {
   "cell_type": "markdown",
   "id": "49013de6",
   "metadata": {
    "papermill": {
     "duration": 0.00981,
     "end_time": "2023-12-31T21:25:54.462029",
     "exception": false,
     "start_time": "2023-12-31T21:25:54.452219",
     "status": "completed"
    },
    "tags": []
   },
   "source": [
    "> Noticed there is no class 9 > [0 ... 7,8,10, ...] so lets make all labels consistant;\n",
    "> by make them start from zero to 24"
   ]
  },
  {
   "cell_type": "code",
   "execution_count": 3,
   "id": "9f8bbd62",
   "metadata": {
    "execution": {
     "iopub.execute_input": "2023-12-31T21:25:54.483228Z",
     "iopub.status.busy": "2023-12-31T21:25:54.482680Z",
     "iopub.status.idle": "2023-12-31T21:25:54.512631Z",
     "shell.execute_reply": "2023-12-31T21:25:54.511767Z"
    },
    "papermill": {
     "duration": 0.042509,
     "end_time": "2023-12-31T21:25:54.514545",
     "exception": false,
     "start_time": "2023-12-31T21:25:54.472036",
     "status": "completed"
    },
    "tags": []
   },
   "outputs": [],
   "source": [
    "df_train.label = df_train['label'].apply(lambda x: x - 1 if x > 9 else x)\n",
    "df_test.label = df_test['label'].apply(lambda x: x - 1 if x > 9 else x)"
   ]
  },
  {
   "cell_type": "code",
   "execution_count": 4,
   "id": "db88e065",
   "metadata": {
    "execution": {
     "iopub.execute_input": "2023-12-31T21:25:54.535339Z",
     "iopub.status.busy": "2023-12-31T21:25:54.535048Z",
     "iopub.status.idle": "2023-12-31T21:25:54.539377Z",
     "shell.execute_reply": "2023-12-31T21:25:54.538559Z"
    },
    "papermill": {
     "duration": 0.017129,
     "end_time": "2023-12-31T21:25:54.541426",
     "exception": false,
     "start_time": "2023-12-31T21:25:54.524297",
     "status": "completed"
    },
    "tags": []
   },
   "outputs": [
    {
     "name": "stdout",
     "output_type": "stream",
     "text": [
      "Shape of Train dataSet is: (27455, 785)\n",
      "Shape of Validation dataSet is: (7172, 785)\n"
     ]
    }
   ],
   "source": [
    "print(f'Shape of Train dataSet is: {df_train.shape}')\n",
    "print(f'Shape of Validation dataSet is: {df_test.shape}')"
   ]
  },
  {
   "cell_type": "markdown",
   "id": "c49d38e7",
   "metadata": {
    "papermill": {
     "duration": 0.009527,
     "end_time": "2023-12-31T21:25:54.561284",
     "exception": false,
     "start_time": "2023-12-31T21:25:54.551757",
     "status": "completed"
    },
    "tags": []
   },
   "source": [
    "<a id='preprocessing'></a>\n",
    "### Data preprocessing"
   ]
  },
  {
   "cell_type": "markdown",
   "id": "dee004fe",
   "metadata": {
    "papermill": {
     "duration": 0.009508,
     "end_time": "2023-12-31T21:25:54.580510",
     "exception": false,
     "start_time": "2023-12-31T21:25:54.571002",
     "status": "completed"
    },
    "tags": []
   },
   "source": [
    "> Making readable labels"
   ]
  },
  {
   "cell_type": "code",
   "execution_count": 5,
   "id": "246eef22",
   "metadata": {
    "execution": {
     "iopub.execute_input": "2023-12-31T21:25:54.601165Z",
     "iopub.status.busy": "2023-12-31T21:25:54.600885Z",
     "iopub.status.idle": "2023-12-31T21:25:54.604616Z",
     "shell.execute_reply": "2023-12-31T21:25:54.603834Z"
    },
    "papermill": {
     "duration": 0.016077,
     "end_time": "2023-12-31T21:25:54.606410",
     "exception": false,
     "start_time": "2023-12-31T21:25:54.590333",
     "status": "completed"
    },
    "tags": []
   },
   "outputs": [],
   "source": [
    "import string\n",
    "Alphabet_labels = list(string.ascii_letters)"
   ]
  },
  {
   "cell_type": "markdown",
   "id": "00468764",
   "metadata": {
    "papermill": {
     "duration": 0.009481,
     "end_time": "2023-12-31T21:25:54.625605",
     "exception": false,
     "start_time": "2023-12-31T21:25:54.616124",
     "status": "completed"
    },
    "tags": []
   },
   "source": [
    "> Converting images into shape of w x h"
   ]
  },
  {
   "cell_type": "code",
   "execution_count": 6,
   "id": "73a006e9",
   "metadata": {
    "execution": {
     "iopub.execute_input": "2023-12-31T21:25:54.646316Z",
     "iopub.status.busy": "2023-12-31T21:25:54.646082Z",
     "iopub.status.idle": "2023-12-31T21:25:54.650867Z",
     "shell.execute_reply": "2023-12-31T21:25:54.650038Z"
    },
    "papermill": {
     "duration": 0.017435,
     "end_time": "2023-12-31T21:25:54.652788",
     "exception": false,
     "start_time": "2023-12-31T21:25:54.635353",
     "status": "completed"
    },
    "tags": []
   },
   "outputs": [],
   "source": [
    "def vector_of_pixels_to_image(pixels):\n",
    "    imgWidth = int(np.sqrt(pixels.shape[1]))\n",
    "    \n",
    "    x = pixels / 255\n",
    "    print(f'Shape befor resizing: {len(x)}')\n",
    "    x = x.values.reshape(-1, imgWidth, imgWidth)\n",
    "    print(f'Shape after resizing: {x.shape}')\n",
    "    \n",
    "    return x"
   ]
  },
  {
   "cell_type": "code",
   "execution_count": 7,
   "id": "0ea740bf",
   "metadata": {
    "execution": {
     "iopub.execute_input": "2023-12-31T21:25:54.673186Z",
     "iopub.status.busy": "2023-12-31T21:25:54.672890Z",
     "iopub.status.idle": "2023-12-31T21:25:54.881366Z",
     "shell.execute_reply": "2023-12-31T21:25:54.880376Z"
    },
    "papermill": {
     "duration": 0.221262,
     "end_time": "2023-12-31T21:25:54.883793",
     "exception": false,
     "start_time": "2023-12-31T21:25:54.662531",
     "status": "completed"
    },
    "tags": []
   },
   "outputs": [],
   "source": [
    "x_train, x_val, y_train, y_val = train_test_split(df_train.iloc[:, 1:], df_train.label)\n",
    "x_test, y_test = df_test.iloc[:, 1:], df_test.label"
   ]
  },
  {
   "cell_type": "code",
   "execution_count": 8,
   "id": "e5bf1fc3",
   "metadata": {
    "execution": {
     "iopub.execute_input": "2023-12-31T21:25:54.905343Z",
     "iopub.status.busy": "2023-12-31T21:25:54.904752Z",
     "iopub.status.idle": "2023-12-31T21:25:54.942017Z",
     "shell.execute_reply": "2023-12-31T21:25:54.941035Z"
    },
    "papermill": {
     "duration": 0.050025,
     "end_time": "2023-12-31T21:25:54.944124",
     "exception": false,
     "start_time": "2023-12-31T21:25:54.894099",
     "status": "completed"
    },
    "tags": []
   },
   "outputs": [
    {
     "name": "stdout",
     "output_type": "stream",
     "text": [
      "Shape befor resizing: 20591\n",
      "Shape after resizing: (20591, 28, 28)\n"
     ]
    }
   ],
   "source": [
    "x_train = vector_of_pixels_to_image(x_train)\n",
    "y_train = np.array(y_train)"
   ]
  },
  {
   "cell_type": "code",
   "execution_count": 9,
   "id": "b4ef0ce3",
   "metadata": {
    "execution": {
     "iopub.execute_input": "2023-12-31T21:25:54.965206Z",
     "iopub.status.busy": "2023-12-31T21:25:54.964885Z",
     "iopub.status.idle": "2023-12-31T21:25:54.982000Z",
     "shell.execute_reply": "2023-12-31T21:25:54.981016Z"
    },
    "papermill": {
     "duration": 0.029762,
     "end_time": "2023-12-31T21:25:54.983958",
     "exception": false,
     "start_time": "2023-12-31T21:25:54.954196",
     "status": "completed"
    },
    "tags": []
   },
   "outputs": [
    {
     "name": "stdout",
     "output_type": "stream",
     "text": [
      "Shape befor resizing: 6864\n",
      "Shape after resizing: (6864, 28, 28)\n"
     ]
    }
   ],
   "source": [
    "x_val = vector_of_pixels_to_image(x_val)\n",
    "y_val = np.array(y_val)"
   ]
  },
  {
   "cell_type": "code",
   "execution_count": 10,
   "id": "15d70aec",
   "metadata": {
    "execution": {
     "iopub.execute_input": "2023-12-31T21:25:55.005761Z",
     "iopub.status.busy": "2023-12-31T21:25:55.005178Z",
     "iopub.status.idle": "2023-12-31T21:25:55.037660Z",
     "shell.execute_reply": "2023-12-31T21:25:55.036637Z"
    },
    "papermill": {
     "duration": 0.04559,
     "end_time": "2023-12-31T21:25:55.039773",
     "exception": false,
     "start_time": "2023-12-31T21:25:54.994183",
     "status": "completed"
    },
    "tags": []
   },
   "outputs": [
    {
     "name": "stdout",
     "output_type": "stream",
     "text": [
      "Shape befor resizing: 7172\n",
      "Shape after resizing: (7172, 28, 28)\n"
     ]
    }
   ],
   "source": [
    "x_test = vector_of_pixels_to_image(df_test.iloc[:, 1:])\n",
    "y_test = np.array(df_test.label)"
   ]
  },
  {
   "cell_type": "markdown",
   "id": "d2026895",
   "metadata": {
    "papermill": {
     "duration": 0.009836,
     "end_time": "2023-12-31T21:25:55.059949",
     "exception": false,
     "start_time": "2023-12-31T21:25:55.050113",
     "status": "completed"
    },
    "tags": []
   },
   "source": [
    "<a id='preprocessing'></a>\n",
    "### Exploratory Data Analysis (EDA)"
   ]
  },
  {
   "cell_type": "markdown",
   "id": "e431018b",
   "metadata": {
    "papermill": {
     "duration": 0.009787,
     "end_time": "2023-12-31T21:25:55.079725",
     "exception": false,
     "start_time": "2023-12-31T21:25:55.069938",
     "status": "completed"
    },
    "tags": []
   },
   "source": [
    "#### Plotting unique signs"
   ]
  },
  {
   "cell_type": "code",
   "execution_count": 11,
   "id": "b91ffc4e",
   "metadata": {
    "execution": {
     "iopub.execute_input": "2023-12-31T21:25:55.100815Z",
     "iopub.status.busy": "2023-12-31T21:25:55.100548Z",
     "iopub.status.idle": "2023-12-31T21:25:55.106371Z",
     "shell.execute_reply": "2023-12-31T21:25:55.105685Z"
    },
    "papermill": {
     "duration": 0.018507,
     "end_time": "2023-12-31T21:25:55.108247",
     "exception": false,
     "start_time": "2023-12-31T21:25:55.089740",
     "status": "completed"
    },
    "tags": []
   },
   "outputs": [],
   "source": [
    "y_unique = np.unique(y_train)\n",
    "unique_images = []\n",
    "for label in y_unique:\n",
    "    indices = np.where(y_train == label)[0]\n",
    "    unique_images.append(x_train[indices[0]])"
   ]
  },
  {
   "cell_type": "code",
   "execution_count": 12,
   "id": "cc4d9111",
   "metadata": {
    "execution": {
     "iopub.execute_input": "2023-12-31T21:25:55.129247Z",
     "iopub.status.busy": "2023-12-31T21:25:55.128961Z",
     "iopub.status.idle": "2023-12-31T21:25:56.742208Z",
     "shell.execute_reply": "2023-12-31T21:25:56.741294Z"
    },
    "papermill": {
     "duration": 1.62651,
     "end_time": "2023-12-31T21:25:56.744729",
     "exception": false,
     "start_time": "2023-12-31T21:25:55.118219",
     "status": "completed"
    },
    "tags": []
   },
   "outputs": [
    {
     "data": {
      "image/png": "[encoded data removed]",
      "text/plain": [
       "<Figure size 1000x700 with 24 Axes>"
      ]
     },
     "metadata": {},
     "output_type": "display_data"
    }
   ],
   "source": [
    "plt.figure(figsize=(10, 7))\n",
    "n = len(y_unique)\n",
    "for i in range(n):\n",
    "    ax = plt.subplot(4, n // 4, i + 1)\n",
    "    plt.imshow(unique_images[i], cmap='gray')\n",
    "    plt.title(f'{y_unique[i]} :: {Alphabet_labels[y_unique[i]]}')\n",
    "    plt.axis('off')"
   ]
  },
  {
   "cell_type": "markdown",
   "id": "ae910104",
   "metadata": {
    "papermill": {
     "duration": 0.010906,
     "end_time": "2023-12-31T21:25:56.806429",
     "exception": false,
     "start_time": "2023-12-31T21:25:56.795523",
     "status": "completed"
    },
    "tags": []
   },
   "source": [
    "> The distribution of the signs in our training set"
   ]
  },
  {
   "cell_type": "code",
   "execution_count": 13,
   "id": "d11ea1b8",
   "metadata": {
    "execution": {
     "iopub.execute_input": "2023-12-31T21:25:56.829747Z",
     "iopub.status.busy": "2023-12-31T21:25:56.829410Z",
     "iopub.status.idle": "2023-12-31T21:25:57.259858Z",
     "shell.execute_reply": "2023-12-31T21:25:57.258971Z"
    },
    "papermill": {
     "duration": 0.44455,
     "end_time": "2023-12-31T21:25:57.261927",
     "exception": false,
     "start_time": "2023-12-31T21:25:56.817377",
     "status": "completed"
    },
    "tags": []
   },
   "outputs": [
    {
     "data": {
      "image/png": "[encoded data removed]",
      "text/plain": [
       "<Figure size 1000x500 with 1 Axes>"
      ]
     },
     "metadata": {},
     "output_type": "display_data"
    }
   ],
   "source": [
    "plt.figure(figsize=(10, 5));\n",
    "df_train.label.value_counts().sort_index().plot(kind='bar');\n",
    "plt.title('Number of images per class');\n",
    "plt.ylabel('Number of images');\n",
    "plt.xlabel('Label');\n",
    "\n",
    "plt.xticks(ticks=df_train.label.unique(), labels=[Alphabet_labels[label] for label in df_train.label.unique()], rotation=0);"
   ]
  },
  {
   "cell_type": "markdown",
   "id": "3e19feac",
   "metadata": {
    "papermill": {
     "duration": 0.011556,
     "end_time": "2023-12-31T21:25:57.285103",
     "exception": false,
     "start_time": "2023-12-31T21:25:57.273547",
     "status": "completed"
    },
    "tags": []
   },
   "source": [
    "> We notice that the distribution of all labels seems equal."
   ]
  },
  {
   "cell_type": "markdown",
   "id": "d15b733a",
   "metadata": {
    "papermill": {
     "duration": 0.011274,
     "end_time": "2023-12-31T21:25:57.307669",
     "exception": false,
     "start_time": "2023-12-31T21:25:57.296395",
     "status": "completed"
    },
    "tags": []
   },
   "source": [
    "<a id='CNN'></a>\n",
    "### CNN Model"
   ]
  },
  {
   "cell_type": "code",
   "execution_count": 14,
   "id": "3f4e7cc9",
   "metadata": {
    "execution": {
     "iopub.execute_input": "2023-12-31T21:25:57.331885Z",
     "iopub.status.busy": "2023-12-31T21:25:57.331612Z",
     "iopub.status.idle": "2023-12-31T21:25:57.402102Z",
     "shell.execute_reply": "2023-12-31T21:25:57.401347Z"
    },
    "papermill": {
     "duration": 0.085226,
     "end_time": "2023-12-31T21:25:57.404248",
     "exception": false,
     "start_time": "2023-12-31T21:25:57.319022",
     "status": "completed"
    },
    "tags": []
   },
   "outputs": [],
   "source": [
    "from torch.utils.data import Dataset, dataloader\n",
    "\n",
    "class myDataSet(Dataset):\n",
    "    def __init__(self, x, y):\n",
    "        self.x = x\n",
    "        self.y = y\n",
    "    \n",
    "    def __len__(self):\n",
    "        return self.y.shape[0]\n",
    "    \n",
    "    def __getitem__(self, index):\n",
    "        return self.x[index], self.y[index]\n",
    "    \n",
    "\n",
    "x_train_tensors = torch.tensor(x_train, dtype=torch.float32).reshape(-1, 1, 28, 28)\n",
    "y_train_tensors = torch.tensor(y_train, dtype=torch.float32)\n",
    "\n",
    "x_val_tensors = torch.tensor(x_val, dtype=torch.float32).reshape(-1, 1, 28, 28)\n",
    "y_val_tensors = torch.tensor(y_val, dtype=torch.float32)\n",
    "\n",
    "x_test_tensors = torch.tensor(x_test, dtype=torch.float32).reshape(-1, 1, 28, 28)\n",
    "y_test_tensors = torch.tensor(y_test, dtype=torch.float32)\n",
    "\n",
    "train_dataset = myDataSet(x_train_tensors, y_train_tensors)\n",
    "val_dataset = myDataSet(x_val_tensors, y_val_tensors)\n",
    "test_dataset = myDataSet(x_test_tensors, y_test_tensors)\n",
    "\n",
    "\n",
    "train_loader = DataLoader(train_dataset, batch_size=32, shuffle=True)\n",
    "val_loader = DataLoader(val_dataset, batch_size=32, shuffle=True)\n",
    "test_loader = DataLoader(train_dataset, batch_size=32, shuffle=True)"
   ]
  },
  {
   "cell_type": "code",
   "execution_count": 15,
   "id": "ecf9398f",
   "metadata": {
    "execution": {
     "iopub.execute_input": "2023-12-31T21:25:57.428729Z",
     "iopub.status.busy": "2023-12-31T21:25:57.427944Z",
     "iopub.status.idle": "2023-12-31T21:26:00.305991Z",
     "shell.execute_reply": "2023-12-31T21:26:00.305231Z"
    },
    "papermill": {
     "duration": 2.892557,
     "end_time": "2023-12-31T21:26:00.308321",
     "exception": false,
     "start_time": "2023-12-31T21:25:57.415764",
     "status": "completed"
    },
    "tags": []
   },
   "outputs": [],
   "source": [
    "class hand_gesture_model(nn.Module):\n",
    "    def __init__(self):\n",
    "        super().__init__()\n",
    "        self.network = nn.Sequential(\n",
    "            \n",
    "            nn.Conv2d(1, 32, kernel_size = 3, padding = 1),\n",
    "            nn.ReLU(),\n",
    "            nn.Conv2d(32,64, kernel_size = 3, stride = 1, padding = 1),\n",
    "            nn.ReLU(),\n",
    "            nn.MaxPool2d(2,2),\n",
    "        \n",
    "            nn.Conv2d(64, 128, kernel_size = 3, stride = 1, padding = 1),\n",
    "            nn.ReLU(),\n",
    "            nn.Conv2d(128 ,128, kernel_size = 3, stride = 1, padding = 1),\n",
    "            nn.ReLU(),\n",
    "            nn.MaxPool2d(2,2),\n",
    "            \n",
    "            nn.Conv2d(128, 256, kernel_size = 3, stride = 1, padding = 1),\n",
    "            nn.ReLU(),\n",
    "            nn.Conv2d(256,256, kernel_size = 3, stride = 1, padding = 1),\n",
    "            nn.ReLU(),\n",
    "            nn.MaxPool2d(2,2),\n",
    "            \n",
    "            nn.Flatten(),\n",
    "            nn.Linear(2304,512),\n",
    "            nn.ReLU(),\n",
    "            nn.Linear(512, 256),\n",
    "            nn.ReLU(),\n",
    "            nn.Linear(256,128),\n",
    "            nn.ReLU(),\n",
    "            nn.Linear(128,24)\n",
    "            \n",
    "        )\n",
    "    \n",
    "    def forward(self, xb):\n",
    "        return self.network(xb)\n",
    "\n",
    "\n",
    "device = 'cuda' if torch.cuda.is_available() else 'cpu'\n",
    "model = hand_gesture_model().to(device)"
   ]
  },
  {
   "cell_type": "code",
   "execution_count": 16,
   "id": "0e11c40e",
   "metadata": {
    "execution": {
     "iopub.execute_input": "2023-12-31T21:26:00.333140Z",
     "iopub.status.busy": "2023-12-31T21:26:00.332827Z",
     "iopub.status.idle": "2023-12-31T21:26:00.338646Z",
     "shell.execute_reply": "2023-12-31T21:26:00.337832Z"
    },
    "papermill": {
     "duration": 0.020165,
     "end_time": "2023-12-31T21:26:00.340516",
     "exception": false,
     "start_time": "2023-12-31T21:26:00.320351",
     "status": "completed"
    },
    "tags": []
   },
   "outputs": [],
   "source": [
    "learning_rate = 3e-5\n",
    "num_epochs = 20\n",
    "patience = 3 # Number of epochs to wait if validation loss doesn't improve\n",
    "best_val_loss = float('inf')\n",
    "\n",
    "counter = 0\n",
    "\n",
    "optimizer = torch.optim.Adam(model.parameters(), lr=learning_rate, weight_decay=4e-5)\n",
    "criterion = nn.CrossEntropyLoss()\n",
    "\n",
    "scheduler = torch.optim.lr_scheduler.StepLR(optimizer, step_size=1, gamma=0.950)"
   ]
  },
  {
   "cell_type": "code",
   "execution_count": 17,
   "id": "bdbfbf63",
   "metadata": {
    "execution": {
     "iopub.execute_input": "2023-12-31T21:26:00.364879Z",
     "iopub.status.busy": "2023-12-31T21:26:00.364219Z",
     "iopub.status.idle": "2023-12-31T21:26:00.372970Z",
     "shell.execute_reply": "2023-12-31T21:26:00.372183Z"
    },
    "papermill": {
     "duration": 0.02286,
     "end_time": "2023-12-31T21:26:00.374921",
     "exception": false,
     "start_time": "2023-12-31T21:26:00.352061",
     "status": "completed"
    },
    "tags": []
   },
   "outputs": [],
   "source": [
    "def train(model, optimizer, criterion, train_loader):\n",
    "    model.train()\n",
    "    running_loss = 0.0\n",
    "    for i, data in tqdm(enumerate(train_loader), desc='Training', total=len(train_loader)):\n",
    "        optimizer.zero_grad()\n",
    "        # Forward pass\n",
    "        x, y = data[0].to(device), data[1].to(device).to(torch.long)\n",
    "        \n",
    "        output = model(x)\n",
    "        \n",
    "        loss = criterion(output, y)\n",
    "        \n",
    "        # Backward pass\n",
    "        loss.backward()\n",
    "        \n",
    "        # Updating parameters\n",
    "        optimizer.step()\n",
    "\n",
    "        # Monitoring\n",
    "        running_loss += loss.item()\n",
    "        \n",
    "    return running_loss / len(train_loader)\n",
    "\n",
    "\n",
    "def evaluate(model, criterion, val_loader):\n",
    "    model.eval()\n",
    "    running_loss = 0.0\n",
    "    with torch.no_grad():\n",
    "        for data in val_loader:\n",
    "            x, y = data[0].to(device), data[1].to(device).to(torch.long)\n",
    "        \n",
    "            output = model(x)\n",
    "            # prediction = torch.argmax(output, axis=1)\n",
    "            \n",
    "            loss = criterion(output, y)\n",
    "                \n",
    "            running_loss += loss.item()\n",
    "            \n",
    "    return running_loss / len(val_loader)"
   ]
  },
  {
   "cell_type": "code",
   "execution_count": 18,
   "id": "17c8604d",
   "metadata": {
    "execution": {
     "iopub.execute_input": "2023-12-31T21:26:00.399093Z",
     "iopub.status.busy": "2023-12-31T21:26:00.398594Z",
     "iopub.status.idle": "2023-12-31T21:27:08.929445Z",
     "shell.execute_reply": "2023-12-31T21:27:08.928273Z"
    },
    "papermill": {
     "duration": 68.54493,
     "end_time": "2023-12-31T21:27:08.931439",
     "exception": false,
     "start_time": "2023-12-31T21:26:00.386509",
     "status": "completed"
    },
    "tags": []
   },
   "outputs": [
    {
     "name": "stderr",
     "output_type": "stream",
     "text": [
      "Training: 100%|██████████| 644/644 [00:09<00:00, 70.89it/s] \n"
     ]
    },
    {
     "name": "stdout",
     "output_type": "stream",
     "text": [
      "Validating ...\n",
      "Epoch [1/20], Train Loss: 2.8398, Validation Loss: 2.0738\n"
     ]
    },
    {
     "name": "stderr",
     "output_type": "stream",
     "text": [
      "Training: 100%|██████████| 644/644 [00:03<00:00, 170.55it/s]\n"
     ]
    },
    {
     "name": "stdout",
     "output_type": "stream",
     "text": [
      "Validating ...\n",
      "Epoch [2/20], Train Loss: 1.2735, Validation Loss: 0.7463\n"
     ]
    },
    {
     "name": "stderr",
     "output_type": "stream",
     "text": [
      "Training: 100%|██████████| 644/644 [00:03<00:00, 171.14it/s]\n"
     ]
    },
    {
     "name": "stdout",
     "output_type": "stream",
     "text": [
      "Validating ...\n",
      "Epoch [3/20], Train Loss: 0.4852, Validation Loss: 0.3673\n"
     ]
    },
    {
     "name": "stderr",
     "output_type": "stream",
     "text": [
      "Training: 100%|██████████| 644/644 [00:03<00:00, 168.74it/s]\n"
     ]
    },
    {
     "name": "stdout",
     "output_type": "stream",
     "text": [
      "Validating ...\n",
      "Epoch [4/20], Train Loss: 0.2152, Validation Loss: 0.1592\n"
     ]
    },
    {
     "name": "stderr",
     "output_type": "stream",
     "text": [
      "Training: 100%|██████████| 644/644 [00:03<00:00, 171.34it/s]\n"
     ]
    },
    {
     "name": "stdout",
     "output_type": "stream",
     "text": [
      "Validating ...\n",
      "Epoch [5/20], Train Loss: 0.1097, Validation Loss: 0.0860\n"
     ]
    },
    {
     "name": "stderr",
     "output_type": "stream",
     "text": [
      "Training: 100%|██████████| 644/644 [00:03<00:00, 169.54it/s]\n"
     ]
    },
    {
     "name": "stdout",
     "output_type": "stream",
     "text": [
      "Validating ...\n",
      "Epoch [6/20], Train Loss: 0.0594, Validation Loss: 0.0697\n"
     ]
    },
    {
     "name": "stderr",
     "output_type": "stream",
     "text": [
      "Training: 100%|██████████| 644/644 [00:03<00:00, 171.97it/s]\n"
     ]
    },
    {
     "name": "stdout",
     "output_type": "stream",
     "text": [
      "Validating ...\n",
      "Epoch [7/20], Train Loss: 0.0489, Validation Loss: 0.0408\n"
     ]
    },
    {
     "name": "stderr",
     "output_type": "stream",
     "text": [
      "Training: 100%|██████████| 644/644 [00:03<00:00, 169.03it/s]\n"
     ]
    },
    {
     "name": "stdout",
     "output_type": "stream",
     "text": [
      "Validating ...\n",
      "Epoch [8/20], Train Loss: 0.0236, Validation Loss: 0.0643\n"
     ]
    },
    {
     "name": "stderr",
     "output_type": "stream",
     "text": [
      "Training: 100%|██████████| 644/644 [00:03<00:00, 171.28it/s]\n"
     ]
    },
    {
     "name": "stdout",
     "output_type": "stream",
     "text": [
      "Validating ...\n",
      "Epoch [9/20], Train Loss: 0.0262, Validation Loss: 0.0799\n",
      "Learning rate decreased!, now is 2.8499999999999998e-05\n"
     ]
    },
    {
     "name": "stderr",
     "output_type": "stream",
     "text": [
      "Training: 100%|██████████| 644/644 [00:03<00:00, 169.84it/s]\n"
     ]
    },
    {
     "name": "stdout",
     "output_type": "stream",
     "text": [
      "Validating ...\n",
      "Epoch [10/20], Train Loss: 0.0144, Validation Loss: 0.0074\n"
     ]
    },
    {
     "name": "stderr",
     "output_type": "stream",
     "text": [
      "Training: 100%|██████████| 644/644 [00:03<00:00, 167.88it/s]\n"
     ]
    },
    {
     "name": "stdout",
     "output_type": "stream",
     "text": [
      "Validating ...\n",
      "Epoch [11/20], Train Loss: 0.0416, Validation Loss: 0.0096\n"
     ]
    },
    {
     "name": "stderr",
     "output_type": "stream",
     "text": [
      "Training: 100%|██████████| 644/644 [00:03<00:00, 170.43it/s]\n"
     ]
    },
    {
     "name": "stdout",
     "output_type": "stream",
     "text": [
      "Validating ...\n",
      "Epoch [12/20], Train Loss: 0.0035, Validation Loss: 0.0033\n"
     ]
    },
    {
     "name": "stderr",
     "output_type": "stream",
     "text": [
      "Training: 100%|██████████| 644/644 [00:03<00:00, 170.98it/s]\n"
     ]
    },
    {
     "name": "stdout",
     "output_type": "stream",
     "text": [
      "Validating ...\n",
      "Epoch [13/20], Train Loss: 0.0173, Validation Loss: 0.0037\n"
     ]
    },
    {
     "name": "stderr",
     "output_type": "stream",
     "text": [
      "Training: 100%|██████████| 644/644 [00:03<00:00, 171.03it/s]\n"
     ]
    },
    {
     "name": "stdout",
     "output_type": "stream",
     "text": [
      "Validating ...\n",
      "Epoch [14/20], Train Loss: 0.0029, Validation Loss: 0.0598\n",
      "Learning rate decreased!, now is 2.7074999999999997e-05\n"
     ]
    },
    {
     "name": "stderr",
     "output_type": "stream",
     "text": [
      "Training: 100%|██████████| 644/644 [00:03<00:00, 169.51it/s]\n"
     ]
    },
    {
     "name": "stdout",
     "output_type": "stream",
     "text": [
      "Validating ...\n",
      "Epoch [15/20], Train Loss: 0.0284, Validation Loss: 0.0038\n",
      "Validation loss did not improve for 3 epochs. Stopping early.\n"
     ]
    }
   ],
   "source": [
    "train_losses = []\n",
    "val_losses = []\n",
    "\n",
    "#Training\n",
    "for epoch in range(num_epochs):\n",
    "    # Training loop\n",
    "    train_loss = train(model, optimizer, criterion, train_loader)\n",
    "    train_losses.append(train_loss)\n",
    "    \n",
    "    # Evaluation loop\n",
    "    print('Validating ...')\n",
    "    val_loss = evaluate(model, criterion, val_loader)\n",
    "    val_losses.append(val_loss)\n",
    "    \n",
    "    # Printing and monitoring\n",
    "    print(f'Epoch [{epoch + 1}/{num_epochs}], Train Loss: {train_loss:.4f}, Validation Loss: {val_loss:.4f}')\n",
    "    \n",
    "    \n",
    "    # Early stopping\n",
    "    if val_loss < best_val_loss:\n",
    "        best_val_loss = val_loss\n",
    "        best_model = deepcopy(model)\n",
    "        # save_checkpoint(best_model, optimizer, epoch)\n",
    "        counter = 0\n",
    "        \n",
    "    else:\n",
    "        counter += 1\n",
    "        if counter >= patience:\n",
    "            print(f'Validation loss did not improve for {patience} epochs. Stopping early.')\n",
    "            break\n",
    "        if counter in range(2, 20, 2):\n",
    "            scheduler.step()\n",
    "            print(f\"Learning rate decreased!, now is {optimizer.state_dict()['param_groups'][0]['lr']}\")"
   ]
  },
  {
   "cell_type": "code",
   "execution_count": 19,
   "id": "0040a598",
   "metadata": {
    "execution": {
     "iopub.execute_input": "2023-12-31T21:27:09.048494Z",
     "iopub.status.busy": "2023-12-31T21:27:09.048185Z",
     "iopub.status.idle": "2023-12-31T21:27:09.365731Z",
     "shell.execute_reply": "2023-12-31T21:27:09.364691Z"
    },
    "papermill": {
     "duration": 0.378271,
     "end_time": "2023-12-31T21:27:09.368056",
     "exception": false,
     "start_time": "2023-12-31T21:27:08.989785",
     "status": "completed"
    },
    "tags": []
   },
   "outputs": [
    {
     "data": {
      "image/png": "[encoded data removed]",
      "text/plain": [
       "<Figure size 640x480 with 1 Axes>"
      ]
     },
     "metadata": {},
     "output_type": "display_data"
    }
   ],
   "source": [
    "plt.plot(train_losses, label=f'Best training    loss: {min(train_losses):.4f}');\n",
    "plt.plot(val_losses, label=f'Best validation loss: {min(val_losses):.4f}');\n",
    "plt.legend();"
   ]
  },
  {
   "cell_type": "code",
   "execution_count": 20,
   "id": "bb337d32",
   "metadata": {
    "execution": {
     "iopub.execute_input": "2023-12-31T21:27:09.503175Z",
     "iopub.status.busy": "2023-12-31T21:27:09.502829Z",
     "iopub.status.idle": "2023-12-31T21:27:09.534746Z",
     "shell.execute_reply": "2023-12-31T21:27:09.533869Z"
    },
    "papermill": {
     "duration": 0.099491,
     "end_time": "2023-12-31T21:27:09.536732",
     "exception": false,
     "start_time": "2023-12-31T21:27:09.437241",
     "status": "completed"
    },
    "tags": []
   },
   "outputs": [],
   "source": [
    "checkpoint_dir = \"./checkpoints\"\n",
    "\n",
    "if not os.path.exists(checkpoint_dir):\n",
    "    os.makedirs(checkpoint_dir)\n",
    "    \n",
    "checkpoint_path = os.path.join(checkpoint_dir, f'Best_model_hg.pt')\n",
    "\n",
    "torch.save({\n",
    "    'model': best_model,\n",
    "    'model_state_dict': best_model.state_dict()\n",
    "}, checkpoint_path)"
   ]
  },
  {
   "cell_type": "markdown",
   "id": "95103aab",
   "metadata": {
    "papermill": {
     "duration": 0.057725,
     "end_time": "2023-12-31T21:27:09.652411",
     "exception": false,
     "start_time": "2023-12-31T21:27:09.594686",
     "status": "completed"
    },
    "tags": []
   },
   "source": [
    "---"
   ]
  },
  {
   "cell_type": "code",
   "execution_count": 21,
   "id": "ba7f7f4c",
   "metadata": {
    "execution": {
     "iopub.execute_input": "2023-12-31T21:27:09.769233Z",
     "iopub.status.busy": "2023-12-31T21:27:09.768916Z",
     "iopub.status.idle": "2023-12-31T21:27:09.772763Z",
     "shell.execute_reply": "2023-12-31T21:27:09.771913Z"
    },
    "papermill": {
     "duration": 0.064962,
     "end_time": "2023-12-31T21:27:09.774652",
     "exception": false,
     "start_time": "2023-12-31T21:27:09.709690",
     "status": "completed"
    },
    "tags": []
   },
   "outputs": [],
   "source": [
    "# checkpoint = torch.load('./checkpoints/Best_model_hg.pt')\n",
    "# model = checkpoint['model']\n",
    "# model.load_state_dict(checkpoint['model_state_dict'])"
   ]
  },
  {
   "cell_type": "markdown",
   "id": "29bcd8ec",
   "metadata": {
    "papermill": {
     "duration": 0.05748,
     "end_time": "2023-12-31T21:27:09.889455",
     "exception": false,
     "start_time": "2023-12-31T21:27:09.831975",
     "status": "completed"
    },
    "tags": []
   },
   "source": [
    "<a id='evaluation'></a>\n",
    "### Evaluating the model with confusion matrix & f1 score"
   ]
  },
  {
   "cell_type": "code",
   "execution_count": 22,
   "id": "06571dd8",
   "metadata": {
    "execution": {
     "iopub.execute_input": "2023-12-31T21:27:10.005519Z",
     "iopub.status.busy": "2023-12-31T21:27:10.004896Z",
     "iopub.status.idle": "2023-12-31T21:27:11.374964Z",
     "shell.execute_reply": "2023-12-31T21:27:11.374214Z"
    },
    "papermill": {
     "duration": 1.430546,
     "end_time": "2023-12-31T21:27:11.377180",
     "exception": false,
     "start_time": "2023-12-31T21:27:09.946634",
     "status": "completed"
    },
    "tags": []
   },
   "outputs": [],
   "source": [
    "best_model.eval()\n",
    "\n",
    "predicted_labels = []\n",
    "all_true_labels = []\n",
    "with torch.no_grad():\n",
    "    for i, data in enumerate(test_loader):\n",
    "        outputs = best_model(data[0].to(device))\n",
    "        _, predicted = torch.max(outputs, 1)\n",
    "        \n",
    "        predicted_labels.extend(predicted.cpu().numpy())\n",
    "        all_true_labels.extend(data[1])"
   ]
  },
  {
   "cell_type": "code",
   "execution_count": 23,
   "id": "b1f5fdb6",
   "metadata": {
    "execution": {
     "iopub.execute_input": "2023-12-31T21:27:11.495898Z",
     "iopub.status.busy": "2023-12-31T21:27:11.495582Z",
     "iopub.status.idle": "2023-12-31T21:27:13.993299Z",
     "shell.execute_reply": "2023-12-31T21:27:13.992349Z"
    },
    "papermill": {
     "duration": 2.560422,
     "end_time": "2023-12-31T21:27:13.996053",
     "exception": false,
     "start_time": "2023-12-31T21:27:11.435631",
     "status": "completed"
    },
    "tags": []
   },
   "outputs": [
    {
     "data": {
      "image/png": "[encoded data removed]",
      "text/plain": [
       "<Figure size 1500x1500 with 2 Axes>"
      ]
     },
     "metadata": {},
     "output_type": "display_data"
    }
   ],
   "source": [
    "from sklearn.metrics import confusion_matrix\n",
    "import seaborn as sns\n",
    "\n",
    "plt.figure(figsize=(15, 15));\n",
    "cm = confusion_matrix(all_true_labels, predicted_labels);\n",
    "# sns.heatmap(cm, cmap=sns.cubehelix_palette(as_cmap=True));\n",
    "\n",
    "\n",
    "ax = sns.heatmap(cm, annot=True, linewidth=1,  fmt='d');\n",
    "ax.set(xlabel=\"prediction\", ylabel=\"actual label\");\n",
    "# ax.xaxis.tick_top()"
   ]
  },
  {
   "cell_type": "code",
   "execution_count": 24,
   "id": "fdff8262",
   "metadata": {
    "execution": {
     "iopub.execute_input": "2023-12-31T21:27:14.116656Z",
     "iopub.status.busy": "2023-12-31T21:27:14.116357Z",
     "iopub.status.idle": "2023-12-31T21:27:15.060705Z",
     "shell.execute_reply": "2023-12-31T21:27:15.059608Z"
    },
    "papermill": {
     "duration": 1.006453,
     "end_time": "2023-12-31T21:27:15.062863",
     "exception": false,
     "start_time": "2023-12-31T21:27:14.056410",
     "status": "completed"
    },
    "tags": []
   },
   "outputs": [
    {
     "name": "stdout",
     "output_type": "stream",
     "text": [
      "The model has f1 score = 0.99971\n"
     ]
    }
   ],
   "source": [
    "from sklearn.metrics import f1_score\n",
    "\n",
    "f1_score = f1_score(all_true_labels, predicted_labels, average='weighted')\n",
    "print(f'The model has f1 score = {f1_score:.05f}')"
   ]
  },
  {
   "cell_type": "markdown",
   "id": "2e99f41e",
   "metadata": {
    "papermill": {
     "duration": 0.058621,
     "end_time": "2023-12-31T21:27:15.181199",
     "exception": false,
     "start_time": "2023-12-31T21:27:15.122578",
     "status": "completed"
    },
    "tags": []
   },
   "source": [
    "### Testing the model on some data to see its response"
   ]
  },
  {
   "cell_type": "code",
   "execution_count": 25,
   "id": "ff807603",
   "metadata": {
    "execution": {
     "iopub.execute_input": "2023-12-31T21:27:15.299956Z",
     "iopub.status.busy": "2023-12-31T21:27:15.299401Z",
     "iopub.status.idle": "2023-12-31T21:27:16.290120Z",
     "shell.execute_reply": "2023-12-31T21:27:16.289213Z"
    },
    "papermill": {
     "duration": 1.052499,
     "end_time": "2023-12-31T21:27:16.292383",
     "exception": false,
     "start_time": "2023-12-31T21:27:15.239884",
     "status": "completed"
    },
    "tags": []
   },
   "outputs": [
    {
     "data": {
      "image/png": "[encoded data removed]",
      "text/plain": [
       "<Figure size 1500x500 with 10 Axes>"
      ]
     },
     "metadata": {},
     "output_type": "display_data"
    }
   ],
   "source": [
    "test_gen = iter(test_loader)\n",
    "images, labels = next(test_gen)\n",
    "\n",
    "plt.figure(figsize=(15, 5))\n",
    "for i in range(10):\n",
    "    ax = plt.subplot(2, 5, i + 1)\n",
    "    \n",
    "    img = images[i]\n",
    "    plt.imshow(img.reshape(28, 28), cmap='gray')\n",
    "    \n",
    "    output = best_model(img.to(device).reshape(1, 1, 28, 28))\n",
    "    y_pred = torch.argmax(output, dim=1).item()\n",
    "    \n",
    "    y_true = int(labels[i])\n",
    "    \n",
    "    plt.title(f\"y_true: {Alphabet_labels[y_true]} :: y_pred: {Alphabet_labels[y_pred]}\")\n",
    "    plt.axis('off')    "
   ]
  }
 ],
 "metadata": {
  "interpreter": {
   "hash": "6a8ab12e6b3ed4ebc099bdb603e12ed98d3b4a6cb4b5889ce835d57d89267821"
  },
  "kaggle": {
   "accelerator": "gpu",
   "dataSources": [
    {
     "datasetId": 3258,
     "sourceId": 5337,
     "sourceType": "datasetVersion"
    }
   ],
   "isGpuEnabled": true,
   "isInternetEnabled": true,
   "language": "python",
   "sourceType": "notebook"
  },
  "kernelspec": {
   "display_name": "Python 3",
   "language": "python",
   "name": "python3"
  },
  "language_info": {
   "codemirror_mode": {
    "name": "ipython",
    "version": 3
   },
   "file_extension": ".py",
   "mimetype": "text/x-python",
   "name": "python",
   "nbconvert_exporter": "python",
   "pygments_lexer": "ipython3",
   "version": "3.10.12"
  },
  "papermill": {
   "default_parameters": {},
   "duration": 96.189563,
   "end_time": "2023-12-31T21:27:17.974871",
   "environment_variables": {},
   "exception": null,
   "input_path": "__notebook__.ipynb",
   "output_path": "__notebook__.ipynb",
   "parameters": {},
   "start_time": "2023-12-31T21:25:41.785308",
   "version": "2.4.0"
  }
 },
 "nbformat": 4,
 "nbformat_minor": 5
}
