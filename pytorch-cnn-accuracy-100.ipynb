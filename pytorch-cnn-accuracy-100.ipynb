{
 "cells": [
  {
   "cell_type": "markdown",
   "id": "3b2b58fc",
   "metadata": {
    "papermill": {
     "duration": 0.009994,
     "end_time": "2024-01-01T22:58:11.089840",
     "exception": false,
     "start_time": "2024-01-01T22:58:11.079846",
     "status": "completed"
    },
    "tags": []
   },
   "source": [
    "# Hand Gesture Recognition\n",
    "\n",
    "## Table of Contents\n",
    "<ul>\n",
    "<li><a href=\"#intro\">Introduction</a></li>\n",
    "<li><a href=\"#preprocessig\">Preprocessing</a></li>\n",
    "<li><a href=\"#eda\">Exploratory Data Analysis</a></li>\n",
    "<li><a href=\"#CNN\">CNN model</a></li>\n",
    "<li><a href=\"#evaluation\">Eavluation :: Got 1.0000 F1 Score</a></li>\n",
    "</ul>"
   ]
  },
  {
   "cell_type": "markdown",
   "id": "8192dbb9",
   "metadata": {
    "papermill": {
     "duration": 0.00903,
     "end_time": "2024-01-01T22:58:11.108399",
     "exception": false,
     "start_time": "2024-01-01T22:58:11.099369",
     "status": "completed"
    },
    "tags": []
   },
   "source": [
    "<a id='intro'></a>\n",
    "## Introduction\n",
    "\n",
    "##### Dataset Description \n",
    "\n",
    "> Dataset Structure: It follows the CSV format with labels and pixel values. Representing a multi-class problem, it includes 24 classes of American Sign Language letters (excluding J and Z, which involve motion gestures).\n",
    "\n",
    "> Size: The training set comprises 27,455 cases, and the test set includes 7,172 cases. This dataset is approximately half the size of the standard MNIST.\n",
    "\n",
    "> Image Format: Each training and test case represents a label (0-25) mapped to an alphabetic letter A-Z. The images are 28x28 pixels with grayscale values ranging from 0 to 255.\n",
    "\n",
    "> **You could find the dataset on kaggle [here](https://www.kaggle.com/datasets/datamunge/sign-language-mnist)**"
   ]
  },
  {
   "cell_type": "markdown",
   "id": "716e02f1",
   "metadata": {
    "papermill": {
     "duration": 0.009019,
     "end_time": "2024-01-01T22:58:11.126718",
     "exception": false,
     "start_time": "2024-01-01T22:58:11.117699",
     "status": "completed"
    },
    "tags": []
   },
   "source": [
    "### Imports"
   ]
  },
  {
   "cell_type": "code",
   "execution_count": 1,
   "id": "3e1e3743",
   "metadata": {
    "execution": {
     "iopub.execute_input": "2024-01-01T22:58:11.147983Z",
     "iopub.status.busy": "2024-01-01T22:58:11.147220Z",
     "iopub.status.idle": "2024-01-01T22:58:16.079403Z",
     "shell.execute_reply": "2024-01-01T22:58:16.078504Z"
    },
    "papermill": {
     "duration": 4.945377,
     "end_time": "2024-01-01T22:58:16.081765",
     "exception": false,
     "start_time": "2024-01-01T22:58:11.136388",
     "status": "completed"
    },
    "tags": []
   },
   "outputs": [
    {
     "name": "stderr",
     "output_type": "stream",
     "text": [
      "/opt/conda/lib/python3.10/site-packages/scipy/__init__.py:146: UserWarning: A NumPy version >=1.16.5 and <1.23.0 is required for this version of SciPy (detected version 1.24.3\n",
      "  warnings.warn(f\"A NumPy version >={np_minversion} and <{np_maxversion}\"\n"
     ]
    }
   ],
   "source": [
    "import pandas as pd\n",
    "import numpy as np\n",
    "import matplotlib.pyplot as plt\n",
    "import os\n",
    "\n",
    "import torch\n",
    "import torch.nn as nn\n",
    "import torch.nn.functional as F\n",
    "from torch.utils.data import Dataset, DataLoader\n",
    "from sklearn.model_selection import train_test_split\n",
    "\n",
    "from tqdm import tqdm\n",
    "from copy import deepcopy\n",
    "\n",
    "seed = 1911\n",
    "np.random.seed(seed)\n",
    "torch.manual_seed(seed)\n",
    "torch.cuda.manual_seed_all(seed)\n",
    "torch.Generator().manual_seed(42);"
   ]
  },
  {
   "cell_type": "code",
   "execution_count": 2,
   "id": "1918222b",
   "metadata": {
    "execution": {
     "iopub.execute_input": "2024-01-01T22:58:16.102482Z",
     "iopub.status.busy": "2024-01-01T22:58:16.102047Z",
     "iopub.status.idle": "2024-01-01T22:58:20.754594Z",
     "shell.execute_reply": "2024-01-01T22:58:20.753703Z"
    },
    "papermill": {
     "duration": 4.664986,
     "end_time": "2024-01-01T22:58:20.756703",
     "exception": false,
     "start_time": "2024-01-01T22:58:16.091717",
     "status": "completed"
    },
    "tags": []
   },
   "outputs": [
    {
     "data": {
      "text/html": [
       "<div>\n",
       "<style scoped>\n",
       "    .dataframe tbody tr th:only-of-type {\n",
       "        vertical-align: middle;\n",
       "    }\n",
       "\n",
       "    .dataframe tbody tr th {\n",
       "        vertical-align: top;\n",
       "    }\n",
       "\n",
       "    .dataframe thead th {\n",
       "        text-align: right;\n",
       "    }\n",
       "</style>\n",
       "<table border=\"1\" class=\"dataframe\">\n",
       "  <thead>\n",
       "    <tr style=\"text-align: right;\">\n",
       "      <th></th>\n",
       "      <th>label</th>\n",
       "      <th>pixel1</th>\n",
       "      <th>pixel2</th>\n",
       "      <th>pixel3</th>\n",
       "      <th>pixel4</th>\n",
       "      <th>pixel5</th>\n",
       "      <th>pixel6</th>\n",
       "      <th>pixel7</th>\n",
       "      <th>pixel8</th>\n",
       "      <th>pixel9</th>\n",
       "      <th>...</th>\n",
       "      <th>pixel775</th>\n",
       "      <th>pixel776</th>\n",
       "      <th>pixel777</th>\n",
       "      <th>pixel778</th>\n",
       "      <th>pixel779</th>\n",
       "      <th>pixel780</th>\n",
       "      <th>pixel781</th>\n",
       "      <th>pixel782</th>\n",
       "      <th>pixel783</th>\n",
       "      <th>pixel784</th>\n",
       "    </tr>\n",
       "  </thead>\n",
       "  <tbody>\n",
       "    <tr>\n",
       "      <th>0</th>\n",
       "      <td>3</td>\n",
       "      <td>107</td>\n",
       "      <td>118</td>\n",
       "      <td>127</td>\n",
       "      <td>134</td>\n",
       "      <td>139</td>\n",
       "      <td>143</td>\n",
       "      <td>146</td>\n",
       "      <td>150</td>\n",
       "      <td>153</td>\n",
       "      <td>...</td>\n",
       "      <td>207</td>\n",
       "      <td>207</td>\n",
       "      <td>207</td>\n",
       "      <td>207</td>\n",
       "      <td>206</td>\n",
       "      <td>206</td>\n",
       "      <td>206</td>\n",
       "      <td>204</td>\n",
       "      <td>203</td>\n",
       "      <td>202</td>\n",
       "    </tr>\n",
       "    <tr>\n",
       "      <th>1</th>\n",
       "      <td>6</td>\n",
       "      <td>155</td>\n",
       "      <td>157</td>\n",
       "      <td>156</td>\n",
       "      <td>156</td>\n",
       "      <td>156</td>\n",
       "      <td>157</td>\n",
       "      <td>156</td>\n",
       "      <td>158</td>\n",
       "      <td>158</td>\n",
       "      <td>...</td>\n",
       "      <td>69</td>\n",
       "      <td>149</td>\n",
       "      <td>128</td>\n",
       "      <td>87</td>\n",
       "      <td>94</td>\n",
       "      <td>163</td>\n",
       "      <td>175</td>\n",
       "      <td>103</td>\n",
       "      <td>135</td>\n",
       "      <td>149</td>\n",
       "    </tr>\n",
       "  </tbody>\n",
       "</table>\n",
       "<p>2 rows × 785 columns</p>\n",
       "</div>"
      ],
      "text/plain": [
       "   label  pixel1  pixel2  pixel3  pixel4  pixel5  pixel6  pixel7  pixel8  \\\n",
       "0      3     107     118     127     134     139     143     146     150   \n",
       "1      6     155     157     156     156     156     157     156     158   \n",
       "\n",
       "   pixel9  ...  pixel775  pixel776  pixel777  pixel778  pixel779  pixel780  \\\n",
       "0     153  ...       207       207       207       207       206       206   \n",
       "1     158  ...        69       149       128        87        94       163   \n",
       "\n",
       "   pixel781  pixel782  pixel783  pixel784  \n",
       "0       206       204       203       202  \n",
       "1       175       103       135       149  \n",
       "\n",
       "[2 rows x 785 columns]"
      ]
     },
     "execution_count": 2,
     "metadata": {},
     "output_type": "execute_result"
    }
   ],
   "source": [
    "# import os\n",
    "# current_directory = os.getcwd()\n",
    "\n",
    "# df_train = pd.read_csv(current_directory + '\\DataSource' + '\\sign_mnist_train.csv')\n",
    "# df_test = pd.read_csv(current_directory + '\\DataSource' + '\\sign_mnist_test.csv')\n",
    "# df_train.head(2)\n",
    "\n",
    "\n",
    "df_train = pd.read_csv(\"/kaggle/input/sign-language-mnist/sign_mnist_train/sign_mnist_train.csv\")\n",
    "df_test = pd.read_csv('/kaggle/input/sign-language-mnist/sign_mnist_test/sign_mnist_test.csv')\n",
    "df_train.head(2)"
   ]
  },
  {
   "cell_type": "markdown",
   "id": "b111a936",
   "metadata": {
    "papermill": {
     "duration": 0.009479,
     "end_time": "2024-01-01T22:58:20.776357",
     "exception": false,
     "start_time": "2024-01-01T22:58:20.766878",
     "status": "completed"
    },
    "tags": []
   },
   "source": [
    "> Noticed there is no class 9 > [0 ... 7,8,10, ...] so lets make all labels consistant;\n",
    "> by make them start from zero to 24"
   ]
  },
  {
   "cell_type": "code",
   "execution_count": 3,
   "id": "45708b8e",
   "metadata": {
    "execution": {
     "iopub.execute_input": "2024-01-01T22:58:20.796874Z",
     "iopub.status.busy": "2024-01-01T22:58:20.796585Z",
     "iopub.status.idle": "2024-01-01T22:58:20.826677Z",
     "shell.execute_reply": "2024-01-01T22:58:20.825926Z"
    },
    "papermill": {
     "duration": 0.042597,
     "end_time": "2024-01-01T22:58:20.828604",
     "exception": false,
     "start_time": "2024-01-01T22:58:20.786007",
     "status": "completed"
    },
    "tags": []
   },
   "outputs": [],
   "source": [
    "df_train.label = df_train['label'].apply(lambda x: x - 1 if x > 9 else x)\n",
    "df_test.label = df_test['label'].apply(lambda x: x - 1 if x > 9 else x)"
   ]
  },
  {
   "cell_type": "code",
   "execution_count": 4,
   "id": "42f3878c",
   "metadata": {
    "execution": {
     "iopub.execute_input": "2024-01-01T22:58:20.849339Z",
     "iopub.status.busy": "2024-01-01T22:58:20.849032Z",
     "iopub.status.idle": "2024-01-01T22:58:20.853664Z",
     "shell.execute_reply": "2024-01-01T22:58:20.852801Z"
    },
    "papermill": {
     "duration": 0.017206,
     "end_time": "2024-01-01T22:58:20.855734",
     "exception": false,
     "start_time": "2024-01-01T22:58:20.838528",
     "status": "completed"
    },
    "tags": []
   },
   "outputs": [
    {
     "name": "stdout",
     "output_type": "stream",
     "text": [
      "Shape of Train dataSet is: (27455, 785)\n",
      "Shape of Validation dataSet is: (7172, 785)\n"
     ]
    }
   ],
   "source": [
    "print(f'Shape of Train dataSet is: {df_train.shape}')\n",
    "print(f'Shape of Validation dataSet is: {df_test.shape}')"
   ]
  },
  {
   "cell_type": "markdown",
   "id": "edd2bf4a",
   "metadata": {
    "papermill": {
     "duration": 0.010081,
     "end_time": "2024-01-01T22:58:20.875817",
     "exception": false,
     "start_time": "2024-01-01T22:58:20.865736",
     "status": "completed"
    },
    "tags": []
   },
   "source": [
    "<a id='preprocessing'></a>\n",
    "### Data preprocessing"
   ]
  },
  {
   "cell_type": "markdown",
   "id": "63e43dcc",
   "metadata": {
    "papermill": {
     "duration": 0.009549,
     "end_time": "2024-01-01T22:58:20.895494",
     "exception": false,
     "start_time": "2024-01-01T22:58:20.885945",
     "status": "completed"
    },
    "tags": []
   },
   "source": [
    "> Making readable labels"
   ]
  },
  {
   "cell_type": "code",
   "execution_count": 5,
   "id": "9e5d7907",
   "metadata": {
    "execution": {
     "iopub.execute_input": "2024-01-01T22:58:20.916198Z",
     "iopub.status.busy": "2024-01-01T22:58:20.915887Z",
     "iopub.status.idle": "2024-01-01T22:58:20.919917Z",
     "shell.execute_reply": "2024-01-01T22:58:20.919084Z"
    },
    "papermill": {
     "duration": 0.016537,
     "end_time": "2024-01-01T22:58:20.921810",
     "exception": false,
     "start_time": "2024-01-01T22:58:20.905273",
     "status": "completed"
    },
    "tags": []
   },
   "outputs": [],
   "source": [
    "import string\n",
    "Alphabet_labels = list(string.ascii_letters)"
   ]
  },
  {
   "cell_type": "markdown",
   "id": "2005df26",
   "metadata": {
    "papermill": {
     "duration": 0.009477,
     "end_time": "2024-01-01T22:58:20.941001",
     "exception": false,
     "start_time": "2024-01-01T22:58:20.931524",
     "status": "completed"
    },
    "tags": []
   },
   "source": [
    "> Converting images into shape of w x h"
   ]
  },
  {
   "cell_type": "code",
   "execution_count": 6,
   "id": "02a62f25",
   "metadata": {
    "execution": {
     "iopub.execute_input": "2024-01-01T22:58:20.961501Z",
     "iopub.status.busy": "2024-01-01T22:58:20.961223Z",
     "iopub.status.idle": "2024-01-01T22:58:20.966189Z",
     "shell.execute_reply": "2024-01-01T22:58:20.965359Z"
    },
    "papermill": {
     "duration": 0.017369,
     "end_time": "2024-01-01T22:58:20.968098",
     "exception": false,
     "start_time": "2024-01-01T22:58:20.950729",
     "status": "completed"
    },
    "tags": []
   },
   "outputs": [],
   "source": [
    "def vector_of_pixels_to_image(pixels):\n",
    "    imgWidth = int(np.sqrt(pixels.shape[1]))\n",
    "    \n",
    "    x = pixels / 255\n",
    "    print(f'Shape befor resizing: {len(x)}')\n",
    "    x = x.values.reshape(-1, imgWidth, imgWidth)\n",
    "    print(f'Shape after resizing: {x.shape}')\n",
    "    \n",
    "    return x"
   ]
  },
  {
   "cell_type": "code",
   "execution_count": 7,
   "id": "b5440f3c",
   "metadata": {
    "execution": {
     "iopub.execute_input": "2024-01-01T22:58:20.988569Z",
     "iopub.status.busy": "2024-01-01T22:58:20.988316Z",
     "iopub.status.idle": "2024-01-01T22:58:21.198902Z",
     "shell.execute_reply": "2024-01-01T22:58:21.198056Z"
    },
    "papermill": {
     "duration": 0.223468,
     "end_time": "2024-01-01T22:58:21.201353",
     "exception": false,
     "start_time": "2024-01-01T22:58:20.977885",
     "status": "completed"
    },
    "tags": []
   },
   "outputs": [],
   "source": [
    "x_train, x_val, y_train, y_val = train_test_split(df_train.iloc[:, 1:], df_train.label, random_state=seed)\n",
    "x_test, y_test = df_test.iloc[:, 1:], df_test.label"
   ]
  },
  {
   "cell_type": "code",
   "execution_count": 8,
   "id": "546aae43",
   "metadata": {
    "execution": {
     "iopub.execute_input": "2024-01-01T22:58:21.223379Z",
     "iopub.status.busy": "2024-01-01T22:58:21.223072Z",
     "iopub.status.idle": "2024-01-01T22:58:21.264428Z",
     "shell.execute_reply": "2024-01-01T22:58:21.263364Z"
    },
    "papermill": {
     "duration": 0.054565,
     "end_time": "2024-01-01T22:58:21.266509",
     "exception": false,
     "start_time": "2024-01-01T22:58:21.211944",
     "status": "completed"
    },
    "tags": []
   },
   "outputs": [
    {
     "name": "stdout",
     "output_type": "stream",
     "text": [
      "Shape befor resizing: 20591\n",
      "Shape after resizing: (20591, 28, 28)\n"
     ]
    }
   ],
   "source": [
    "x_train = vector_of_pixels_to_image(x_train)\n",
    "y_train = np.array(y_train)"
   ]
  },
  {
   "cell_type": "code",
   "execution_count": 9,
   "id": "d126bf15",
   "metadata": {
    "execution": {
     "iopub.execute_input": "2024-01-01T22:58:21.287727Z",
     "iopub.status.busy": "2024-01-01T22:58:21.287434Z",
     "iopub.status.idle": "2024-01-01T22:58:21.305588Z",
     "shell.execute_reply": "2024-01-01T22:58:21.304505Z"
    },
    "papermill": {
     "duration": 0.030996,
     "end_time": "2024-01-01T22:58:21.307604",
     "exception": false,
     "start_time": "2024-01-01T22:58:21.276608",
     "status": "completed"
    },
    "tags": []
   },
   "outputs": [
    {
     "name": "stdout",
     "output_type": "stream",
     "text": [
      "Shape befor resizing: 6864\n",
      "Shape after resizing: (6864, 28, 28)\n"
     ]
    }
   ],
   "source": [
    "x_val = vector_of_pixels_to_image(x_val)\n",
    "y_val = np.array(y_val)"
   ]
  },
  {
   "cell_type": "code",
   "execution_count": 10,
   "id": "bf5b2887",
   "metadata": {
    "execution": {
     "iopub.execute_input": "2024-01-01T22:58:21.329286Z",
     "iopub.status.busy": "2024-01-01T22:58:21.328950Z",
     "iopub.status.idle": "2024-01-01T22:58:21.360639Z",
     "shell.execute_reply": "2024-01-01T22:58:21.359706Z"
    },
    "papermill": {
     "duration": 0.044941,
     "end_time": "2024-01-01T22:58:21.362864",
     "exception": false,
     "start_time": "2024-01-01T22:58:21.317923",
     "status": "completed"
    },
    "tags": []
   },
   "outputs": [
    {
     "name": "stdout",
     "output_type": "stream",
     "text": [
      "Shape befor resizing: 7172\n",
      "Shape after resizing: (7172, 28, 28)\n"
     ]
    }
   ],
   "source": [
    "x_test = vector_of_pixels_to_image(df_test.iloc[:, 1:])\n",
    "y_test = np.array(df_test.label)"
   ]
  },
  {
   "cell_type": "markdown",
   "id": "5fb4127f",
   "metadata": {
    "papermill": {
     "duration": 0.009753,
     "end_time": "2024-01-01T22:58:21.382926",
     "exception": false,
     "start_time": "2024-01-01T22:58:21.373173",
     "status": "completed"
    },
    "tags": []
   },
   "source": [
    "<a id='preprocessing'></a>\n",
    "### Exploratory Data Analysis (EDA)"
   ]
  },
  {
   "cell_type": "markdown",
   "id": "ae80acc7",
   "metadata": {
    "papermill": {
     "duration": 0.009765,
     "end_time": "2024-01-01T22:58:21.402935",
     "exception": false,
     "start_time": "2024-01-01T22:58:21.393170",
     "status": "completed"
    },
    "tags": []
   },
   "source": [
    "#### Plotting unique signs"
   ]
  },
  {
   "cell_type": "code",
   "execution_count": 11,
   "id": "803cd6cc",
   "metadata": {
    "execution": {
     "iopub.execute_input": "2024-01-01T22:58:21.424091Z",
     "iopub.status.busy": "2024-01-01T22:58:21.423784Z",
     "iopub.status.idle": "2024-01-01T22:58:21.429950Z",
     "shell.execute_reply": "2024-01-01T22:58:21.429281Z"
    },
    "papermill": {
     "duration": 0.018911,
     "end_time": "2024-01-01T22:58:21.431770",
     "exception": false,
     "start_time": "2024-01-01T22:58:21.412859",
     "status": "completed"
    },
    "tags": []
   },
   "outputs": [],
   "source": [
    "y_unique = np.unique(y_train)\n",
    "unique_images = []\n",
    "for label in y_unique:\n",
    "    indices = np.where(y_train == label)[0]\n",
    "    unique_images.append(x_train[indices[0]])"
   ]
  },
  {
   "cell_type": "code",
   "execution_count": 12,
   "id": "16a67419",
   "metadata": {
    "execution": {
     "iopub.execute_input": "2024-01-01T22:58:21.452993Z",
     "iopub.status.busy": "2024-01-01T22:58:21.452724Z",
     "iopub.status.idle": "2024-01-01T22:58:23.082634Z",
     "shell.execute_reply": "2024-01-01T22:58:23.081651Z"
    },
    "papermill": {
     "duration": 1.642854,
     "end_time": "2024-01-01T22:58:23.084840",
     "exception": false,
     "start_time": "2024-01-01T22:58:21.441986",
     "status": "completed"
    },
    "tags": []
   },
   "outputs": [
    {
     "data": {
      "image/png": "[encoded data removed]",
      "text/plain": [
       "<Figure size 1000x700 with 24 Axes>"
      ]
     },
     "metadata": {},
     "output_type": "display_data"
    }
   ],
   "source": [
    "plt.figure(figsize=(10, 7))\n",
    "n = len(y_unique)\n",
    "for i in range(n):\n",
    "    ax = plt.subplot(4, n // 4, i + 1)\n",
    "    plt.imshow(unique_images[i], cmap='gray')\n",
    "    plt.title(f'{y_unique[i]} :: {Alphabet_labels[y_unique[i]]}')\n",
    "    plt.axis('off')"
   ]
  },
  {
   "cell_type": "markdown",
   "id": "e77e6e37",
   "metadata": {
    "papermill": {
     "duration": 0.01083,
     "end_time": "2024-01-01T22:58:23.106984",
     "exception": false,
     "start_time": "2024-01-01T22:58:23.096154",
     "status": "completed"
    },
    "tags": []
   },
   "source": [
    "> The distribution of the signs in our training set"
   ]
  },
  {
   "cell_type": "code",
   "execution_count": 13,
   "id": "c6993bb6",
   "metadata": {
    "execution": {
     "iopub.execute_input": "2024-01-01T22:58:23.171665Z",
     "iopub.status.busy": "2024-01-01T22:58:23.171295Z",
     "iopub.status.idle": "2024-01-01T22:58:23.606185Z",
     "shell.execute_reply": "2024-01-01T22:58:23.605254Z"
    },
    "papermill": {
     "duration": 0.449518,
     "end_time": "2024-01-01T22:58:23.608163",
     "exception": false,
     "start_time": "2024-01-01T22:58:23.158645",
     "status": "completed"
    },
    "tags": []
   },
   "outputs": [
    {
     "data": {
      "image/png": "[encoded data removed]",
      "text/plain": [
       "<Figure size 1000x500 with 1 Axes>"
      ]
     },
     "metadata": {},
     "output_type": "display_data"
    }
   ],
   "source": [
    "plt.figure(figsize=(10, 5));\n",
    "df_train.label.value_counts().sort_index().plot(kind='bar');\n",
    "plt.title('Number of images per class');\n",
    "plt.ylabel('Number of images');\n",
    "plt.xlabel('Label');\n",
    "\n",
    "plt.xticks(ticks=df_train.label.unique(), labels=[Alphabet_labels[label] for label in df_train.label.unique()], rotation=0);"
   ]
  },
  {
   "cell_type": "markdown",
   "id": "a673861a",
   "metadata": {
    "papermill": {
     "duration": 0.011209,
     "end_time": "2024-01-01T22:58:23.631028",
     "exception": false,
     "start_time": "2024-01-01T22:58:23.619819",
     "status": "completed"
    },
    "tags": []
   },
   "source": [
    "> We notice that the distribution of all labels seems equal."
   ]
  },
  {
   "cell_type": "markdown",
   "id": "0ae7e4e5",
   "metadata": {
    "papermill": {
     "duration": 0.011047,
     "end_time": "2024-01-01T22:58:23.653389",
     "exception": false,
     "start_time": "2024-01-01T22:58:23.642342",
     "status": "completed"
    },
    "tags": []
   },
   "source": [
    "<a id='CNN'></a>\n",
    "### CNN Model"
   ]
  },
  {
   "cell_type": "code",
   "execution_count": 14,
   "id": "2cbb3aa1",
   "metadata": {
    "execution": {
     "iopub.execute_input": "2024-01-01T22:58:23.677265Z",
     "iopub.status.busy": "2024-01-01T22:58:23.676940Z",
     "iopub.status.idle": "2024-01-01T22:58:23.751149Z",
     "shell.execute_reply": "2024-01-01T22:58:23.750356Z"
    },
    "papermill": {
     "duration": 0.088984,
     "end_time": "2024-01-01T22:58:23.753629",
     "exception": false,
     "start_time": "2024-01-01T22:58:23.664645",
     "status": "completed"
    },
    "tags": []
   },
   "outputs": [],
   "source": [
    "from torch.utils.data import Dataset, dataloader\n",
    "\n",
    "class myDataSet(Dataset):\n",
    "    def __init__(self, x, y):\n",
    "        self.x = x\n",
    "        self.y = y\n",
    "    \n",
    "    def __len__(self):\n",
    "        return self.y.shape[0]\n",
    "    \n",
    "    def __getitem__(self, index):\n",
    "        return self.x[index], self.y[index]\n",
    "    \n",
    "\n",
    "x_train_tensors = torch.tensor(x_train, dtype=torch.float32).reshape(-1, 1, 28, 28)\n",
    "y_train_tensors = torch.tensor(y_train, dtype=torch.float32)\n",
    "\n",
    "x_val_tensors = torch.tensor(x_val, dtype=torch.float32).reshape(-1, 1, 28, 28)\n",
    "y_val_tensors = torch.tensor(y_val, dtype=torch.float32)\n",
    "\n",
    "x_test_tensors = torch.tensor(x_test, dtype=torch.float32).reshape(-1, 1, 28, 28)\n",
    "y_test_tensors = torch.tensor(y_test, dtype=torch.float32)\n",
    "\n",
    "train_dataset = myDataSet(x_train_tensors, y_train_tensors)\n",
    "val_dataset = myDataSet(x_val_tensors, y_val_tensors)\n",
    "test_dataset = myDataSet(x_test_tensors, y_test_tensors)\n",
    "\n",
    "\n",
    "train_loader = DataLoader(train_dataset, batch_size=32, shuffle=True)\n",
    "val_loader = DataLoader(val_dataset, batch_size=32, shuffle=True)\n",
    "test_loader = DataLoader(train_dataset, batch_size=32, shuffle=True)"
   ]
  },
  {
   "cell_type": "code",
   "execution_count": 15,
   "id": "60c1a443",
   "metadata": {
    "execution": {
     "iopub.execute_input": "2024-01-01T22:58:23.777964Z",
     "iopub.status.busy": "2024-01-01T22:58:23.777674Z",
     "iopub.status.idle": "2024-01-01T22:58:26.514957Z",
     "shell.execute_reply": "2024-01-01T22:58:26.514142Z"
    },
    "papermill": {
     "duration": 2.751882,
     "end_time": "2024-01-01T22:58:26.517324",
     "exception": false,
     "start_time": "2024-01-01T22:58:23.765442",
     "status": "completed"
    },
    "tags": []
   },
   "outputs": [],
   "source": [
    "class HandGestureModel(nn.Module):\n",
    "    def __init__(self, dropout_rate=0.25):\n",
    "        super(HandGestureModel, self).__init__()\n",
    "        self.network = nn.Sequential(\n",
    "            nn.Conv2d(1, 32, kernel_size=3, padding=1),\n",
    "            nn.BatchNorm2d(32),\n",
    "            nn.ReLU(),\n",
    "\n",
    "            nn.Conv2d(32, 64, kernel_size=3, stride=1, padding=1),\n",
    "            nn.BatchNorm2d(64),\n",
    "            nn.ReLU(),\n",
    "            nn.MaxPool2d(2, 2),\n",
    "            nn.Dropout2d(dropout_rate),\n",
    "\n",
    "            nn.Conv2d(64, 128, kernel_size=3, stride=1, padding=1),\n",
    "            nn.BatchNorm2d(128),\n",
    "            nn.ReLU(),\n",
    "            nn.Dropout2d(dropout_rate),\n",
    "\n",
    "            nn.Conv2d(128, 128, kernel_size=3, stride=1, padding=1),\n",
    "            nn.BatchNorm2d(128),\n",
    "            nn.ReLU(),\n",
    "            nn.MaxPool2d(2, 2),\n",
    "            nn.Dropout2d(dropout_rate),\n",
    "\n",
    "            nn.Conv2d(128, 256, kernel_size=3, stride=1, padding=1),\n",
    "            nn.BatchNorm2d(256),\n",
    "            nn.ReLU(),\n",
    "            nn.Dropout2d(dropout_rate),\n",
    "\n",
    "            nn.Conv2d(256, 256, kernel_size=3, stride=1, padding=1),\n",
    "            nn.BatchNorm2d(256),\n",
    "            nn.ReLU(),\n",
    "            nn.MaxPool2d(2, 2),\n",
    "            nn.Dropout2d(dropout_rate),\n",
    "\n",
    "            nn.Flatten(),\n",
    "            nn.Linear(2304, 512),\n",
    "            nn.BatchNorm1d(512),\n",
    "            nn.ReLU(),\n",
    "            nn.Dropout(dropout_rate),\n",
    "\n",
    "            nn.Linear(512, 256),\n",
    "            nn.BatchNorm1d(256),\n",
    "            nn.ReLU(),\n",
    "            nn.Dropout(dropout_rate),\n",
    "\n",
    "            nn.Linear(256, 128),\n",
    "            nn.BatchNorm1d(128),\n",
    "            nn.ReLU(),\n",
    "\n",
    "            nn.Linear(128, 24)\n",
    "        )\n",
    "\n",
    "    def forward(self, xb):\n",
    "        return self.network(xb)\n",
    "\n",
    "device = 'cuda' if torch.cuda.is_available() else 'cpu'\n",
    "model = HandGestureModel().to(device)"
   ]
  },
  {
   "cell_type": "code",
   "execution_count": 16,
   "id": "b8ffa4ea",
   "metadata": {
    "execution": {
     "iopub.execute_input": "2024-01-01T22:58:26.542750Z",
     "iopub.status.busy": "2024-01-01T22:58:26.542447Z",
     "iopub.status.idle": "2024-01-01T22:58:26.548404Z",
     "shell.execute_reply": "2024-01-01T22:58:26.547549Z"
    },
    "papermill": {
     "duration": 0.020754,
     "end_time": "2024-01-01T22:58:26.550223",
     "exception": false,
     "start_time": "2024-01-01T22:58:26.529469",
     "status": "completed"
    },
    "tags": []
   },
   "outputs": [],
   "source": [
    "learning_rate = 1e-4\n",
    "num_epochs = 20\n",
    "patience = 3 # Number of epochs to wait if validation loss doesn't improve\n",
    "best_val_loss = float('inf')\n",
    "\n",
    "counter = 0\n",
    "\n",
    "optimizer = torch.optim.Adam(model.parameters(), lr=learning_rate, weight_decay=4e-5)\n",
    "criterion = nn.CrossEntropyLoss()\n",
    "\n",
    "scheduler = torch.optim.lr_scheduler.StepLR(optimizer, step_size=1, gamma=0.950)"
   ]
  },
  {
   "cell_type": "code",
   "execution_count": 17,
   "id": "1852d08d",
   "metadata": {
    "execution": {
     "iopub.execute_input": "2024-01-01T22:58:26.573922Z",
     "iopub.status.busy": "2024-01-01T22:58:26.573650Z",
     "iopub.status.idle": "2024-01-01T22:58:26.582301Z",
     "shell.execute_reply": "2024-01-01T22:58:26.581455Z"
    },
    "papermill": {
     "duration": 0.02259,
     "end_time": "2024-01-01T22:58:26.584078",
     "exception": false,
     "start_time": "2024-01-01T22:58:26.561488",
     "status": "completed"
    },
    "tags": []
   },
   "outputs": [],
   "source": [
    "def train(model, optimizer, criterion, train_loader):\n",
    "    model.train()\n",
    "    running_loss = 0.0\n",
    "    for i, data in tqdm(enumerate(train_loader), desc='Training', total=len(train_loader)):\n",
    "        optimizer.zero_grad()\n",
    "        # Forward pass\n",
    "        x, y = data[0].to(device), data[1].to(device).to(torch.long)\n",
    "        \n",
    "        output = model(x)\n",
    "        \n",
    "        loss = criterion(output, y)\n",
    "        \n",
    "        # Backward pass\n",
    "        loss.backward()\n",
    "        \n",
    "        # Updating parameters\n",
    "        optimizer.step()\n",
    "\n",
    "        # Monitoring\n",
    "        running_loss += loss.item()\n",
    "        \n",
    "    return running_loss / len(train_loader)\n",
    "\n",
    "\n",
    "def evaluate(model, criterion, val_loader):\n",
    "    model.eval()\n",
    "    running_loss = 0.0\n",
    "    with torch.no_grad():\n",
    "        for data in val_loader:\n",
    "            x, y = data[0].to(device), data[1].to(device).to(torch.long)\n",
    "        \n",
    "            output = model(x)\n",
    "            # prediction = torch.argmax(output, axis=1)\n",
    "            \n",
    "            loss = criterion(output, y)\n",
    "                \n",
    "            running_loss += loss.item()\n",
    "            \n",
    "    return running_loss / len(val_loader)"
   ]
  },
  {
   "cell_type": "code",
   "execution_count": 18,
   "id": "d067ee81",
   "metadata": {
    "execution": {
     "iopub.execute_input": "2024-01-01T22:58:26.607582Z",
     "iopub.status.busy": "2024-01-01T22:58:26.607308Z",
     "iopub.status.idle": "2024-01-01T23:00:18.511444Z",
     "shell.execute_reply": "2024-01-01T23:00:18.510079Z"
    },
    "papermill": {
     "duration": 111.918296,
     "end_time": "2024-01-01T23:00:18.513503",
     "exception": false,
     "start_time": "2024-01-01T22:58:26.595207",
     "status": "completed"
    },
    "tags": []
   },
   "outputs": [
    {
     "name": "stderr",
     "output_type": "stream",
     "text": [
      "Training: 100%|██████████| 644/644 [00:10<00:00, 63.76it/s] \n"
     ]
    },
    {
     "name": "stdout",
     "output_type": "stream",
     "text": [
      "Validating ...\n",
      "Epoch [1/20], Train Loss: 2.5873, Validation Loss: 1.3390\n"
     ]
    },
    {
     "name": "stderr",
     "output_type": "stream",
     "text": [
      "Training: 100%|██████████| 644/644 [00:04<00:00, 134.24it/s]\n"
     ]
    },
    {
     "name": "stdout",
     "output_type": "stream",
     "text": [
      "Validating ...\n",
      "Epoch [2/20], Train Loss: 1.1176, Validation Loss: 0.3105\n"
     ]
    },
    {
     "name": "stderr",
     "output_type": "stream",
     "text": [
      "Training: 100%|██████████| 644/644 [00:04<00:00, 129.24it/s]\n"
     ]
    },
    {
     "name": "stdout",
     "output_type": "stream",
     "text": [
      "Validating ...\n",
      "Epoch [3/20], Train Loss: 0.4232, Validation Loss: 0.0533\n"
     ]
    },
    {
     "name": "stderr",
     "output_type": "stream",
     "text": [
      "Training: 100%|██████████| 644/644 [00:04<00:00, 131.50it/s]\n"
     ]
    },
    {
     "name": "stdout",
     "output_type": "stream",
     "text": [
      "Validating ...\n",
      "Epoch [4/20], Train Loss: 0.1705, Validation Loss: 0.0113\n"
     ]
    },
    {
     "name": "stderr",
     "output_type": "stream",
     "text": [
      "Training: 100%|██████████| 644/644 [00:04<00:00, 133.27it/s]\n"
     ]
    },
    {
     "name": "stdout",
     "output_type": "stream",
     "text": [
      "Validating ...\n",
      "Epoch [5/20], Train Loss: 0.0810, Validation Loss: 0.0043\n"
     ]
    },
    {
     "name": "stderr",
     "output_type": "stream",
     "text": [
      "Training: 100%|██████████| 644/644 [00:04<00:00, 134.01it/s]\n"
     ]
    },
    {
     "name": "stdout",
     "output_type": "stream",
     "text": [
      "Validating ...\n",
      "Epoch [6/20], Train Loss: 0.0477, Validation Loss: 0.0019\n"
     ]
    },
    {
     "name": "stderr",
     "output_type": "stream",
     "text": [
      "Training: 100%|██████████| 644/644 [00:04<00:00, 133.24it/s]\n"
     ]
    },
    {
     "name": "stdout",
     "output_type": "stream",
     "text": [
      "Validating ...\n",
      "Epoch [7/20], Train Loss: 0.0308, Validation Loss: 0.0010\n"
     ]
    },
    {
     "name": "stderr",
     "output_type": "stream",
     "text": [
      "Training: 100%|██████████| 644/644 [00:04<00:00, 132.40it/s]\n"
     ]
    },
    {
     "name": "stdout",
     "output_type": "stream",
     "text": [
      "Validating ...\n",
      "Epoch [8/20], Train Loss: 0.0211, Validation Loss: 0.0014\n"
     ]
    },
    {
     "name": "stderr",
     "output_type": "stream",
     "text": [
      "Training: 100%|██████████| 644/644 [00:04<00:00, 130.60it/s]\n"
     ]
    },
    {
     "name": "stdout",
     "output_type": "stream",
     "text": [
      "Validating ...\n",
      "Epoch [9/20], Train Loss: 0.0196, Validation Loss: 0.0004\n"
     ]
    },
    {
     "name": "stderr",
     "output_type": "stream",
     "text": [
      "Training: 100%|██████████| 644/644 [00:04<00:00, 133.13it/s]\n"
     ]
    },
    {
     "name": "stdout",
     "output_type": "stream",
     "text": [
      "Validating ...\n",
      "Epoch [10/20], Train Loss: 0.0150, Validation Loss: 0.0003\n"
     ]
    },
    {
     "name": "stderr",
     "output_type": "stream",
     "text": [
      "Training: 100%|██████████| 644/644 [00:04<00:00, 132.91it/s]\n"
     ]
    },
    {
     "name": "stdout",
     "output_type": "stream",
     "text": [
      "Validating ...\n",
      "Epoch [11/20], Train Loss: 0.0119, Validation Loss: 0.0002\n"
     ]
    },
    {
     "name": "stderr",
     "output_type": "stream",
     "text": [
      "Training: 100%|██████████| 644/644 [00:04<00:00, 133.04it/s]\n"
     ]
    },
    {
     "name": "stdout",
     "output_type": "stream",
     "text": [
      "Validating ...\n",
      "Epoch [12/20], Train Loss: 0.0114, Validation Loss: 0.0001\n"
     ]
    },
    {
     "name": "stderr",
     "output_type": "stream",
     "text": [
      "Training: 100%|██████████| 644/644 [00:04<00:00, 134.50it/s]\n"
     ]
    },
    {
     "name": "stdout",
     "output_type": "stream",
     "text": [
      "Validating ...\n",
      "Epoch [13/20], Train Loss: 0.0092, Validation Loss: 0.0001\n"
     ]
    },
    {
     "name": "stderr",
     "output_type": "stream",
     "text": [
      "Training: 100%|██████████| 644/644 [00:04<00:00, 131.61it/s]\n"
     ]
    },
    {
     "name": "stdout",
     "output_type": "stream",
     "text": [
      "Validating ...\n",
      "Epoch [14/20], Train Loss: 0.0082, Validation Loss: 0.0001\n"
     ]
    },
    {
     "name": "stderr",
     "output_type": "stream",
     "text": [
      "Training: 100%|██████████| 644/644 [00:04<00:00, 132.46it/s]\n"
     ]
    },
    {
     "name": "stdout",
     "output_type": "stream",
     "text": [
      "Validating ...\n",
      "Epoch [15/20], Train Loss: 0.0080, Validation Loss: 0.0001\n"
     ]
    },
    {
     "name": "stderr",
     "output_type": "stream",
     "text": [
      "Training: 100%|██████████| 644/644 [00:04<00:00, 133.55it/s]\n"
     ]
    },
    {
     "name": "stdout",
     "output_type": "stream",
     "text": [
      "Validating ...\n",
      "Epoch [16/20], Train Loss: 0.0058, Validation Loss: 0.0007\n"
     ]
    },
    {
     "name": "stderr",
     "output_type": "stream",
     "text": [
      "Training: 100%|██████████| 644/644 [00:04<00:00, 134.13it/s]\n"
     ]
    },
    {
     "name": "stdout",
     "output_type": "stream",
     "text": [
      "Validating ...\n",
      "Epoch [17/20], Train Loss: 0.0064, Validation Loss: 0.0000\n"
     ]
    },
    {
     "name": "stderr",
     "output_type": "stream",
     "text": [
      "Training: 100%|██████████| 644/644 [00:04<00:00, 133.79it/s]\n"
     ]
    },
    {
     "name": "stdout",
     "output_type": "stream",
     "text": [
      "Validating ...\n",
      "Epoch [18/20], Train Loss: 0.0078, Validation Loss: 0.0000\n"
     ]
    },
    {
     "name": "stderr",
     "output_type": "stream",
     "text": [
      "Training: 100%|██████████| 644/644 [00:04<00:00, 134.40it/s]\n"
     ]
    },
    {
     "name": "stdout",
     "output_type": "stream",
     "text": [
      "Validating ...\n",
      "Epoch [19/20], Train Loss: 0.0046, Validation Loss: 0.0000\n"
     ]
    },
    {
     "name": "stderr",
     "output_type": "stream",
     "text": [
      "Training: 100%|██████████| 644/644 [00:04<00:00, 131.31it/s]\n"
     ]
    },
    {
     "name": "stdout",
     "output_type": "stream",
     "text": [
      "Validating ...\n",
      "Epoch [20/20], Train Loss: 0.0058, Validation Loss: 0.0000\n"
     ]
    }
   ],
   "source": [
    "train_losses = []\n",
    "val_losses = []\n",
    "\n",
    "#Training\n",
    "for epoch in range(num_epochs):\n",
    "    # Training loop\n",
    "    train_loss = train(model, optimizer, criterion, train_loader)\n",
    "    train_losses.append(train_loss)\n",
    "    \n",
    "    # Evaluation loop\n",
    "    print('Validating ...')\n",
    "    val_loss = evaluate(model, criterion, val_loader)\n",
    "    val_losses.append(val_loss)\n",
    "    \n",
    "    # Printing and monitoring\n",
    "    print(f'Epoch [{epoch + 1}/{num_epochs}], Train Loss: {train_loss:.4f}, Validation Loss: {val_loss:.4f}')\n",
    "    \n",
    "    \n",
    "    # Early stopping\n",
    "    if val_loss < best_val_loss:\n",
    "        best_val_loss = val_loss\n",
    "        best_model = deepcopy(model)\n",
    "        # save_checkpoint(best_model, optimizer, epoch)\n",
    "        counter = 0\n",
    "        \n",
    "    else:\n",
    "        counter += 1\n",
    "        if counter >= patience:\n",
    "            print(f'Validation loss did not improve for {patience} epochs. Stopping early.')\n",
    "            break\n",
    "        if counter in range(2, 20, 2):\n",
    "            scheduler.step()\n",
    "            print(f\"Learning rate decreased!, now is {optimizer.state_dict()['param_groups'][0]['lr']}\")"
   ]
  },
  {
   "cell_type": "code",
   "execution_count": 19,
   "id": "3dbefd7e",
   "metadata": {
    "execution": {
     "iopub.execute_input": "2024-01-01T23:00:18.695000Z",
     "iopub.status.busy": "2024-01-01T23:00:18.694360Z",
     "iopub.status.idle": "2024-01-01T23:00:18.975084Z",
     "shell.execute_reply": "2024-01-01T23:00:18.974210Z"
    },
    "papermill": {
     "duration": 0.373577,
     "end_time": "2024-01-01T23:00:18.977118",
     "exception": false,
     "start_time": "2024-01-01T23:00:18.603541",
     "status": "completed"
    },
    "tags": []
   },
   "outputs": [
    {
     "data": {
      "image/png": "[encoded data removed]",
      "text/plain": [
       "<Figure size 640x480 with 1 Axes>"
      ]
     },
     "metadata": {},
     "output_type": "display_data"
    }
   ],
   "source": [
    "plt.plot(train_losses, label=f'Best training    loss: {min(train_losses):.4f}');\n",
    "plt.plot(val_losses, label=f'Best validation loss: {min(val_losses):.4f}');\n",
    "plt.legend();"
   ]
  },
  {
   "cell_type": "code",
   "execution_count": 20,
   "id": "5ac9d83c",
   "metadata": {
    "execution": {
     "iopub.execute_input": "2024-01-01T23:00:19.155249Z",
     "iopub.status.busy": "2024-01-01T23:00:19.154917Z",
     "iopub.status.idle": "2024-01-01T23:00:19.190786Z",
     "shell.execute_reply": "2024-01-01T23:00:19.190053Z"
    },
    "papermill": {
     "duration": 0.12713,
     "end_time": "2024-01-01T23:00:19.192903",
     "exception": false,
     "start_time": "2024-01-01T23:00:19.065773",
     "status": "completed"
    },
    "tags": []
   },
   "outputs": [],
   "source": [
    "checkpoint_dir = \"./checkpoints\"\n",
    "\n",
    "if not os.path.exists(checkpoint_dir):\n",
    "    os.makedirs(checkpoint_dir)\n",
    "    \n",
    "checkpoint_path = os.path.join(checkpoint_dir, f'Best_model_hg.pt')\n",
    "\n",
    "torch.save({\n",
    "    'model': best_model,\n",
    "    'model_state_dict': best_model.state_dict()\n",
    "}, checkpoint_path)"
   ]
  },
  {
   "cell_type": "markdown",
   "id": "89e9e323",
   "metadata": {
    "papermill": {
     "duration": 0.088597,
     "end_time": "2024-01-01T23:00:19.369983",
     "exception": false,
     "start_time": "2024-01-01T23:00:19.281386",
     "status": "completed"
    },
    "tags": []
   },
   "source": [
    "---"
   ]
  },
  {
   "cell_type": "code",
   "execution_count": 21,
   "id": "8a33647b",
   "metadata": {
    "execution": {
     "iopub.execute_input": "2024-01-01T23:00:19.549413Z",
     "iopub.status.busy": "2024-01-01T23:00:19.549062Z",
     "iopub.status.idle": "2024-01-01T23:00:19.552930Z",
     "shell.execute_reply": "2024-01-01T23:00:19.552158Z"
    },
    "papermill": {
     "duration": 0.096786,
     "end_time": "2024-01-01T23:00:19.554749",
     "exception": false,
     "start_time": "2024-01-01T23:00:19.457963",
     "status": "completed"
    },
    "tags": []
   },
   "outputs": [],
   "source": [
    "# checkpoint = torch.load('./checkpoints/Best_model_hg.pt')\n",
    "# model = checkpoint['model']\n",
    "# model.load_state_dict(checkpoint['model_state_dict'])"
   ]
  },
  {
   "cell_type": "markdown",
   "id": "c8a07cbb",
   "metadata": {
    "papermill": {
     "duration": 0.087932,
     "end_time": "2024-01-01T23:00:19.731934",
     "exception": false,
     "start_time": "2024-01-01T23:00:19.644002",
     "status": "completed"
    },
    "tags": []
   },
   "source": [
    "<a id='evaluation'></a>\n",
    "### Evaluating the model with confusion matrix & f1 score"
   ]
  },
  {
   "cell_type": "code",
   "execution_count": 22,
   "id": "440f6723",
   "metadata": {
    "execution": {
     "iopub.execute_input": "2024-01-01T23:00:19.909424Z",
     "iopub.status.busy": "2024-01-01T23:00:19.909070Z",
     "iopub.status.idle": "2024-01-01T23:00:21.385037Z",
     "shell.execute_reply": "2024-01-01T23:00:21.384289Z"
    },
    "papermill": {
     "duration": 1.567612,
     "end_time": "2024-01-01T23:00:21.387329",
     "exception": false,
     "start_time": "2024-01-01T23:00:19.819717",
     "status": "completed"
    },
    "tags": []
   },
   "outputs": [],
   "source": [
    "best_model.eval()\n",
    "\n",
    "predicted_labels = []\n",
    "all_true_labels = []\n",
    "with torch.no_grad():\n",
    "    for i, data in enumerate(test_loader):\n",
    "        outputs = best_model(data[0].to(device))\n",
    "        _, predicted = torch.max(outputs, 1)\n",
    "        \n",
    "        predicted_labels.extend(predicted.cpu().numpy())\n",
    "        all_true_labels.extend(data[1])"
   ]
  },
  {
   "cell_type": "code",
   "execution_count": 23,
   "id": "1f82a4bd",
   "metadata": {
    "execution": {
     "iopub.execute_input": "2024-01-01T23:00:21.566013Z",
     "iopub.status.busy": "2024-01-01T23:00:21.565226Z",
     "iopub.status.idle": "2024-01-01T23:00:24.087126Z",
     "shell.execute_reply": "2024-01-01T23:00:24.086260Z"
    },
    "papermill": {
     "duration": 2.613295,
     "end_time": "2024-01-01T23:00:24.089689",
     "exception": false,
     "start_time": "2024-01-01T23:00:21.476394",
     "status": "completed"
    },
    "tags": []
   },
   "outputs": [
    {
     "data": {
      "image/png": "[encoded data removed]",
      "text/plain": [
       "<Figure size 1500x1500 with 2 Axes>"
      ]
     },
     "metadata": {},
     "output_type": "display_data"
    }
   ],
   "source": [
    "from sklearn.metrics import confusion_matrix\n",
    "import seaborn as sns\n",
    "\n",
    "plt.figure(figsize=(15, 15));\n",
    "cm = confusion_matrix(all_true_labels, predicted_labels);\n",
    "# sns.heatmap(cm, cmap=sns.cubehelix_palette(as_cmap=True));\n",
    "\n",
    "\n",
    "ax = sns.heatmap(cm, annot=True, linewidth=1,  fmt='d');\n",
    "ax.set(xlabel=\"prediction\", ylabel=\"actual label\");\n",
    "# ax.xaxis.tick_top()"
   ]
  },
  {
   "cell_type": "code",
   "execution_count": 24,
   "id": "8a4017ec",
   "metadata": {
    "execution": {
     "iopub.execute_input": "2024-01-01T23:00:24.270894Z",
     "iopub.status.busy": "2024-01-01T23:00:24.270052Z",
     "iopub.status.idle": "2024-01-01T23:00:25.177602Z",
     "shell.execute_reply": "2024-01-01T23:00:25.176578Z"
    },
    "papermill": {
     "duration": 1.000314,
     "end_time": "2024-01-01T23:00:25.179771",
     "exception": false,
     "start_time": "2024-01-01T23:00:24.179457",
     "status": "completed"
    },
    "tags": []
   },
   "outputs": [
    {
     "name": "stdout",
     "output_type": "stream",
     "text": [
      "The model has f1 score = 1.00000\n"
     ]
    }
   ],
   "source": [
    "from sklearn.metrics import f1_score\n",
    "\n",
    "f1_score = f1_score(all_true_labels, predicted_labels, average='weighted')\n",
    "print(f'The model has f1 score = {f1_score:.05f}')"
   ]
  },
  {
   "cell_type": "markdown",
   "id": "64e8cd36",
   "metadata": {
    "papermill": {
     "duration": 0.101283,
     "end_time": "2024-01-01T23:00:25.375790",
     "exception": false,
     "start_time": "2024-01-01T23:00:25.274507",
     "status": "completed"
    },
    "tags": []
   },
   "source": [
    "### Testing the model on some data to see its response"
   ]
  },
  {
   "cell_type": "code",
   "execution_count": 25,
   "id": "8bdd042d",
   "metadata": {
    "execution": {
     "iopub.execute_input": "2024-01-01T23:00:25.555288Z",
     "iopub.status.busy": "2024-01-01T23:00:25.554922Z",
     "iopub.status.idle": "2024-01-01T23:00:26.553570Z",
     "shell.execute_reply": "2024-01-01T23:00:26.552649Z"
    },
    "papermill": {
     "duration": 1.091171,
     "end_time": "2024-01-01T23:00:26.556179",
     "exception": false,
     "start_time": "2024-01-01T23:00:25.465008",
     "status": "completed"
    },
    "tags": []
   },
   "outputs": [
    {
     "data": {
      "image/png": "[encoded data removed]",
      "text/plain": [
       "<Figure size 1500x500 with 10 Axes>"
      ]
     },
     "metadata": {},
     "output_type": "display_data"
    }
   ],
   "source": [
    "test_gen = iter(test_loader)\n",
    "images, labels = next(test_gen)\n",
    "\n",
    "plt.figure(figsize=(15, 5))\n",
    "for i in range(10):\n",
    "    ax = plt.subplot(2, 5, i + 1)\n",
    "    \n",
    "    img = images[i]\n",
    "    plt.imshow(img.reshape(28, 28), cmap='gray')\n",
    "    \n",
    "    output = best_model(img.to(device).reshape(1, 1, 28, 28))\n",
    "    y_pred = torch.argmax(output, dim=1).item()\n",
    "    \n",
    "    y_true = int(labels[i])\n",
    "    \n",
    "    plt.title(f\"y_true: {Alphabet_labels[y_true]} :: y_pred: {Alphabet_labels[y_pred]}\")\n",
    "    plt.axis('off')    "
   ]
  }
 ],
 "metadata": {
  "interpreter": {
   "hash": "6a8ab12e6b3ed4ebc099bdb603e12ed98d3b4a6cb4b5889ce835d57d89267821"
  },
  "kaggle": {
   "accelerator": "gpu",
   "dataSources": [
    {
     "datasetId": 3258,
     "sourceId": 5337,
     "sourceType": "datasetVersion"
    }
   ],
   "dockerImageVersionId": 30627,
   "isGpuEnabled": true,
   "isInternetEnabled": true,
   "language": "python",
   "sourceType": "notebook"
  },
  "kernelspec": {
   "display_name": "Python 3",
   "language": "python",
   "name": "python3"
  },
  "language_info": {
   "codemirror_mode": {
    "name": "ipython",
    "version": 3
   },
   "file_extension": ".py",
   "mimetype": "text/x-python",
   "name": "python",
   "nbconvert_exporter": "python",
   "pygments_lexer": "ipython3",
   "version": "3.10.12"
  },
  "papermill": {
   "default_parameters": {},
   "duration": 140.519268,
   "end_time": "2024-01-01T23:00:28.270371",
   "environment_variables": {},
   "exception": null,
   "input_path": "__notebook__.ipynb",
   "output_path": "__notebook__.ipynb",
   "parameters": {},
   "start_time": "2024-01-01T22:58:07.751103",
   "version": "2.4.0"
  }
 },
 "nbformat": 4,
 "nbformat_minor": 5
}
