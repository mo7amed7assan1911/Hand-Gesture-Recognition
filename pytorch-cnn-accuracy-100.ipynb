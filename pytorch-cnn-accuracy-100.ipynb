{
 "cells": [
  {
   "cell_type": "markdown",
   "id": "523767d4",
   "metadata": {
    "papermill": {
     "duration": 0.01028,
     "end_time": "2024-01-01T22:38:22.465961",
     "exception": false,
     "start_time": "2024-01-01T22:38:22.455681",
     "status": "completed"
    },
    "tags": []
   },
   "source": [
    "# Hand Gesture Recognition\n",
    "\n",
    "## Table of Contents\n",
    "<ul>\n",
    "<li><a href=\"#intro\">Introduction</a></li>\n",
    "<li><a href=\"#preprocessig\">Preprocessing</a></li>\n",
    "<li><a href=\"#eda\">Exploratory Data Analysis</a></li>\n",
    "<li><a href=\"#CNN\">CNN model</a></li>\n",
    "<li><a href=\"#evaluation\">Eavluation :: Got 1.0000 F1 Score</a></li>\n",
    "</ul>"
   ]
  },
  {
   "cell_type": "markdown",
   "id": "e135291b",
   "metadata": {
    "papermill": {
     "duration": 0.009267,
     "end_time": "2024-01-01T22:38:22.485145",
     "exception": false,
     "start_time": "2024-01-01T22:38:22.475878",
     "status": "completed"
    },
    "tags": []
   },
   "source": [
    "<a id='intro'></a>\n",
    "## Introduction\n",
    "\n",
    "##### Dataset Description \n",
    "\n",
    "> Dataset Structure: It follows the CSV format with labels and pixel values. Representing a multi-class problem, it includes 24 classes of American Sign Language letters (excluding J and Z, which involve motion gestures).\n",
    "\n",
    "> Size: The training set comprises 27,455 cases, and the test set includes 7,172 cases. This dataset is approximately half the size of the standard MNIST.\n",
    "\n",
    "> Image Format: Each training and test case represents a label (0-25) mapped to an alphabetic letter A-Z. The images are 28x28 pixels with grayscale values ranging from 0 to 255.\n",
    "\n",
    "> **You could find the dataset on kaggle [here](https://www.kaggle.com/datasets/datamunge/sign-language-mnist)**"
   ]
  },
  {
   "cell_type": "markdown",
   "id": "9b8ac285",
   "metadata": {
    "papermill": {
     "duration": 0.009242,
     "end_time": "2024-01-01T22:38:22.503925",
     "exception": false,
     "start_time": "2024-01-01T22:38:22.494683",
     "status": "completed"
    },
    "tags": []
   },
   "source": [
    "### Imports"
   ]
  },
  {
   "cell_type": "code",
   "execution_count": 1,
   "id": "5c43e1c9",
   "metadata": {
    "execution": {
     "iopub.execute_input": "2024-01-01T22:38:22.524290Z",
     "iopub.status.busy": "2024-01-01T22:38:22.523938Z",
     "iopub.status.idle": "2024-01-01T22:38:27.378798Z",
     "shell.execute_reply": "2024-01-01T22:38:27.377990Z"
    },
    "papermill": {
     "duration": 4.867784,
     "end_time": "2024-01-01T22:38:27.381130",
     "exception": false,
     "start_time": "2024-01-01T22:38:22.513346",
     "status": "completed"
    },
    "tags": []
   },
   "outputs": [
    {
     "name": "stderr",
     "output_type": "stream",
     "text": [
      "/opt/conda/lib/python3.10/site-packages/scipy/__init__.py:146: UserWarning: A NumPy version >=1.16.5 and <1.23.0 is required for this version of SciPy (detected version 1.24.3\n",
      "  warnings.warn(f\"A NumPy version >={np_minversion} and <{np_maxversion}\"\n"
     ]
    }
   ],
   "source": [
    "import pandas as pd\n",
    "import numpy as np\n",
    "import matplotlib.pyplot as plt\n",
    "import os\n",
    "\n",
    "import torch\n",
    "import torch.nn as nn\n",
    "import torch.nn.functional as F\n",
    "from torch.utils.data import Dataset, DataLoader\n",
    "from sklearn.model_selection import train_test_split\n",
    "\n",
    "from tqdm import tqdm\n",
    "from copy import deepcopy\n",
    "\n",
    "seed = 1911\n",
    "np.random.seed(seed)\n",
    "torch.manual_seed(seed)\n",
    "torch.cuda.manual_seed_all(seed)\n",
    "torch.Generator().manual_seed(42);"
   ]
  },
  {
   "cell_type": "code",
   "execution_count": 2,
   "id": "d8f6f13a",
   "metadata": {
    "execution": {
     "iopub.execute_input": "2024-01-01T22:38:27.402182Z",
     "iopub.status.busy": "2024-01-01T22:38:27.401723Z",
     "iopub.status.idle": "2024-01-01T22:38:32.070144Z",
     "shell.execute_reply": "2024-01-01T22:38:32.069208Z"
    },
    "papermill": {
     "duration": 4.681482,
     "end_time": "2024-01-01T22:38:32.072566",
     "exception": false,
     "start_time": "2024-01-01T22:38:27.391084",
     "status": "completed"
    },
    "tags": []
   },
   "outputs": [
    {
     "data": {
      "text/html": [
       "<div>\n",
       "<style scoped>\n",
       "    .dataframe tbody tr th:only-of-type {\n",
       "        vertical-align: middle;\n",
       "    }\n",
       "\n",
       "    .dataframe tbody tr th {\n",
       "        vertical-align: top;\n",
       "    }\n",
       "\n",
       "    .dataframe thead th {\n",
       "        text-align: right;\n",
       "    }\n",
       "</style>\n",
       "<table border=\"1\" class=\"dataframe\">\n",
       "  <thead>\n",
       "    <tr style=\"text-align: right;\">\n",
       "      <th></th>\n",
       "      <th>label</th>\n",
       "      <th>pixel1</th>\n",
       "      <th>pixel2</th>\n",
       "      <th>pixel3</th>\n",
       "      <th>pixel4</th>\n",
       "      <th>pixel5</th>\n",
       "      <th>pixel6</th>\n",
       "      <th>pixel7</th>\n",
       "      <th>pixel8</th>\n",
       "      <th>pixel9</th>\n",
       "      <th>...</th>\n",
       "      <th>pixel775</th>\n",
       "      <th>pixel776</th>\n",
       "      <th>pixel777</th>\n",
       "      <th>pixel778</th>\n",
       "      <th>pixel779</th>\n",
       "      <th>pixel780</th>\n",
       "      <th>pixel781</th>\n",
       "      <th>pixel782</th>\n",
       "      <th>pixel783</th>\n",
       "      <th>pixel784</th>\n",
       "    </tr>\n",
       "  </thead>\n",
       "  <tbody>\n",
       "    <tr>\n",
       "      <th>0</th>\n",
       "      <td>3</td>\n",
       "      <td>107</td>\n",
       "      <td>118</td>\n",
       "      <td>127</td>\n",
       "      <td>134</td>\n",
       "      <td>139</td>\n",
       "      <td>143</td>\n",
       "      <td>146</td>\n",
       "      <td>150</td>\n",
       "      <td>153</td>\n",
       "      <td>...</td>\n",
       "      <td>207</td>\n",
       "      <td>207</td>\n",
       "      <td>207</td>\n",
       "      <td>207</td>\n",
       "      <td>206</td>\n",
       "      <td>206</td>\n",
       "      <td>206</td>\n",
       "      <td>204</td>\n",
       "      <td>203</td>\n",
       "      <td>202</td>\n",
       "    </tr>\n",
       "    <tr>\n",
       "      <th>1</th>\n",
       "      <td>6</td>\n",
       "      <td>155</td>\n",
       "      <td>157</td>\n",
       "      <td>156</td>\n",
       "      <td>156</td>\n",
       "      <td>156</td>\n",
       "      <td>157</td>\n",
       "      <td>156</td>\n",
       "      <td>158</td>\n",
       "      <td>158</td>\n",
       "      <td>...</td>\n",
       "      <td>69</td>\n",
       "      <td>149</td>\n",
       "      <td>128</td>\n",
       "      <td>87</td>\n",
       "      <td>94</td>\n",
       "      <td>163</td>\n",
       "      <td>175</td>\n",
       "      <td>103</td>\n",
       "      <td>135</td>\n",
       "      <td>149</td>\n",
       "    </tr>\n",
       "  </tbody>\n",
       "</table>\n",
       "<p>2 rows × 785 columns</p>\n",
       "</div>"
      ],
      "text/plain": [
       "   label  pixel1  pixel2  pixel3  pixel4  pixel5  pixel6  pixel7  pixel8  \\\n",
       "0      3     107     118     127     134     139     143     146     150   \n",
       "1      6     155     157     156     156     156     157     156     158   \n",
       "\n",
       "   pixel9  ...  pixel775  pixel776  pixel777  pixel778  pixel779  pixel780  \\\n",
       "0     153  ...       207       207       207       207       206       206   \n",
       "1     158  ...        69       149       128        87        94       163   \n",
       "\n",
       "   pixel781  pixel782  pixel783  pixel784  \n",
       "0       206       204       203       202  \n",
       "1       175       103       135       149  \n",
       "\n",
       "[2 rows x 785 columns]"
      ]
     },
     "execution_count": 2,
     "metadata": {},
     "output_type": "execute_result"
    }
   ],
   "source": [
    "# import os\n",
    "# current_directory = os.getcwd()\n",
    "\n",
    "# df_train = pd.read_csv(current_directory + '\\DataSource' + '\\sign_mnist_train.csv')\n",
    "# df_test = pd.read_csv(current_directory + '\\DataSource' + '\\sign_mnist_test.csv')\n",
    "# df_train.head(2)\n",
    "\n",
    "\n",
    "df_train = pd.read_csv(\"/kaggle/input/sign-language-mnist/sign_mnist_train/sign_mnist_train.csv\")\n",
    "df_test = pd.read_csv('/kaggle/input/sign-language-mnist/sign_mnist_test/sign_mnist_test.csv')\n",
    "df_train.head(2)"
   ]
  },
  {
   "cell_type": "markdown",
   "id": "d562122e",
   "metadata": {
    "papermill": {
     "duration": 0.009663,
     "end_time": "2024-01-01T22:38:32.092600",
     "exception": false,
     "start_time": "2024-01-01T22:38:32.082937",
     "status": "completed"
    },
    "tags": []
   },
   "source": [
    "> Noticed there is no class 9 > [0 ... 7,8,10, ...] so lets make all labels consistant;\n",
    "> by make them start from zero to 24"
   ]
  },
  {
   "cell_type": "code",
   "execution_count": 3,
   "id": "48bf0404",
   "metadata": {
    "execution": {
     "iopub.execute_input": "2024-01-01T22:38:32.113960Z",
     "iopub.status.busy": "2024-01-01T22:38:32.113611Z",
     "iopub.status.idle": "2024-01-01T22:38:32.143984Z",
     "shell.execute_reply": "2024-01-01T22:38:32.143103Z"
    },
    "papermill": {
     "duration": 0.043238,
     "end_time": "2024-01-01T22:38:32.145806",
     "exception": false,
     "start_time": "2024-01-01T22:38:32.102568",
     "status": "completed"
    },
    "tags": []
   },
   "outputs": [],
   "source": [
    "df_train.label = df_train['label'].apply(lambda x: x - 1 if x > 9 else x)\n",
    "df_test.label = df_test['label'].apply(lambda x: x - 1 if x > 9 else x)"
   ]
  },
  {
   "cell_type": "code",
   "execution_count": 4,
   "id": "d9c76180",
   "metadata": {
    "execution": {
     "iopub.execute_input": "2024-01-01T22:38:32.166706Z",
     "iopub.status.busy": "2024-01-01T22:38:32.166375Z",
     "iopub.status.idle": "2024-01-01T22:38:32.171064Z",
     "shell.execute_reply": "2024-01-01T22:38:32.170209Z"
    },
    "papermill": {
     "duration": 0.017621,
     "end_time": "2024-01-01T22:38:32.173298",
     "exception": false,
     "start_time": "2024-01-01T22:38:32.155677",
     "status": "completed"
    },
    "tags": []
   },
   "outputs": [
    {
     "name": "stdout",
     "output_type": "stream",
     "text": [
      "Shape of Train dataSet is: (27455, 785)\n",
      "Shape of Validation dataSet is: (7172, 785)\n"
     ]
    }
   ],
   "source": [
    "print(f'Shape of Train dataSet is: {df_train.shape}')\n",
    "print(f'Shape of Validation dataSet is: {df_test.shape}')"
   ]
  },
  {
   "cell_type": "markdown",
   "id": "bda91bbf",
   "metadata": {
    "papermill": {
     "duration": 0.009633,
     "end_time": "2024-01-01T22:38:32.193550",
     "exception": false,
     "start_time": "2024-01-01T22:38:32.183917",
     "status": "completed"
    },
    "tags": []
   },
   "source": [
    "<a id='preprocessing'></a>\n",
    "### Data preprocessing"
   ]
  },
  {
   "cell_type": "markdown",
   "id": "40e82041",
   "metadata": {
    "papermill": {
     "duration": 0.009666,
     "end_time": "2024-01-01T22:38:32.213167",
     "exception": false,
     "start_time": "2024-01-01T22:38:32.203501",
     "status": "completed"
    },
    "tags": []
   },
   "source": [
    "> Making readable labels"
   ]
  },
  {
   "cell_type": "code",
   "execution_count": 5,
   "id": "1ece985b",
   "metadata": {
    "execution": {
     "iopub.execute_input": "2024-01-01T22:38:32.234533Z",
     "iopub.status.busy": "2024-01-01T22:38:32.233884Z",
     "iopub.status.idle": "2024-01-01T22:38:32.238066Z",
     "shell.execute_reply": "2024-01-01T22:38:32.237278Z"
    },
    "papermill": {
     "duration": 0.016958,
     "end_time": "2024-01-01T22:38:32.239993",
     "exception": false,
     "start_time": "2024-01-01T22:38:32.223035",
     "status": "completed"
    },
    "tags": []
   },
   "outputs": [],
   "source": [
    "import string\n",
    "Alphabet_labels = list(string.ascii_letters)"
   ]
  },
  {
   "cell_type": "markdown",
   "id": "c75c6b5a",
   "metadata": {
    "papermill": {
     "duration": 0.009693,
     "end_time": "2024-01-01T22:38:32.259607",
     "exception": false,
     "start_time": "2024-01-01T22:38:32.249914",
     "status": "completed"
    },
    "tags": []
   },
   "source": [
    "> Converting images into shape of w x h"
   ]
  },
  {
   "cell_type": "code",
   "execution_count": 6,
   "id": "7c44db60",
   "metadata": {
    "execution": {
     "iopub.execute_input": "2024-01-01T22:38:32.280947Z",
     "iopub.status.busy": "2024-01-01T22:38:32.280332Z",
     "iopub.status.idle": "2024-01-01T22:38:32.285359Z",
     "shell.execute_reply": "2024-01-01T22:38:32.284603Z"
    },
    "papermill": {
     "duration": 0.0177,
     "end_time": "2024-01-01T22:38:32.287243",
     "exception": false,
     "start_time": "2024-01-01T22:38:32.269543",
     "status": "completed"
    },
    "tags": []
   },
   "outputs": [],
   "source": [
    "def vector_of_pixels_to_image(pixels):\n",
    "    imgWidth = int(np.sqrt(pixels.shape[1]))\n",
    "    \n",
    "    x = pixels / 255\n",
    "    print(f'Shape befor resizing: {len(x)}')\n",
    "    x = x.values.reshape(-1, imgWidth, imgWidth)\n",
    "    print(f'Shape after resizing: {x.shape}')\n",
    "    \n",
    "    return x"
   ]
  },
  {
   "cell_type": "code",
   "execution_count": 7,
   "id": "9a602367",
   "metadata": {
    "execution": {
     "iopub.execute_input": "2024-01-01T22:38:32.307915Z",
     "iopub.status.busy": "2024-01-01T22:38:32.307647Z",
     "iopub.status.idle": "2024-01-01T22:38:32.516255Z",
     "shell.execute_reply": "2024-01-01T22:38:32.515478Z"
    },
    "papermill": {
     "duration": 0.221529,
     "end_time": "2024-01-01T22:38:32.518628",
     "exception": false,
     "start_time": "2024-01-01T22:38:32.297099",
     "status": "completed"
    },
    "tags": []
   },
   "outputs": [],
   "source": [
    "x_train, x_val, y_train, y_val = train_test_split(df_train.iloc[:, 1:], df_train.label, random_state=seed)\n",
    "x_test, y_test = df_test.iloc[:, 1:], df_test.label"
   ]
  },
  {
   "cell_type": "code",
   "execution_count": 8,
   "id": "46739176",
   "metadata": {
    "execution": {
     "iopub.execute_input": "2024-01-01T22:38:32.540075Z",
     "iopub.status.busy": "2024-01-01T22:38:32.539792Z",
     "iopub.status.idle": "2024-01-01T22:38:32.577950Z",
     "shell.execute_reply": "2024-01-01T22:38:32.577008Z"
    },
    "papermill": {
     "duration": 0.051223,
     "end_time": "2024-01-01T22:38:32.580164",
     "exception": false,
     "start_time": "2024-01-01T22:38:32.528941",
     "status": "completed"
    },
    "tags": []
   },
   "outputs": [
    {
     "name": "stdout",
     "output_type": "stream",
     "text": [
      "Shape befor resizing: 20591\n",
      "Shape after resizing: (20591, 28, 28)\n"
     ]
    }
   ],
   "source": [
    "x_train = vector_of_pixels_to_image(x_train)\n",
    "y_train = np.array(y_train)"
   ]
  },
  {
   "cell_type": "code",
   "execution_count": 9,
   "id": "03ff4d2a",
   "metadata": {
    "execution": {
     "iopub.execute_input": "2024-01-01T22:38:32.602017Z",
     "iopub.status.busy": "2024-01-01T22:38:32.601670Z",
     "iopub.status.idle": "2024-01-01T22:38:32.619361Z",
     "shell.execute_reply": "2024-01-01T22:38:32.618343Z"
    },
    "papermill": {
     "duration": 0.031053,
     "end_time": "2024-01-01T22:38:32.621643",
     "exception": false,
     "start_time": "2024-01-01T22:38:32.590590",
     "status": "completed"
    },
    "tags": []
   },
   "outputs": [
    {
     "name": "stdout",
     "output_type": "stream",
     "text": [
      "Shape befor resizing: 6864\n",
      "Shape after resizing: (6864, 28, 28)\n"
     ]
    }
   ],
   "source": [
    "x_val = vector_of_pixels_to_image(x_val)\n",
    "y_val = np.array(y_val)"
   ]
  },
  {
   "cell_type": "code",
   "execution_count": 10,
   "id": "11daefa5",
   "metadata": {
    "execution": {
     "iopub.execute_input": "2024-01-01T22:38:32.643395Z",
     "iopub.status.busy": "2024-01-01T22:38:32.643075Z",
     "iopub.status.idle": "2024-01-01T22:38:32.671206Z",
     "shell.execute_reply": "2024-01-01T22:38:32.670045Z"
    },
    "papermill": {
     "duration": 0.041724,
     "end_time": "2024-01-01T22:38:32.673765",
     "exception": false,
     "start_time": "2024-01-01T22:38:32.632041",
     "status": "completed"
    },
    "tags": []
   },
   "outputs": [
    {
     "name": "stdout",
     "output_type": "stream",
     "text": [
      "Shape befor resizing: 7172\n",
      "Shape after resizing: (7172, 28, 28)\n"
     ]
    }
   ],
   "source": [
    "x_test = vector_of_pixels_to_image(df_test.iloc[:, 1:])\n",
    "y_test = np.array(df_test.label)"
   ]
  },
  {
   "cell_type": "markdown",
   "id": "3a28d706",
   "metadata": {
    "papermill": {
     "duration": 0.009988,
     "end_time": "2024-01-01T22:38:32.694643",
     "exception": false,
     "start_time": "2024-01-01T22:38:32.684655",
     "status": "completed"
    },
    "tags": []
   },
   "source": [
    "<a id='preprocessing'></a>\n",
    "### Exploratory Data Analysis (EDA)"
   ]
  },
  {
   "cell_type": "markdown",
   "id": "6929004b",
   "metadata": {
    "papermill": {
     "duration": 0.009924,
     "end_time": "2024-01-01T22:38:32.714681",
     "exception": false,
     "start_time": "2024-01-01T22:38:32.704757",
     "status": "completed"
    },
    "tags": []
   },
   "source": [
    "#### Plotting unique signs"
   ]
  },
  {
   "cell_type": "code",
   "execution_count": 11,
   "id": "f904828c",
   "metadata": {
    "execution": {
     "iopub.execute_input": "2024-01-01T22:38:32.736162Z",
     "iopub.status.busy": "2024-01-01T22:38:32.735862Z",
     "iopub.status.idle": "2024-01-01T22:38:32.741610Z",
     "shell.execute_reply": "2024-01-01T22:38:32.740844Z"
    },
    "papermill": {
     "duration": 0.01869,
     "end_time": "2024-01-01T22:38:32.743569",
     "exception": false,
     "start_time": "2024-01-01T22:38:32.724879",
     "status": "completed"
    },
    "tags": []
   },
   "outputs": [],
   "source": [
    "y_unique = np.unique(y_train)\n",
    "unique_images = []\n",
    "for label in y_unique:\n",
    "    indices = np.where(y_train == label)[0]\n",
    "    unique_images.append(x_train[indices[0]])"
   ]
  },
  {
   "cell_type": "code",
   "execution_count": 12,
   "id": "ed08f62a",
   "metadata": {
    "execution": {
     "iopub.execute_input": "2024-01-01T22:38:32.765543Z",
     "iopub.status.busy": "2024-01-01T22:38:32.765250Z",
     "iopub.status.idle": "2024-01-01T22:38:34.365129Z",
     "shell.execute_reply": "2024-01-01T22:38:34.364241Z"
    },
    "papermill": {
     "duration": 1.613109,
     "end_time": "2024-01-01T22:38:34.367084",
     "exception": false,
     "start_time": "2024-01-01T22:38:32.753975",
     "status": "completed"
    },
    "tags": []
   },
   "outputs": [
    {
     "data": {
      "image/png": "[encoded data removed]",
      "text/plain": [
       "<Figure size 1000x700 with 24 Axes>"
      ]
     },
     "metadata": {},
     "output_type": "display_data"
    }
   ],
   "source": [
    "plt.figure(figsize=(10, 7))\n",
    "n = len(y_unique)\n",
    "for i in range(n):\n",
    "    ax = plt.subplot(4, n // 4, i + 1)\n",
    "    plt.imshow(unique_images[i], cmap='gray')\n",
    "    plt.title(f'{y_unique[i]} :: {Alphabet_labels[y_unique[i]]}')\n",
    "    plt.axis('off')"
   ]
  },
  {
   "cell_type": "markdown",
   "id": "8ff7a9cf",
   "metadata": {
    "papermill": {
     "duration": 0.01116,
     "end_time": "2024-01-01T22:38:34.434910",
     "exception": false,
     "start_time": "2024-01-01T22:38:34.423750",
     "status": "completed"
    },
    "tags": []
   },
   "source": [
    "> The distribution of the signs in our training set"
   ]
  },
  {
   "cell_type": "code",
   "execution_count": 13,
   "id": "f6e58744",
   "metadata": {
    "execution": {
     "iopub.execute_input": "2024-01-01T22:38:34.458757Z",
     "iopub.status.busy": "2024-01-01T22:38:34.458356Z",
     "iopub.status.idle": "2024-01-01T22:38:34.833191Z",
     "shell.execute_reply": "2024-01-01T22:38:34.832256Z"
    },
    "papermill": {
     "duration": 0.389288,
     "end_time": "2024-01-01T22:38:34.835309",
     "exception": false,
     "start_time": "2024-01-01T22:38:34.446021",
     "status": "completed"
    },
    "tags": []
   },
   "outputs": [
    {
     "data": {
      "image/png": "[encoded data removed]",
      "text/plain": [
       "<Figure size 1000x500 with 1 Axes>"
      ]
     },
     "metadata": {},
     "output_type": "display_data"
    }
   ],
   "source": [
    "plt.figure(figsize=(10, 5));\n",
    "df_train.label.value_counts().sort_index().plot(kind='bar');\n",
    "plt.title('Number of images per class');\n",
    "plt.ylabel('Number of images');\n",
    "plt.xlabel('Label');\n",
    "\n",
    "plt.xticks(ticks=df_train.label.unique(), labels=[Alphabet_labels[label] for label in df_train.label.unique()], rotation=0);"
   ]
  },
  {
   "cell_type": "markdown",
   "id": "23dc446c",
   "metadata": {
    "papermill": {
     "duration": 0.011844,
     "end_time": "2024-01-01T22:38:34.858906",
     "exception": false,
     "start_time": "2024-01-01T22:38:34.847062",
     "status": "completed"
    },
    "tags": []
   },
   "source": [
    "> We notice that the distribution of all labels seems equal."
   ]
  },
  {
   "cell_type": "markdown",
   "id": "95d8419b",
   "metadata": {
    "papermill": {
     "duration": 0.011446,
     "end_time": "2024-01-01T22:38:34.882302",
     "exception": false,
     "start_time": "2024-01-01T22:38:34.870856",
     "status": "completed"
    },
    "tags": []
   },
   "source": [
    "<a id='CNN'></a>\n",
    "### CNN Model"
   ]
  },
  {
   "cell_type": "code",
   "execution_count": 14,
   "id": "5bbc6db6",
   "metadata": {
    "execution": {
     "iopub.execute_input": "2024-01-01T22:38:34.906873Z",
     "iopub.status.busy": "2024-01-01T22:38:34.906503Z",
     "iopub.status.idle": "2024-01-01T22:38:34.979273Z",
     "shell.execute_reply": "2024-01-01T22:38:34.978234Z"
    },
    "papermill": {
     "duration": 0.088029,
     "end_time": "2024-01-01T22:38:34.981867",
     "exception": false,
     "start_time": "2024-01-01T22:38:34.893838",
     "status": "completed"
    },
    "tags": []
   },
   "outputs": [],
   "source": [
    "from torch.utils.data import Dataset, dataloader\n",
    "\n",
    "class myDataSet(Dataset):\n",
    "    def __init__(self, x, y):\n",
    "        self.x = x\n",
    "        self.y = y\n",
    "    \n",
    "    def __len__(self):\n",
    "        return self.y.shape[0]\n",
    "    \n",
    "    def __getitem__(self, index):\n",
    "        return self.x[index], self.y[index]\n",
    "    \n",
    "\n",
    "x_train_tensors = torch.tensor(x_train, dtype=torch.float32).reshape(-1, 1, 28, 28)\n",
    "y_train_tensors = torch.tensor(y_train, dtype=torch.float32)\n",
    "\n",
    "x_val_tensors = torch.tensor(x_val, dtype=torch.float32).reshape(-1, 1, 28, 28)\n",
    "y_val_tensors = torch.tensor(y_val, dtype=torch.float32)\n",
    "\n",
    "x_test_tensors = torch.tensor(x_test, dtype=torch.float32).reshape(-1, 1, 28, 28)\n",
    "y_test_tensors = torch.tensor(y_test, dtype=torch.float32)\n",
    "\n",
    "train_dataset = myDataSet(x_train_tensors, y_train_tensors)\n",
    "val_dataset = myDataSet(x_val_tensors, y_val_tensors)\n",
    "test_dataset = myDataSet(x_test_tensors, y_test_tensors)\n",
    "\n",
    "\n",
    "train_loader = DataLoader(train_dataset, batch_size=32, shuffle=True)\n",
    "val_loader = DataLoader(val_dataset, batch_size=32, shuffle=True)\n",
    "test_loader = DataLoader(train_dataset, batch_size=32, shuffle=True)"
   ]
  },
  {
   "cell_type": "code",
   "execution_count": 15,
   "id": "dd751cc5",
   "metadata": {
    "execution": {
     "iopub.execute_input": "2024-01-01T22:38:35.007944Z",
     "iopub.status.busy": "2024-01-01T22:38:35.007605Z",
     "iopub.status.idle": "2024-01-01T22:38:37.903664Z",
     "shell.execute_reply": "2024-01-01T22:38:37.902874Z"
    },
    "papermill": {
     "duration": 2.91095,
     "end_time": "2024-01-01T22:38:37.906033",
     "exception": false,
     "start_time": "2024-01-01T22:38:34.995083",
     "status": "completed"
    },
    "tags": []
   },
   "outputs": [],
   "source": [
    "class HandGestureModel(nn.Module):\n",
    "    def __init__(self, dropout_rate=0.25):\n",
    "        super(HandGestureModel, self).__init__()\n",
    "        self.network = nn.Sequential(\n",
    "            nn.Conv2d(1, 32, kernel_size=3, padding=1),\n",
    "            nn.BatchNorm2d(32),\n",
    "            nn.ReLU(),\n",
    "\n",
    "            nn.Conv2d(32, 64, kernel_size=3, stride=1, padding=1),\n",
    "            nn.BatchNorm2d(64),\n",
    "            nn.ReLU(),\n",
    "            nn.MaxPool2d(2, 2),\n",
    "            nn.Dropout2d(dropout_rate),\n",
    "\n",
    "            nn.Conv2d(64, 128, kernel_size=3, stride=1, padding=1),\n",
    "            nn.BatchNorm2d(128),\n",
    "            nn.ReLU(),\n",
    "            nn.Dropout2d(dropout_rate),\n",
    "\n",
    "            nn.Conv2d(128, 128, kernel_size=3, stride=1, padding=1),\n",
    "            nn.BatchNorm2d(128),\n",
    "            nn.ReLU(),\n",
    "            nn.MaxPool2d(2, 2),\n",
    "            nn.Dropout2d(dropout_rate),\n",
    "\n",
    "            nn.Conv2d(128, 256, kernel_size=3, stride=1, padding=1),\n",
    "            nn.BatchNorm2d(256),\n",
    "            nn.ReLU(),\n",
    "            nn.Dropout2d(dropout_rate),\n",
    "\n",
    "            nn.Conv2d(256, 256, kernel_size=3, stride=1, padding=1),\n",
    "            nn.BatchNorm2d(256),\n",
    "            nn.ReLU(),\n",
    "            nn.MaxPool2d(2, 2),\n",
    "            nn.Dropout2d(dropout_rate),\n",
    "\n",
    "            nn.Flatten(),\n",
    "            nn.Linear(2304, 512),\n",
    "            nn.BatchNorm1d(512),\n",
    "            nn.ReLU(),\n",
    "            nn.Dropout(dropout_rate),\n",
    "\n",
    "            nn.Linear(512, 256),\n",
    "            nn.BatchNorm1d(256),\n",
    "            nn.ReLU(),\n",
    "            nn.Dropout(dropout_rate),\n",
    "\n",
    "            nn.Linear(256, 128),\n",
    "            nn.BatchNorm1d(128),\n",
    "            nn.ReLU(),\n",
    "\n",
    "            nn.Linear(128, 24)\n",
    "        )\n",
    "\n",
    "    def forward(self, xb):\n",
    "        return self.network(xb)\n",
    "\n",
    "device = 'cuda' if torch.cuda.is_available() else 'cpu'\n",
    "model = HandGestureModel().to(device)"
   ]
  },
  {
   "cell_type": "code",
   "execution_count": 16,
   "id": "9c066d31",
   "metadata": {
    "execution": {
     "iopub.execute_input": "2024-01-01T22:38:37.932053Z",
     "iopub.status.busy": "2024-01-01T22:38:37.931697Z",
     "iopub.status.idle": "2024-01-01T22:38:37.937777Z",
     "shell.execute_reply": "2024-01-01T22:38:37.936953Z"
    },
    "papermill": {
     "duration": 0.021382,
     "end_time": "2024-01-01T22:38:37.939745",
     "exception": false,
     "start_time": "2024-01-01T22:38:37.918363",
     "status": "completed"
    },
    "tags": []
   },
   "outputs": [],
   "source": [
    "learning_rate = 5e-4\n",
    "num_epochs = 20\n",
    "patience = 3 # Number of epochs to wait if validation loss doesn't improve\n",
    "best_val_loss = float('inf')\n",
    "\n",
    "counter = 0\n",
    "\n",
    "optimizer = torch.optim.Adam(model.parameters(), lr=learning_rate, weight_decay=4e-5)\n",
    "criterion = nn.CrossEntropyLoss()\n",
    "\n",
    "scheduler = torch.optim.lr_scheduler.StepLR(optimizer, step_size=1, gamma=0.950)"
   ]
  },
  {
   "cell_type": "code",
   "execution_count": 17,
   "id": "d61b023b",
   "metadata": {
    "execution": {
     "iopub.execute_input": "2024-01-01T22:38:37.964167Z",
     "iopub.status.busy": "2024-01-01T22:38:37.963900Z",
     "iopub.status.idle": "2024-01-01T22:38:37.972527Z",
     "shell.execute_reply": "2024-01-01T22:38:37.971601Z"
    },
    "papermill": {
     "duration": 0.02425,
     "end_time": "2024-01-01T22:38:37.975585",
     "exception": false,
     "start_time": "2024-01-01T22:38:37.951335",
     "status": "completed"
    },
    "tags": []
   },
   "outputs": [],
   "source": [
    "def train(model, optimizer, criterion, train_loader):\n",
    "    model.train()\n",
    "    running_loss = 0.0\n",
    "    for i, data in tqdm(enumerate(train_loader), desc='Training', total=len(train_loader)):\n",
    "        optimizer.zero_grad()\n",
    "        # Forward pass\n",
    "        x, y = data[0].to(device), data[1].to(device).to(torch.long)\n",
    "        \n",
    "        output = model(x)\n",
    "        \n",
    "        loss = criterion(output, y)\n",
    "        \n",
    "        # Backward pass\n",
    "        loss.backward()\n",
    "        \n",
    "        # Updating parameters\n",
    "        optimizer.step()\n",
    "\n",
    "        # Monitoring\n",
    "        running_loss += loss.item()\n",
    "        \n",
    "    return running_loss / len(train_loader)\n",
    "\n",
    "\n",
    "def evaluate(model, criterion, val_loader):\n",
    "    model.eval()\n",
    "    running_loss = 0.0\n",
    "    with torch.no_grad():\n",
    "        for data in val_loader:\n",
    "            x, y = data[0].to(device), data[1].to(device).to(torch.long)\n",
    "        \n",
    "            output = model(x)\n",
    "            # prediction = torch.argmax(output, axis=1)\n",
    "            \n",
    "            loss = criterion(output, y)\n",
    "                \n",
    "            running_loss += loss.item()\n",
    "            \n",
    "    return running_loss / len(val_loader)"
   ]
  },
  {
   "cell_type": "code",
   "execution_count": 18,
   "id": "7a0dd3db",
   "metadata": {
    "execution": {
     "iopub.execute_input": "2024-01-01T22:38:38.017319Z",
     "iopub.status.busy": "2024-01-01T22:38:38.016972Z",
     "iopub.status.idle": "2024-01-01T22:40:04.424087Z",
     "shell.execute_reply": "2024-01-01T22:40:04.423162Z"
    },
    "papermill": {
     "duration": 86.430474,
     "end_time": "2024-01-01T22:40:04.426128",
     "exception": false,
     "start_time": "2024-01-01T22:38:37.995654",
     "status": "completed"
    },
    "tags": []
   },
   "outputs": [
    {
     "name": "stderr",
     "output_type": "stream",
     "text": [
      "Training: 100%|██████████| 644/644 [00:10<00:00, 61.47it/s] \n"
     ]
    },
    {
     "name": "stdout",
     "output_type": "stream",
     "text": [
      "Validating ...\n",
      "Epoch [1/20], Train Loss: 1.2052, Validation Loss: 0.0532\n"
     ]
    },
    {
     "name": "stderr",
     "output_type": "stream",
     "text": [
      "Training: 100%|██████████| 644/644 [00:04<00:00, 132.20it/s]\n"
     ]
    },
    {
     "name": "stdout",
     "output_type": "stream",
     "text": [
      "Validating ...\n",
      "Epoch [2/20], Train Loss: 0.1036, Validation Loss: 0.0078\n"
     ]
    },
    {
     "name": "stderr",
     "output_type": "stream",
     "text": [
      "Training: 100%|██████████| 644/644 [00:04<00:00, 131.40it/s]\n"
     ]
    },
    {
     "name": "stdout",
     "output_type": "stream",
     "text": [
      "Validating ...\n",
      "Epoch [3/20], Train Loss: 0.0461, Validation Loss: 0.0018\n"
     ]
    },
    {
     "name": "stderr",
     "output_type": "stream",
     "text": [
      "Training: 100%|██████████| 644/644 [00:04<00:00, 132.17it/s]\n"
     ]
    },
    {
     "name": "stdout",
     "output_type": "stream",
     "text": [
      "Validating ...\n",
      "Epoch [4/20], Train Loss: 0.0322, Validation Loss: 0.0005\n"
     ]
    },
    {
     "name": "stderr",
     "output_type": "stream",
     "text": [
      "Training: 100%|██████████| 644/644 [00:04<00:00, 131.18it/s]\n"
     ]
    },
    {
     "name": "stdout",
     "output_type": "stream",
     "text": [
      "Validating ...\n",
      "Epoch [5/20], Train Loss: 0.0285, Validation Loss: 0.0007\n"
     ]
    },
    {
     "name": "stderr",
     "output_type": "stream",
     "text": [
      "Training: 100%|██████████| 644/644 [00:04<00:00, 130.66it/s]\n"
     ]
    },
    {
     "name": "stdout",
     "output_type": "stream",
     "text": [
      "Validating ...\n",
      "Epoch [6/20], Train Loss: 0.0215, Validation Loss: 0.0002\n"
     ]
    },
    {
     "name": "stderr",
     "output_type": "stream",
     "text": [
      "Training: 100%|██████████| 644/644 [00:04<00:00, 130.19it/s]\n"
     ]
    },
    {
     "name": "stdout",
     "output_type": "stream",
     "text": [
      "Validating ...\n",
      "Epoch [7/20], Train Loss: 0.0215, Validation Loss: 0.0003\n"
     ]
    },
    {
     "name": "stderr",
     "output_type": "stream",
     "text": [
      "Training: 100%|██████████| 644/644 [00:04<00:00, 131.32it/s]\n"
     ]
    },
    {
     "name": "stdout",
     "output_type": "stream",
     "text": [
      "Validating ...\n",
      "Epoch [8/20], Train Loss: 0.0154, Validation Loss: 0.0001\n"
     ]
    },
    {
     "name": "stderr",
     "output_type": "stream",
     "text": [
      "Training: 100%|██████████| 644/644 [00:04<00:00, 131.45it/s]\n"
     ]
    },
    {
     "name": "stdout",
     "output_type": "stream",
     "text": [
      "Validating ...\n",
      "Epoch [9/20], Train Loss: 0.0162, Validation Loss: 0.0002\n"
     ]
    },
    {
     "name": "stderr",
     "output_type": "stream",
     "text": [
      "Training: 100%|██████████| 644/644 [00:04<00:00, 131.56it/s]\n"
     ]
    },
    {
     "name": "stdout",
     "output_type": "stream",
     "text": [
      "Validating ...\n",
      "Epoch [10/20], Train Loss: 0.0187, Validation Loss: 0.0000\n"
     ]
    },
    {
     "name": "stderr",
     "output_type": "stream",
     "text": [
      "Training: 100%|██████████| 644/644 [00:04<00:00, 131.36it/s]\n"
     ]
    },
    {
     "name": "stdout",
     "output_type": "stream",
     "text": [
      "Validating ...\n",
      "Epoch [11/20], Train Loss: 0.0138, Validation Loss: 0.0002\n"
     ]
    },
    {
     "name": "stderr",
     "output_type": "stream",
     "text": [
      "Training: 100%|██████████| 644/644 [00:04<00:00, 130.85it/s]\n"
     ]
    },
    {
     "name": "stdout",
     "output_type": "stream",
     "text": [
      "Validating ...\n",
      "Epoch [12/20], Train Loss: 0.0136, Validation Loss: 0.0000\n"
     ]
    },
    {
     "name": "stderr",
     "output_type": "stream",
     "text": [
      "Training: 100%|██████████| 644/644 [00:04<00:00, 130.70it/s]\n"
     ]
    },
    {
     "name": "stdout",
     "output_type": "stream",
     "text": [
      "Validating ...\n",
      "Epoch [13/20], Train Loss: 0.0114, Validation Loss: 0.0001\n"
     ]
    },
    {
     "name": "stderr",
     "output_type": "stream",
     "text": [
      "Training: 100%|██████████| 644/644 [00:04<00:00, 131.56it/s]\n"
     ]
    },
    {
     "name": "stdout",
     "output_type": "stream",
     "text": [
      "Validating ...\n",
      "Epoch [14/20], Train Loss: 0.0078, Validation Loss: 0.0000\n",
      "Learning rate decreased!, now is 0.000475\n"
     ]
    },
    {
     "name": "stderr",
     "output_type": "stream",
     "text": [
      "Training: 100%|██████████| 644/644 [00:04<00:00, 131.81it/s]\n"
     ]
    },
    {
     "name": "stdout",
     "output_type": "stream",
     "text": [
      "Validating ...\n",
      "Epoch [15/20], Train Loss: 0.0110, Validation Loss: 0.0000\n",
      "Validation loss did not improve for 3 epochs. Stopping early.\n"
     ]
    }
   ],
   "source": [
    "train_losses = []\n",
    "val_losses = []\n",
    "\n",
    "#Training\n",
    "for epoch in range(num_epochs):\n",
    "    # Training loop\n",
    "    train_loss = train(model, optimizer, criterion, train_loader)\n",
    "    train_losses.append(train_loss)\n",
    "    \n",
    "    # Evaluation loop\n",
    "    print('Validating ...')\n",
    "    val_loss = evaluate(model, criterion, val_loader)\n",
    "    val_losses.append(val_loss)\n",
    "    \n",
    "    # Printing and monitoring\n",
    "    print(f'Epoch [{epoch + 1}/{num_epochs}], Train Loss: {train_loss:.4f}, Validation Loss: {val_loss:.4f}')\n",
    "    \n",
    "    \n",
    "    # Early stopping\n",
    "    if val_loss < best_val_loss:\n",
    "        best_val_loss = val_loss\n",
    "        best_model = deepcopy(model)\n",
    "        # save_checkpoint(best_model, optimizer, epoch)\n",
    "        counter = 0\n",
    "        \n",
    "    else:\n",
    "        counter += 1\n",
    "        if counter >= patience:\n",
    "            print(f'Validation loss did not improve for {patience} epochs. Stopping early.')\n",
    "            break\n",
    "        if counter in range(2, 20, 2):\n",
    "            scheduler.step()\n",
    "            print(f\"Learning rate decreased!, now is {optimizer.state_dict()['param_groups'][0]['lr']}\")"
   ]
  },
  {
   "cell_type": "code",
   "execution_count": 19,
   "id": "41c1e3c0",
   "metadata": {
    "execution": {
     "iopub.execute_input": "2024-01-01T22:40:04.568460Z",
     "iopub.status.busy": "2024-01-01T22:40:04.567571Z",
     "iopub.status.idle": "2024-01-01T22:40:04.857625Z",
     "shell.execute_reply": "2024-01-01T22:40:04.856694Z"
    },
    "papermill": {
     "duration": 0.363195,
     "end_time": "2024-01-01T22:40:04.859656",
     "exception": false,
     "start_time": "2024-01-01T22:40:04.496461",
     "status": "completed"
    },
    "tags": []
   },
   "outputs": [
    {
     "data": {
      "image/png": "[encoded data removed]",
      "text/plain": [
       "<Figure size 640x480 with 1 Axes>"
      ]
     },
     "metadata": {},
     "output_type": "display_data"
    }
   ],
   "source": [
    "plt.plot(train_losses, label=f'Best training    loss: {min(train_losses):.4f}');\n",
    "plt.plot(val_losses, label=f'Best validation loss: {min(val_losses):.4f}');\n",
    "plt.legend();"
   ]
  },
  {
   "cell_type": "code",
   "execution_count": 20,
   "id": "70eb50d7",
   "metadata": {
    "execution": {
     "iopub.execute_input": "2024-01-01T22:40:05.002974Z",
     "iopub.status.busy": "2024-01-01T22:40:05.002620Z",
     "iopub.status.idle": "2024-01-01T22:40:05.037916Z",
     "shell.execute_reply": "2024-01-01T22:40:05.037113Z"
    },
    "papermill": {
     "duration": 0.109487,
     "end_time": "2024-01-01T22:40:05.040070",
     "exception": false,
     "start_time": "2024-01-01T22:40:04.930583",
     "status": "completed"
    },
    "tags": []
   },
   "outputs": [],
   "source": [
    "checkpoint_dir = \"./checkpoints\"\n",
    "\n",
    "if not os.path.exists(checkpoint_dir):\n",
    "    os.makedirs(checkpoint_dir)\n",
    "    \n",
    "checkpoint_path = os.path.join(checkpoint_dir, f'Best_model_hg.pt')\n",
    "\n",
    "torch.save({\n",
    "    'model': best_model,\n",
    "    'model_state_dict': best_model.state_dict()\n",
    "}, checkpoint_path)"
   ]
  },
  {
   "cell_type": "markdown",
   "id": "e2e768c5",
   "metadata": {
    "papermill": {
     "duration": 0.070487,
     "end_time": "2024-01-01T22:40:05.181267",
     "exception": false,
     "start_time": "2024-01-01T22:40:05.110780",
     "status": "completed"
    },
    "tags": []
   },
   "source": [
    "---"
   ]
  },
  {
   "cell_type": "code",
   "execution_count": 21,
   "id": "0a4352e1",
   "metadata": {
    "execution": {
     "iopub.execute_input": "2024-01-01T22:40:05.323107Z",
     "iopub.status.busy": "2024-01-01T22:40:05.322745Z",
     "iopub.status.idle": "2024-01-01T22:40:05.326814Z",
     "shell.execute_reply": "2024-01-01T22:40:05.325989Z"
    },
    "papermill": {
     "duration": 0.07729,
     "end_time": "2024-01-01T22:40:05.328851",
     "exception": false,
     "start_time": "2024-01-01T22:40:05.251561",
     "status": "completed"
    },
    "tags": []
   },
   "outputs": [],
   "source": [
    "# checkpoint = torch.load('./checkpoints/Best_model_hg.pt')\n",
    "# model = checkpoint['model']\n",
    "# model.load_state_dict(checkpoint['model_state_dict'])"
   ]
  },
  {
   "cell_type": "markdown",
   "id": "5a230b1f",
   "metadata": {
    "papermill": {
     "duration": 0.06937,
     "end_time": "2024-01-01T22:40:05.467651",
     "exception": false,
     "start_time": "2024-01-01T22:40:05.398281",
     "status": "completed"
    },
    "tags": []
   },
   "source": [
    "<a id='evaluation'></a>\n",
    "### Evaluating the model with confusion matrix & f1 score"
   ]
  },
  {
   "cell_type": "code",
   "execution_count": 22,
   "id": "bfae4e16",
   "metadata": {
    "execution": {
     "iopub.execute_input": "2024-01-01T22:40:05.607407Z",
     "iopub.status.busy": "2024-01-01T22:40:05.607130Z",
     "iopub.status.idle": "2024-01-01T22:40:07.122189Z",
     "shell.execute_reply": "2024-01-01T22:40:07.121204Z"
    },
    "papermill": {
     "duration": 1.587718,
     "end_time": "2024-01-01T22:40:07.124648",
     "exception": false,
     "start_time": "2024-01-01T22:40:05.536930",
     "status": "completed"
    },
    "tags": []
   },
   "outputs": [],
   "source": [
    "best_model.eval()\n",
    "\n",
    "predicted_labels = []\n",
    "all_true_labels = []\n",
    "with torch.no_grad():\n",
    "    for i, data in enumerate(test_loader):\n",
    "        outputs = best_model(data[0].to(device))\n",
    "        _, predicted = torch.max(outputs, 1)\n",
    "        \n",
    "        predicted_labels.extend(predicted.cpu().numpy())\n",
    "        all_true_labels.extend(data[1])"
   ]
  },
  {
   "cell_type": "code",
   "execution_count": 23,
   "id": "cc738279",
   "metadata": {
    "execution": {
     "iopub.execute_input": "2024-01-01T22:40:07.267073Z",
     "iopub.status.busy": "2024-01-01T22:40:07.266723Z",
     "iopub.status.idle": "2024-01-01T22:40:09.774995Z",
     "shell.execute_reply": "2024-01-01T22:40:09.774025Z"
    },
    "papermill": {
     "duration": 2.581661,
     "end_time": "2024-01-01T22:40:09.777198",
     "exception": false,
     "start_time": "2024-01-01T22:40:07.195537",
     "status": "completed"
    },
    "tags": []
   },
   "outputs": [
    {
     "data": {
      "image/png": "[encoded data removed]",
      "text/plain": [
       "<Figure size 1500x1500 with 2 Axes>"
      ]
     },
     "metadata": {},
     "output_type": "display_data"
    }
   ],
   "source": [
    "from sklearn.metrics import confusion_matrix\n",
    "import seaborn as sns\n",
    "\n",
    "plt.figure(figsize=(15, 15));\n",
    "cm = confusion_matrix(all_true_labels, predicted_labels);\n",
    "# sns.heatmap(cm, cmap=sns.cubehelix_palette(as_cmap=True));\n",
    "\n",
    "\n",
    "ax = sns.heatmap(cm, annot=True, linewidth=1,  fmt='d');\n",
    "ax.set(xlabel=\"prediction\", ylabel=\"actual label\");\n",
    "# ax.xaxis.tick_top()"
   ]
  },
  {
   "cell_type": "code",
   "execution_count": 24,
   "id": "09d9968b",
   "metadata": {
    "execution": {
     "iopub.execute_input": "2024-01-01T22:40:09.924867Z",
     "iopub.status.busy": "2024-01-01T22:40:09.924490Z",
     "iopub.status.idle": "2024-01-01T22:40:10.835788Z",
     "shell.execute_reply": "2024-01-01T22:40:10.834694Z"
    },
    "papermill": {
     "duration": 0.986255,
     "end_time": "2024-01-01T22:40:10.837833",
     "exception": false,
     "start_time": "2024-01-01T22:40:09.851578",
     "status": "completed"
    },
    "tags": []
   },
   "outputs": [
    {
     "name": "stdout",
     "output_type": "stream",
     "text": [
      "The model has f1 score = 1.00000\n"
     ]
    }
   ],
   "source": [
    "from sklearn.metrics import f1_score\n",
    "\n",
    "f1_score = f1_score(all_true_labels, predicted_labels, average='weighted')\n",
    "print(f'The model has f1 score = {f1_score:.05f}')"
   ]
  },
  {
   "cell_type": "markdown",
   "id": "88c6ce99",
   "metadata": {
    "papermill": {
     "duration": 0.072236,
     "end_time": "2024-01-01T22:40:10.982789",
     "exception": false,
     "start_time": "2024-01-01T22:40:10.910553",
     "status": "completed"
    },
    "tags": []
   },
   "source": [
    "### Testing the model on some data to see its response"
   ]
  },
  {
   "cell_type": "code",
   "execution_count": 25,
   "id": "72ef9860",
   "metadata": {
    "execution": {
     "iopub.execute_input": "2024-01-01T22:40:11.127148Z",
     "iopub.status.busy": "2024-01-01T22:40:11.126786Z",
     "iopub.status.idle": "2024-01-01T22:40:12.079312Z",
     "shell.execute_reply": "2024-01-01T22:40:12.078330Z"
    },
    "papermill": {
     "duration": 1.027343,
     "end_time": "2024-01-01T22:40:12.081382",
     "exception": false,
     "start_time": "2024-01-01T22:40:11.054039",
     "status": "completed"
    },
    "tags": []
   },
   "outputs": [
    {
     "data": {
      "image/png": "[encoded data removed]",
      "text/plain": [
       "<Figure size 1500x500 with 10 Axes>"
      ]
     },
     "metadata": {},
     "output_type": "display_data"
    }
   ],
   "source": [
    "test_gen = iter(test_loader)\n",
    "images, labels = next(test_gen)\n",
    "\n",
    "plt.figure(figsize=(15, 5))\n",
    "for i in range(10):\n",
    "    ax = plt.subplot(2, 5, i + 1)\n",
    "    \n",
    "    img = images[i]\n",
    "    plt.imshow(img.reshape(28, 28), cmap='gray')\n",
    "    \n",
    "    output = best_model(img.to(device).reshape(1, 1, 28, 28))\n",
    "    y_pred = torch.argmax(output, dim=1).item()\n",
    "    \n",
    "    y_true = int(labels[i])\n",
    "    \n",
    "    plt.title(f\"y_true: {Alphabet_labels[y_true]} :: y_pred: {Alphabet_labels[y_pred]}\")\n",
    "    plt.axis('off')    "
   ]
  }
 ],
 "metadata": {
  "interpreter": {
   "hash": "6a8ab12e6b3ed4ebc099bdb603e12ed98d3b4a6cb4b5889ce835d57d89267821"
  },
  "kaggle": {
   "accelerator": "gpu",
   "dataSources": [
    {
     "datasetId": 3258,
     "sourceId": 5337,
     "sourceType": "datasetVersion"
    }
   ],
   "isGpuEnabled": true,
   "isInternetEnabled": true,
   "language": "python",
   "sourceType": "notebook"
  },
  "kernelspec": {
   "display_name": "Python 3",
   "language": "python",
   "name": "python3"
  },
  "language_info": {
   "codemirror_mode": {
    "name": "ipython",
    "version": 3
   },
   "file_extension": ".py",
   "mimetype": "text/x-python",
   "name": "python",
   "nbconvert_exporter": "python",
   "pygments_lexer": "ipython3",
   "version": "3.10.12"
  },
  "papermill": {
   "default_parameters": {},
   "duration": 115.559635,
   "end_time": "2024-01-01T22:40:14.655974",
   "environment_variables": {},
   "exception": null,
   "input_path": "__notebook__.ipynb",
   "output_path": "__notebook__.ipynb",
   "parameters": {},
   "start_time": "2024-01-01T22:38:19.096339",
   "version": "2.4.0"
  }
 },
 "nbformat": 4,
 "nbformat_minor": 5
}
